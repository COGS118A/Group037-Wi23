{
  "cells": [
    {
      "cell_type": "markdown",
      "metadata": {
        "id": "mDPZaLD2kPpQ"
      },
      "source": [
        "# COGS 118A - Final Project"
      ]
    },
    {
      "cell_type": "markdown",
      "metadata": {
        "id": "T_hLUXDMkPpT"
      },
      "source": [
        "# Chess Winner Prediction and Data Analysis\n",
        "\n",
        "## Group members\n",
        "\n",
        "- Kalam Park\n",
        "- Kira Fleischer\n",
        "- Cray Minor"
      ]
    },
    {
      "cell_type": "markdown",
      "metadata": {
        "id": "lUwB2P-gkPpU"
      },
      "source": [
        "# Abstract \n",
        "This section should be short and clearly stated. It should be a single paragraph <200 words.  It should summarize: \n",
        "- what your goal/problem is\n",
        "- what the data used represents \n",
        "- the solution/what you did\n",
        "- major results you came up with (mention how results are measured) \n",
        "\n",
        "__NB:__ this final project form is much more report-like than the proposal and the checkpoint. Think in terms of writing a paper with bits of code in the middle to make the plots/tables\n",
        "\n",
        "The goal of the reserach is to take advatnage of Lichess's online recorded matches to determine the factors that most strongly influences winning and to build a model that is able to predict the winner based on the factors found. The data used in this project represents various quantitative and qualitative measures of the competitors (~20,000 matches), in which we will use Logistic Regression as a baseline model using the significant factors, and create a filtered dataset for further analysis and model selection. We currently plan to use the SVM and Random Forests algorithms to select the model whilst cross-validating the model using metrics such as precision, recall, F1 score, and accuracy. This research aims to contribute to the understanding of complex competition, as well as assist in developing game strategies that closely links to success.\n"
      ]
    },
    {
      "cell_type": "markdown",
      "metadata": {
        "id": "9QovpcmckPpU"
      },
      "source": [
        "# Background\n",
        "\n",
        "Chess is one of the world's most popular strategy games to date, and its ever-growing popularity has been heavily expedited due to the growing number of online platforms (Chess.com, Lichess) and users. With numerous events, streams, tutors, and creators online, chess can now be played and learned virtually anytime, anywhere. With the insurmountable amount of variations, openings, and data that comes with chess, the average player likely just scracthes the surface in understanding the deep complexity the game consists of. The emergence of AI and machine learning have offered a solution to this common dilemma, by providing a way to compute the mass amounts of available data and train the computer to do the thinking for them. That being said, AI and chess bots are amongst the most well known examples, popular for its near perfect chess performance, as well as a way of cheating.<a name=\"lorenz\"></a>[<sup>[1]</sup>](#lorenznote) There has also been a lot of research on chess analysis and playing, such as Stockfish project, an opensource chess analysis algorithm which can provide players with an after game review with one of the most powerful chessbots.<a name=\"lorenz\"></a>[<sup>[2]</sup>](#lorenznote) Evidently such knowledge can be highly beneficial in strategizing moves, openings, and sequences.\n",
        "\n",
        "Similarly, our proposed work aims to provide helpful information by analyzing 20,000 Lichess matches and highlighting the variables that most heavily influences a user to win the match. Upon gathering these factors, we plan to restructure and split the dataset in order to train a model into predicting a winner based on some user inputs. This in hopes will help users strategize between openings, first moves, and help determine if white pieces really have an inherent advantage in novice to professional level matches. <a name=\"lorenz\"></a>[<sup>[3]</sup>](#lorenznote)\n"
      ]
    },
    {
      "cell_type": "markdown",
      "metadata": {
        "id": "zp_Nj8akkPpV"
      },
      "source": [
        "# Problem Statement\n",
        "\n",
        "Each side starting with 16 pieces, 6 different roles, and 64 squares there are nearly 10^120 different chess game variations, also known as Shannon's Number, which is more than there are atoms in the observable universe. <a name=\"lorenz\"></a>[<sup>[4]</sup>](#lorenznote) We will be looking at the different features contained within our data to see the highest correlated with a win for white(1), a win for black(0), or a draw (2). Logistic Regression will serve as our baseline classifier because of its simplicity and replicability. We will compare its performance to more complex algorithms such as Random Forests and Support Vector Machinees quantified using confusion matricies and a ROC curve. After evaluation we select the model that performs best on the test and validation sets and its ability to generalize, to provide a comprehensive analysis of these games and potential winning strategies. \n"
      ]
    },
    {
      "cell_type": "markdown",
      "metadata": {
        "id": "_k1k9YKIkPpV"
      },
      "source": [
        "# Data\n",
        "\n",
        "Detail how/where you obtained the data and cleaned it (if necessary)\n",
        "\n",
        "If the data cleaning process is very long (e.g., elaborate text processing) consider describing it briefly here in text, and moving the actual clearning process to another notebook in your repo (include a link here!).  The idea behind this approach: this is a report, and if you blow up the flow of the report to include a lot of code it makes it hard to read.\n",
        "\n",
        "Please give the following infomration for each dataset you are using\n",
        "- link/reference to obtain it\n",
        "- description of the size of the dataset (# of variables, # of observations)\n",
        "- what an observation consists of\n",
        "- what some critical variables are, how they are represented\n",
        "- any special handling, transformations, cleaning, etc you have done should be demonstrated here!\n",
        "\n",
        "\n",
        "### Chess Game Dataset - Lichess (https://www.kaggle.com/datasets/datasnaek/chess)\n",
        "- A collection of ~20,000 recorded chess matches between two Lichess users \n",
        "- Contains 16 variables \n",
        "    - Game ID; \n",
        "    - Rated (T/F);\n",
        "    - Start Time;\n",
        "    - End Time;\n",
        "    - Number of Turns;\n",
        "    - Game Status;\n",
        "    - Winner;\n",
        "    - Time Increment;\n",
        "    - White Player ID;\n",
        "    - White Player Rating;\n",
        "    - Black Player ID;\n",
        "    - Black Player Rating;\n",
        "    - All Moves in Standard Chess Notation;\n",
        "    - Opening Eco (Standardised Code for any given opening, list here);\n",
        "    - Opening Name;\n",
        "    - Opening Ply (Number of moves in the opening phase)\n",
        "\n",
        "\n",
        "- Evidently some varibales will be more impactful than others, some critical ones are as listed:\n",
        "    - White/Black rating (ranking)\n",
        "    - Opening move \n",
        "    - Piece colors\n",
        "\n",
        "A lot of the categorzing is done for us since each opening move has a respective eco code. There are some varibales such as Game status and Winner that can be categorized numerically. We also plan to just completely remove some variables we believe should have no impact or influence on predicting who would win a game (ex: Game status, All Moves in Standard Chess Notation, Game ID, player IDs, etc.)\n"
      ]
    },
    {
      "cell_type": "markdown",
      "metadata": {
        "id": "9_SZgEqTkPpW"
      },
      "source": [
        "### Data Cleaning "
      ]
    },
    {
      "cell_type": "markdown",
      "metadata": {
        "id": "GojTT7sBkPpW"
      },
      "source": [
        "**Import relevant packages**"
      ]
    },
    {
      "cell_type": "code",
      "execution_count": 1,
      "metadata": {
        "id": "Bu23_okrkPpX"
      },
      "outputs": [],
      "source": [
        "import pandas as pd \n",
        "from sklearn.model_selection import train_test_split, LearningCurveDisplay, learning_curve\n",
        "from sklearn.linear_model import LogisticRegression\n",
        "from sklearn.metrics import accuracy_score, f1_score, precision_score, recall_score, confusion_matrix, ConfusionMatrixDisplay\n",
        "from sklearn.ensemble import RandomForestClassifier, RandomForestRegressor\n",
        "from sklearn.svm import SVC\n",
        "import matplotlib.pyplot as plt\n",
        "import numpy as np\n",
        "import seaborn as sns"
      ]
    },
    {
      "cell_type": "markdown",
      "metadata": {
        "id": "5xyejtsbkPpY"
      },
      "source": [
        "**Bring data csv into pandas dataframe & set match ID as index**"
      ]
    },
    {
      "cell_type": "code",
      "execution_count": 2,
      "metadata": {
        "colab": {
          "base_uri": "https://localhost:8080/",
          "height": 725
        },
        "id": "lS90kPVOkPpY",
        "outputId": "18f0a090-8125-42d7-f889-df757a7447fd"
      },
      "outputs": [
        {
          "data": {
            "text/html": [
              "<div>\n",
              "<style scoped>\n",
              "    .dataframe tbody tr th:only-of-type {\n",
              "        vertical-align: middle;\n",
              "    }\n",
              "\n",
              "    .dataframe tbody tr th {\n",
              "        vertical-align: top;\n",
              "    }\n",
              "\n",
              "    .dataframe thead th {\n",
              "        text-align: right;\n",
              "    }\n",
              "</style>\n",
              "<table border=\"1\" class=\"dataframe\">\n",
              "  <thead>\n",
              "    <tr style=\"text-align: right;\">\n",
              "      <th></th>\n",
              "      <th>rated</th>\n",
              "      <th>created_at</th>\n",
              "      <th>last_move_at</th>\n",
              "      <th>turns</th>\n",
              "      <th>victory_status</th>\n",
              "      <th>winner</th>\n",
              "      <th>increment_code</th>\n",
              "      <th>white_id</th>\n",
              "      <th>white_rating</th>\n",
              "      <th>black_id</th>\n",
              "      <th>black_rating</th>\n",
              "      <th>moves</th>\n",
              "      <th>opening_eco</th>\n",
              "      <th>opening_name</th>\n",
              "      <th>opening_ply</th>\n",
              "    </tr>\n",
              "    <tr>\n",
              "      <th>id</th>\n",
              "      <th></th>\n",
              "      <th></th>\n",
              "      <th></th>\n",
              "      <th></th>\n",
              "      <th></th>\n",
              "      <th></th>\n",
              "      <th></th>\n",
              "      <th></th>\n",
              "      <th></th>\n",
              "      <th></th>\n",
              "      <th></th>\n",
              "      <th></th>\n",
              "      <th></th>\n",
              "      <th></th>\n",
              "      <th></th>\n",
              "    </tr>\n",
              "  </thead>\n",
              "  <tbody>\n",
              "    <tr>\n",
              "      <th>TZJHLljE</th>\n",
              "      <td>False</td>\n",
              "      <td>2017-08-31 20:06:40</td>\n",
              "      <td>2017-08-31 20:06:40</td>\n",
              "      <td>13</td>\n",
              "      <td>outoftime</td>\n",
              "      <td>white</td>\n",
              "      <td>15+2</td>\n",
              "      <td>bourgris</td>\n",
              "      <td>1500</td>\n",
              "      <td>a-00</td>\n",
              "      <td>1191</td>\n",
              "      <td>d4 d5 c4 c6 cxd5 e6 dxe6 fxe6 Nf3 Bb4+ Nc3 Ba5...</td>\n",
              "      <td>D10</td>\n",
              "      <td>Slav Defense: Exchange Variation</td>\n",
              "      <td>5</td>\n",
              "    </tr>\n",
              "    <tr>\n",
              "      <th>l1NXvwaE</th>\n",
              "      <td>True</td>\n",
              "      <td>2017-08-30 21:53:20</td>\n",
              "      <td>2017-08-30 21:53:20</td>\n",
              "      <td>16</td>\n",
              "      <td>resign</td>\n",
              "      <td>black</td>\n",
              "      <td>5+10</td>\n",
              "      <td>a-00</td>\n",
              "      <td>1322</td>\n",
              "      <td>skinnerua</td>\n",
              "      <td>1261</td>\n",
              "      <td>d4 Nc6 e4 e5 f4 f6 dxe5 fxe5 fxe5 Nxe5 Qd4 Nc6...</td>\n",
              "      <td>B00</td>\n",
              "      <td>Nimzowitsch Defense: Kennedy Variation</td>\n",
              "      <td>4</td>\n",
              "    </tr>\n",
              "    <tr>\n",
              "      <th>mIICvQHh</th>\n",
              "      <td>True</td>\n",
              "      <td>2017-08-30 21:53:20</td>\n",
              "      <td>2017-08-30 21:53:20</td>\n",
              "      <td>61</td>\n",
              "      <td>mate</td>\n",
              "      <td>white</td>\n",
              "      <td>5+10</td>\n",
              "      <td>ischia</td>\n",
              "      <td>1496</td>\n",
              "      <td>a-00</td>\n",
              "      <td>1500</td>\n",
              "      <td>e4 e5 d3 d6 Be3 c6 Be2 b5 Nd2 a5 a4 c5 axb5 Nc...</td>\n",
              "      <td>C20</td>\n",
              "      <td>King's Pawn Game: Leonardis Variation</td>\n",
              "      <td>3</td>\n",
              "    </tr>\n",
              "  </tbody>\n",
              "</table>\n",
              "</div>"
            ],
            "text/plain": [
              "          rated          created_at        last_move_at  turns victory_status  \\\n",
              "id                                                                              \n",
              "TZJHLljE  False 2017-08-31 20:06:40 2017-08-31 20:06:40     13      outoftime   \n",
              "l1NXvwaE   True 2017-08-30 21:53:20 2017-08-30 21:53:20     16         resign   \n",
              "mIICvQHh   True 2017-08-30 21:53:20 2017-08-30 21:53:20     61           mate   \n",
              "\n",
              "         winner increment_code  white_id  white_rating   black_id  \\\n",
              "id                                                                  \n",
              "TZJHLljE  white           15+2  bourgris          1500       a-00   \n",
              "l1NXvwaE  black           5+10      a-00          1322  skinnerua   \n",
              "mIICvQHh  white           5+10    ischia          1496       a-00   \n",
              "\n",
              "          black_rating                                              moves  \\\n",
              "id                                                                          \n",
              "TZJHLljE          1191  d4 d5 c4 c6 cxd5 e6 dxe6 fxe6 Nf3 Bb4+ Nc3 Ba5...   \n",
              "l1NXvwaE          1261  d4 Nc6 e4 e5 f4 f6 dxe5 fxe5 fxe5 Nxe5 Qd4 Nc6...   \n",
              "mIICvQHh          1500  e4 e5 d3 d6 Be3 c6 Be2 b5 Nd2 a5 a4 c5 axb5 Nc...   \n",
              "\n",
              "         opening_eco                            opening_name  opening_ply  \n",
              "id                                                                         \n",
              "TZJHLljE         D10        Slav Defense: Exchange Variation            5  \n",
              "l1NXvwaE         B00  Nimzowitsch Defense: Kennedy Variation            4  \n",
              "mIICvQHh         C20   King's Pawn Game: Leonardis Variation            3  "
            ]
          },
          "execution_count": 2,
          "metadata": {},
          "output_type": "execute_result"
        }
      ],
      "source": [
        "df = pd.read_csv('data/games.csv').set_index('id')\n",
        "\n",
        "#convert unix time so it's readable \n",
        "df['created_at'] = pd.to_datetime(df['created_at'], unit='ms')\n",
        "df['last_move_at'] = pd.to_datetime(df['last_move_at'], unit='ms')\n",
        "df.head(3)"
      ]
    },
    {
      "cell_type": "code",
      "execution_count": 3,
      "metadata": {
        "colab": {
          "base_uri": "https://localhost:8080/"
        },
        "id": "aztgyq2vkPpZ",
        "outputId": "f56e6e3b-34e7-4b5f-da9d-464e98987a2e"
      },
      "outputs": [
        {
          "name": "stdout",
          "output_type": "stream",
          "text": [
            "<class 'pandas.core.frame.DataFrame'>\n",
            "Index: 20058 entries, TZJHLljE to N8G2JHGG\n",
            "Data columns (total 15 columns):\n",
            " #   Column          Non-Null Count  Dtype         \n",
            "---  ------          --------------  -----         \n",
            " 0   rated           20058 non-null  bool          \n",
            " 1   created_at      20058 non-null  datetime64[ns]\n",
            " 2   last_move_at    20058 non-null  datetime64[ns]\n",
            " 3   turns           20058 non-null  int64         \n",
            " 4   victory_status  20058 non-null  object        \n",
            " 5   winner          20058 non-null  object        \n",
            " 6   increment_code  20058 non-null  object        \n",
            " 7   white_id        20058 non-null  object        \n",
            " 8   white_rating    20058 non-null  int64         \n",
            " 9   black_id        20058 non-null  object        \n",
            " 10  black_rating    20058 non-null  int64         \n",
            " 11  moves           20058 non-null  object        \n",
            " 12  opening_eco     20058 non-null  object        \n",
            " 13  opening_name    20058 non-null  object        \n",
            " 14  opening_ply     20058 non-null  int64         \n",
            "dtypes: bool(1), datetime64[ns](2), int64(4), object(8)\n",
            "memory usage: 2.3+ MB\n"
          ]
        }
      ],
      "source": [
        "df.info()"
      ]
    },
    {
      "cell_type": "markdown",
      "metadata": {
        "id": "LLQn7DChkPpZ"
      },
      "source": [
        "**Remove user ID to preserve privacy and does not perrtain to our project purpose**"
      ]
    },
    {
      "cell_type": "code",
      "execution_count": 4,
      "metadata": {
        "id": "aFPUP6TQkPpZ"
      },
      "outputs": [],
      "source": [
        "df = df.drop(['white_id', 'black_id'], axis=1)"
      ]
    },
    {
      "cell_type": "code",
      "execution_count": 5,
      "metadata": {
        "colab": {
          "base_uri": "https://localhost:8080/"
        },
        "id": "eifKn6m6kPpZ",
        "outputId": "d9078602-40e5-497d-c239-9aab99ea640d"
      },
      "outputs": [
        {
          "name": "stdout",
          "output_type": "stream",
          "text": [
            "First 11 openings:\n"
          ]
        },
        {
          "data": {
            "text/plain": [
              "Van't Kruijs Opening                             368\n",
              "Sicilian Defense                                 358\n",
              "Sicilian Defense: Bowdler Attack                 296\n",
              "Scotch Game                                      271\n",
              "French Defense: Knight Variation                 271\n",
              "Scandinavian Defense: Mieses-Kotroc Variation    259\n",
              "Queen's Pawn Game: Mason Attack                  232\n",
              "Queen's Pawn Game: Chigorin Variation            229\n",
              "Scandinavian Defense                             223\n",
              "Horwitz Defense                                  209\n",
              "Caro-Kann Defense                                199\n",
              "Name: opening_name, dtype: int64"
            ]
          },
          "execution_count": 5,
          "metadata": {},
          "output_type": "execute_result"
        }
      ],
      "source": [
        "print(f\"First 11 openings:\")\n",
        "df['opening_name'].value_counts()[:11]"
      ]
    },
    {
      "cell_type": "code",
      "execution_count": 6,
      "metadata": {
        "colab": {
          "base_uri": "https://localhost:8080/"
        },
        "id": "s4iqCQiokPpZ",
        "outputId": "75e221b6-7053-4338-b5a7-67682a2d78f1"
      },
      "outputs": [
        {
          "name": "stdout",
          "output_type": "stream",
          "text": [
            "The best openings with white: \n"
          ]
        },
        {
          "data": {
            "text/plain": [
              "opening_name                                   winner\n",
              "Scandinavian Defense: Mieses-Kotroc Variation  white     164\n",
              "Sicilian Defense                               white     149\n",
              "Scotch Game                                    white     145\n",
              "French Defense: Knight Variation               white     135\n",
              "Philidor Defense #3                            white     127\n",
              "Van't Kruijs Opening                           white     126\n",
              "Sicilian Defense: Bowdler Attack               white     119\n",
              "Queen's Pawn Game: Mason Attack                white     116\n",
              "Queen's Pawn Game: Chigorin Variation          white     112\n",
              "Horwitz Defense                                white     110\n",
              "dtype: int64"
            ]
          },
          "execution_count": 6,
          "metadata": {},
          "output_type": "execute_result"
        }
      ],
      "source": [
        "print(\"The best openings with white: \")\n",
        "\n",
        "Gr_white = df[df['winner']=='white']\n",
        "Gr_white[['opening_name', 'winner']].value_counts().sort_values(ascending=False)[:10]"
      ]
    },
    {
      "cell_type": "code",
      "execution_count": 7,
      "metadata": {
        "colab": {
          "base_uri": "https://localhost:8080/"
        },
        "id": "NwfjYCaZkPpa",
        "outputId": "34d225a1-05da-4e15-af83-4c3c51e27540"
      },
      "outputs": [
        {
          "name": "stdout",
          "output_type": "stream",
          "text": [
            "The best openings with Black: \n"
          ]
        },
        {
          "data": {
            "text/plain": [
              "opening_name                           winner\n",
              "Van't Kruijs Opening                   black     226\n",
              "Sicilian Defense                       black     194\n",
              "Sicilian Defense: Bowdler Attack       black     164\n",
              "Scandinavian Defense                   black     123\n",
              "French Defense: Knight Variation       black     121\n",
              "Scotch Game                            black     115\n",
              "Queen's Pawn Game: Chigorin Variation  black     109\n",
              "Queen's Pawn Game: Mason Attack        black     103\n",
              "Indian Game                            black     100\n",
              "Philidor Defense #2                    black      96\n",
              "dtype: int64"
            ]
          },
          "execution_count": 7,
          "metadata": {},
          "output_type": "execute_result"
        }
      ],
      "source": [
        "print(\"The best openings with Black: \")\n",
        "\n",
        "Gr_black = df[df['winner']=='black']\n",
        "Gr_black[['opening_name', 'winner']].value_counts().sort_values(ascending=False)[:10]"
      ]
    },
    {
      "cell_type": "markdown",
      "metadata": {
        "id": "vEifnwwakPpa"
      },
      "source": [
        "**The opening name should also be removed, opening name is repetitive**"
      ]
    },
    {
      "cell_type": "code",
      "execution_count": 8,
      "metadata": {
        "colab": {
          "base_uri": "https://localhost:8080/",
          "height": 455
        },
        "id": "Uku2c5ynkPpa",
        "outputId": "6b0b1994-49a2-4bc5-dea6-767431b79673"
      },
      "outputs": [
        {
          "data": {
            "text/html": [
              "<div>\n",
              "<style scoped>\n",
              "    .dataframe tbody tr th:only-of-type {\n",
              "        vertical-align: middle;\n",
              "    }\n",
              "\n",
              "    .dataframe tbody tr th {\n",
              "        vertical-align: top;\n",
              "    }\n",
              "\n",
              "    .dataframe thead th {\n",
              "        text-align: right;\n",
              "    }\n",
              "</style>\n",
              "<table border=\"1\" class=\"dataframe\">\n",
              "  <thead>\n",
              "    <tr style=\"text-align: right;\">\n",
              "      <th></th>\n",
              "      <th>rated</th>\n",
              "      <th>created_at</th>\n",
              "      <th>last_move_at</th>\n",
              "      <th>turns</th>\n",
              "      <th>victory_status</th>\n",
              "      <th>winner</th>\n",
              "      <th>increment_code</th>\n",
              "      <th>white_rating</th>\n",
              "      <th>black_rating</th>\n",
              "      <th>moves</th>\n",
              "      <th>opening_eco</th>\n",
              "      <th>opening_ply</th>\n",
              "    </tr>\n",
              "    <tr>\n",
              "      <th>id</th>\n",
              "      <th></th>\n",
              "      <th></th>\n",
              "      <th></th>\n",
              "      <th></th>\n",
              "      <th></th>\n",
              "      <th></th>\n",
              "      <th></th>\n",
              "      <th></th>\n",
              "      <th></th>\n",
              "      <th></th>\n",
              "      <th></th>\n",
              "      <th></th>\n",
              "    </tr>\n",
              "  </thead>\n",
              "  <tbody>\n",
              "    <tr>\n",
              "      <th>TZJHLljE</th>\n",
              "      <td>False</td>\n",
              "      <td>2017-08-31 20:06:40</td>\n",
              "      <td>2017-08-31 20:06:40</td>\n",
              "      <td>13</td>\n",
              "      <td>outoftime</td>\n",
              "      <td>white</td>\n",
              "      <td>15+2</td>\n",
              "      <td>1500</td>\n",
              "      <td>1191</td>\n",
              "      <td>d4 d5 c4 c6 cxd5 e6 dxe6 fxe6 Nf3 Bb4+ Nc3 Ba5...</td>\n",
              "      <td>D10</td>\n",
              "      <td>5</td>\n",
              "    </tr>\n",
              "    <tr>\n",
              "      <th>l1NXvwaE</th>\n",
              "      <td>True</td>\n",
              "      <td>2017-08-30 21:53:20</td>\n",
              "      <td>2017-08-30 21:53:20</td>\n",
              "      <td>16</td>\n",
              "      <td>resign</td>\n",
              "      <td>black</td>\n",
              "      <td>5+10</td>\n",
              "      <td>1322</td>\n",
              "      <td>1261</td>\n",
              "      <td>d4 Nc6 e4 e5 f4 f6 dxe5 fxe5 fxe5 Nxe5 Qd4 Nc6...</td>\n",
              "      <td>B00</td>\n",
              "      <td>4</td>\n",
              "    </tr>\n",
              "    <tr>\n",
              "      <th>mIICvQHh</th>\n",
              "      <td>True</td>\n",
              "      <td>2017-08-30 21:53:20</td>\n",
              "      <td>2017-08-30 21:53:20</td>\n",
              "      <td>61</td>\n",
              "      <td>mate</td>\n",
              "      <td>white</td>\n",
              "      <td>5+10</td>\n",
              "      <td>1496</td>\n",
              "      <td>1500</td>\n",
              "      <td>e4 e5 d3 d6 Be3 c6 Be2 b5 Nd2 a5 a4 c5 axb5 Nc...</td>\n",
              "      <td>C20</td>\n",
              "      <td>3</td>\n",
              "    </tr>\n",
              "    <tr>\n",
              "      <th>kWKvrqYL</th>\n",
              "      <td>True</td>\n",
              "      <td>2017-08-30 16:20:00</td>\n",
              "      <td>2017-08-30 16:20:00</td>\n",
              "      <td>61</td>\n",
              "      <td>mate</td>\n",
              "      <td>white</td>\n",
              "      <td>20+0</td>\n",
              "      <td>1439</td>\n",
              "      <td>1454</td>\n",
              "      <td>d4 d5 Nf3 Bf5 Nc3 Nf6 Bf4 Ng4 e3 Nc6 Be2 Qd7 O...</td>\n",
              "      <td>D02</td>\n",
              "      <td>3</td>\n",
              "    </tr>\n",
              "    <tr>\n",
              "      <th>9tXo1AUZ</th>\n",
              "      <td>True</td>\n",
              "      <td>2017-08-29 18:06:40</td>\n",
              "      <td>2017-08-29 18:06:40</td>\n",
              "      <td>95</td>\n",
              "      <td>mate</td>\n",
              "      <td>white</td>\n",
              "      <td>30+3</td>\n",
              "      <td>1523</td>\n",
              "      <td>1469</td>\n",
              "      <td>e4 e5 Nf3 d6 d4 Nc6 d5 Nb4 a3 Na6 Nc3 Be7 b4 N...</td>\n",
              "      <td>C41</td>\n",
              "      <td>5</td>\n",
              "    </tr>\n",
              "  </tbody>\n",
              "</table>\n",
              "</div>"
            ],
            "text/plain": [
              "          rated          created_at        last_move_at  turns victory_status  \\\n",
              "id                                                                              \n",
              "TZJHLljE  False 2017-08-31 20:06:40 2017-08-31 20:06:40     13      outoftime   \n",
              "l1NXvwaE   True 2017-08-30 21:53:20 2017-08-30 21:53:20     16         resign   \n",
              "mIICvQHh   True 2017-08-30 21:53:20 2017-08-30 21:53:20     61           mate   \n",
              "kWKvrqYL   True 2017-08-30 16:20:00 2017-08-30 16:20:00     61           mate   \n",
              "9tXo1AUZ   True 2017-08-29 18:06:40 2017-08-29 18:06:40     95           mate   \n",
              "\n",
              "         winner increment_code  white_rating  black_rating  \\\n",
              "id                                                           \n",
              "TZJHLljE  white           15+2          1500          1191   \n",
              "l1NXvwaE  black           5+10          1322          1261   \n",
              "mIICvQHh  white           5+10          1496          1500   \n",
              "kWKvrqYL  white           20+0          1439          1454   \n",
              "9tXo1AUZ  white           30+3          1523          1469   \n",
              "\n",
              "                                                      moves opening_eco  \\\n",
              "id                                                                        \n",
              "TZJHLljE  d4 d5 c4 c6 cxd5 e6 dxe6 fxe6 Nf3 Bb4+ Nc3 Ba5...         D10   \n",
              "l1NXvwaE  d4 Nc6 e4 e5 f4 f6 dxe5 fxe5 fxe5 Nxe5 Qd4 Nc6...         B00   \n",
              "mIICvQHh  e4 e5 d3 d6 Be3 c6 Be2 b5 Nd2 a5 a4 c5 axb5 Nc...         C20   \n",
              "kWKvrqYL  d4 d5 Nf3 Bf5 Nc3 Nf6 Bf4 Ng4 e3 Nc6 Be2 Qd7 O...         D02   \n",
              "9tXo1AUZ  e4 e5 Nf3 d6 d4 Nc6 d5 Nb4 a3 Na6 Nc3 Be7 b4 N...         C41   \n",
              "\n",
              "          opening_ply  \n",
              "id                     \n",
              "TZJHLljE            5  \n",
              "l1NXvwaE            4  \n",
              "mIICvQHh            3  \n",
              "kWKvrqYL            3  \n",
              "9tXo1AUZ            5  "
            ]
          },
          "execution_count": 8,
          "metadata": {},
          "output_type": "execute_result"
        }
      ],
      "source": [
        "df = df.drop(['opening_name'], axis=1)\n",
        "df.head()"
      ]
    },
    {
      "cell_type": "markdown",
      "metadata": {
        "id": "ra5fcBgAkPpa"
      },
      "source": [
        "**Check for missing values, NaNs, and nulls**\n"
      ]
    },
    {
      "cell_type": "code",
      "execution_count": 9,
      "metadata": {
        "colab": {
          "base_uri": "https://localhost:8080/"
        },
        "id": "ZWVfe_CEkPpa",
        "outputId": "f4e8a061-b0ba-4b9f-9385-c49f8d7d468f"
      },
      "outputs": [
        {
          "data": {
            "text/plain": [
              "rated             False\n",
              "created_at        False\n",
              "last_move_at      False\n",
              "turns             False\n",
              "victory_status    False\n",
              "winner            False\n",
              "increment_code    False\n",
              "white_rating      False\n",
              "black_rating      False\n",
              "moves             False\n",
              "opening_eco       False\n",
              "opening_ply       False\n",
              "dtype: bool"
            ]
          },
          "execution_count": 9,
          "metadata": {},
          "output_type": "execute_result"
        }
      ],
      "source": [
        "df.isna().any()"
      ]
    },
    {
      "cell_type": "markdown",
      "metadata": {
        "id": "9d14J8e2kPpb"
      },
      "source": [
        "**If you take a look at the the created_at and last_move_at time columns, they are exactly the same, so delete them as well**\n"
      ]
    },
    {
      "cell_type": "code",
      "execution_count": 10,
      "metadata": {
        "colab": {
          "base_uri": "https://localhost:8080/",
          "height": 256
        },
        "id": "eyl2fNcvkPpb",
        "outputId": "57b377b8-e5a8-420f-cd99-adbaa088e875"
      },
      "outputs": [
        {
          "data": {
            "text/html": [
              "<div>\n",
              "<style scoped>\n",
              "    .dataframe tbody tr th:only-of-type {\n",
              "        vertical-align: middle;\n",
              "    }\n",
              "\n",
              "    .dataframe tbody tr th {\n",
              "        vertical-align: top;\n",
              "    }\n",
              "\n",
              "    .dataframe thead th {\n",
              "        text-align: right;\n",
              "    }\n",
              "</style>\n",
              "<table border=\"1\" class=\"dataframe\">\n",
              "  <thead>\n",
              "    <tr style=\"text-align: right;\">\n",
              "      <th></th>\n",
              "      <th>rated</th>\n",
              "      <th>created_at</th>\n",
              "      <th>last_move_at</th>\n",
              "      <th>turns</th>\n",
              "      <th>victory_status</th>\n",
              "      <th>winner</th>\n",
              "      <th>increment_code</th>\n",
              "      <th>white_rating</th>\n",
              "      <th>black_rating</th>\n",
              "      <th>moves</th>\n",
              "      <th>opening_eco</th>\n",
              "      <th>opening_ply</th>\n",
              "    </tr>\n",
              "    <tr>\n",
              "      <th>id</th>\n",
              "      <th></th>\n",
              "      <th></th>\n",
              "      <th></th>\n",
              "      <th></th>\n",
              "      <th></th>\n",
              "      <th></th>\n",
              "      <th></th>\n",
              "      <th></th>\n",
              "      <th></th>\n",
              "      <th></th>\n",
              "      <th></th>\n",
              "      <th></th>\n",
              "    </tr>\n",
              "  </thead>\n",
              "  <tbody>\n",
              "    <tr>\n",
              "      <th>TZJHLljE</th>\n",
              "      <td>False</td>\n",
              "      <td>2017-08-31 20:06:40</td>\n",
              "      <td>2017-08-31 20:06:40</td>\n",
              "      <td>13</td>\n",
              "      <td>outoftime</td>\n",
              "      <td>white</td>\n",
              "      <td>15+2</td>\n",
              "      <td>1500</td>\n",
              "      <td>1191</td>\n",
              "      <td>d4 d5 c4 c6 cxd5 e6 dxe6 fxe6 Nf3 Bb4+ Nc3 Ba5...</td>\n",
              "      <td>D10</td>\n",
              "      <td>5</td>\n",
              "    </tr>\n",
              "    <tr>\n",
              "      <th>l1NXvwaE</th>\n",
              "      <td>True</td>\n",
              "      <td>2017-08-30 21:53:20</td>\n",
              "      <td>2017-08-30 21:53:20</td>\n",
              "      <td>16</td>\n",
              "      <td>resign</td>\n",
              "      <td>black</td>\n",
              "      <td>5+10</td>\n",
              "      <td>1322</td>\n",
              "      <td>1261</td>\n",
              "      <td>d4 Nc6 e4 e5 f4 f6 dxe5 fxe5 fxe5 Nxe5 Qd4 Nc6...</td>\n",
              "      <td>B00</td>\n",
              "      <td>4</td>\n",
              "    </tr>\n",
              "  </tbody>\n",
              "</table>\n",
              "</div>"
            ],
            "text/plain": [
              "          rated          created_at        last_move_at  turns victory_status  \\\n",
              "id                                                                              \n",
              "TZJHLljE  False 2017-08-31 20:06:40 2017-08-31 20:06:40     13      outoftime   \n",
              "l1NXvwaE   True 2017-08-30 21:53:20 2017-08-30 21:53:20     16         resign   \n",
              "\n",
              "         winner increment_code  white_rating  black_rating  \\\n",
              "id                                                           \n",
              "TZJHLljE  white           15+2          1500          1191   \n",
              "l1NXvwaE  black           5+10          1322          1261   \n",
              "\n",
              "                                                      moves opening_eco  \\\n",
              "id                                                                        \n",
              "TZJHLljE  d4 d5 c4 c6 cxd5 e6 dxe6 fxe6 Nf3 Bb4+ Nc3 Ba5...         D10   \n",
              "l1NXvwaE  d4 Nc6 e4 e5 f4 f6 dxe5 fxe5 fxe5 Nxe5 Qd4 Nc6...         B00   \n",
              "\n",
              "          opening_ply  \n",
              "id                     \n",
              "TZJHLljE            5  \n",
              "l1NXvwaE            4  "
            ]
          },
          "execution_count": 10,
          "metadata": {},
          "output_type": "execute_result"
        }
      ],
      "source": [
        "df.head(2)"
      ]
    },
    {
      "cell_type": "code",
      "execution_count": 11,
      "metadata": {
        "colab": {
          "base_uri": "https://localhost:8080/",
          "height": 143
        },
        "id": "9oZmUzWvkPpb",
        "outputId": "85dd9f06-f232-408e-f4a1-6fc4f910364a"
      },
      "outputs": [
        {
          "data": {
            "text/html": [
              "<div>\n",
              "<style scoped>\n",
              "    .dataframe tbody tr th:only-of-type {\n",
              "        vertical-align: middle;\n",
              "    }\n",
              "\n",
              "    .dataframe tbody tr th {\n",
              "        vertical-align: top;\n",
              "    }\n",
              "\n",
              "    .dataframe thead th {\n",
              "        text-align: right;\n",
              "    }\n",
              "</style>\n",
              "<table border=\"1\" class=\"dataframe\">\n",
              "  <thead>\n",
              "    <tr style=\"text-align: right;\">\n",
              "      <th></th>\n",
              "      <th>rated</th>\n",
              "      <th>turns</th>\n",
              "      <th>victory_status</th>\n",
              "      <th>winner</th>\n",
              "      <th>increment_code</th>\n",
              "      <th>white_rating</th>\n",
              "      <th>black_rating</th>\n",
              "      <th>moves</th>\n",
              "      <th>opening_eco</th>\n",
              "      <th>opening_ply</th>\n",
              "    </tr>\n",
              "    <tr>\n",
              "      <th>id</th>\n",
              "      <th></th>\n",
              "      <th></th>\n",
              "      <th></th>\n",
              "      <th></th>\n",
              "      <th></th>\n",
              "      <th></th>\n",
              "      <th></th>\n",
              "      <th></th>\n",
              "      <th></th>\n",
              "      <th></th>\n",
              "    </tr>\n",
              "  </thead>\n",
              "  <tbody>\n",
              "    <tr>\n",
              "      <th>TZJHLljE</th>\n",
              "      <td>False</td>\n",
              "      <td>13</td>\n",
              "      <td>outoftime</td>\n",
              "      <td>white</td>\n",
              "      <td>15+2</td>\n",
              "      <td>1500</td>\n",
              "      <td>1191</td>\n",
              "      <td>d4 d5 c4 c6 cxd5 e6 dxe6 fxe6 Nf3 Bb4+ Nc3 Ba5...</td>\n",
              "      <td>D10</td>\n",
              "      <td>5</td>\n",
              "    </tr>\n",
              "    <tr>\n",
              "      <th>l1NXvwaE</th>\n",
              "      <td>True</td>\n",
              "      <td>16</td>\n",
              "      <td>resign</td>\n",
              "      <td>black</td>\n",
              "      <td>5+10</td>\n",
              "      <td>1322</td>\n",
              "      <td>1261</td>\n",
              "      <td>d4 Nc6 e4 e5 f4 f6 dxe5 fxe5 fxe5 Nxe5 Qd4 Nc6...</td>\n",
              "      <td>B00</td>\n",
              "      <td>4</td>\n",
              "    </tr>\n",
              "  </tbody>\n",
              "</table>\n",
              "</div>"
            ],
            "text/plain": [
              "          rated  turns victory_status winner increment_code  white_rating  \\\n",
              "id                                                                          \n",
              "TZJHLljE  False     13      outoftime  white           15+2          1500   \n",
              "l1NXvwaE   True     16         resign  black           5+10          1322   \n",
              "\n",
              "          black_rating                                              moves  \\\n",
              "id                                                                          \n",
              "TZJHLljE          1191  d4 d5 c4 c6 cxd5 e6 dxe6 fxe6 Nf3 Bb4+ Nc3 Ba5...   \n",
              "l1NXvwaE          1261  d4 Nc6 e4 e5 f4 f6 dxe5 fxe5 fxe5 Nxe5 Qd4 Nc6...   \n",
              "\n",
              "         opening_eco  opening_ply  \n",
              "id                                 \n",
              "TZJHLljE         D10            5  \n",
              "l1NXvwaE         B00            4  "
            ]
          },
          "execution_count": 11,
          "metadata": {},
          "output_type": "execute_result"
        }
      ],
      "source": [
        "df = df.drop(['created_at', 'last_move_at'], axis=1)\n",
        "df.head(2)"
      ]
    },
    {
      "cell_type": "markdown",
      "metadata": {
        "id": "TCGQrZLNkPpb"
      },
      "source": [
        "**Numerically encode the rated, winner, and victory_status column strings**"
      ]
    },
    {
      "cell_type": "code",
      "execution_count": 12,
      "metadata": {
        "id": "LDKLpTGCkPpb"
      },
      "outputs": [],
      "source": [
        "df['rated'] = df['rated'].astype(int)\n",
        "df['winner'] = df['winner'].replace({'white': 0, 'black': 1, 'draw': 2}).astype(int)\n",
        "df['victory_status'] = df['victory_status'].replace({'mate': 0, 'resign': 1, 'draw': 2, 'outoftime': 3}).astype(int)"
      ]
    },
    {
      "cell_type": "code",
      "execution_count": 13,
      "metadata": {
        "colab": {
          "base_uri": "https://localhost:8080/",
          "height": 394
        },
        "id": "TahdNwfdkPpb",
        "outputId": "bd881a3a-50fb-4f89-d994-849b2c3b062c"
      },
      "outputs": [
        {
          "data": {
            "text/html": [
              "<div>\n",
              "<style scoped>\n",
              "    .dataframe tbody tr th:only-of-type {\n",
              "        vertical-align: middle;\n",
              "    }\n",
              "\n",
              "    .dataframe tbody tr th {\n",
              "        vertical-align: top;\n",
              "    }\n",
              "\n",
              "    .dataframe thead th {\n",
              "        text-align: right;\n",
              "    }\n",
              "</style>\n",
              "<table border=\"1\" class=\"dataframe\">\n",
              "  <thead>\n",
              "    <tr style=\"text-align: right;\">\n",
              "      <th></th>\n",
              "      <th>rated</th>\n",
              "      <th>turns</th>\n",
              "      <th>victory_status</th>\n",
              "      <th>winner</th>\n",
              "      <th>increment_code</th>\n",
              "      <th>white_rating</th>\n",
              "      <th>black_rating</th>\n",
              "      <th>moves</th>\n",
              "      <th>opening_eco</th>\n",
              "      <th>opening_ply</th>\n",
              "    </tr>\n",
              "    <tr>\n",
              "      <th>id</th>\n",
              "      <th></th>\n",
              "      <th></th>\n",
              "      <th></th>\n",
              "      <th></th>\n",
              "      <th></th>\n",
              "      <th></th>\n",
              "      <th></th>\n",
              "      <th></th>\n",
              "      <th></th>\n",
              "      <th></th>\n",
              "    </tr>\n",
              "  </thead>\n",
              "  <tbody>\n",
              "    <tr>\n",
              "      <th>TZJHLljE</th>\n",
              "      <td>0</td>\n",
              "      <td>13</td>\n",
              "      <td>3</td>\n",
              "      <td>0</td>\n",
              "      <td>15+2</td>\n",
              "      <td>1500</td>\n",
              "      <td>1191</td>\n",
              "      <td>d4 d5 c4 c6 cxd5 e6 dxe6 fxe6 Nf3 Bb4+ Nc3 Ba5...</td>\n",
              "      <td>D10</td>\n",
              "      <td>5</td>\n",
              "    </tr>\n",
              "    <tr>\n",
              "      <th>l1NXvwaE</th>\n",
              "      <td>1</td>\n",
              "      <td>16</td>\n",
              "      <td>1</td>\n",
              "      <td>1</td>\n",
              "      <td>5+10</td>\n",
              "      <td>1322</td>\n",
              "      <td>1261</td>\n",
              "      <td>d4 Nc6 e4 e5 f4 f6 dxe5 fxe5 fxe5 Nxe5 Qd4 Nc6...</td>\n",
              "      <td>B00</td>\n",
              "      <td>4</td>\n",
              "    </tr>\n",
              "    <tr>\n",
              "      <th>mIICvQHh</th>\n",
              "      <td>1</td>\n",
              "      <td>61</td>\n",
              "      <td>0</td>\n",
              "      <td>0</td>\n",
              "      <td>5+10</td>\n",
              "      <td>1496</td>\n",
              "      <td>1500</td>\n",
              "      <td>e4 e5 d3 d6 Be3 c6 Be2 b5 Nd2 a5 a4 c5 axb5 Nc...</td>\n",
              "      <td>C20</td>\n",
              "      <td>3</td>\n",
              "    </tr>\n",
              "    <tr>\n",
              "      <th>kWKvrqYL</th>\n",
              "      <td>1</td>\n",
              "      <td>61</td>\n",
              "      <td>0</td>\n",
              "      <td>0</td>\n",
              "      <td>20+0</td>\n",
              "      <td>1439</td>\n",
              "      <td>1454</td>\n",
              "      <td>d4 d5 Nf3 Bf5 Nc3 Nf6 Bf4 Ng4 e3 Nc6 Be2 Qd7 O...</td>\n",
              "      <td>D02</td>\n",
              "      <td>3</td>\n",
              "    </tr>\n",
              "    <tr>\n",
              "      <th>9tXo1AUZ</th>\n",
              "      <td>1</td>\n",
              "      <td>95</td>\n",
              "      <td>0</td>\n",
              "      <td>0</td>\n",
              "      <td>30+3</td>\n",
              "      <td>1523</td>\n",
              "      <td>1469</td>\n",
              "      <td>e4 e5 Nf3 d6 d4 Nc6 d5 Nb4 a3 Na6 Nc3 Be7 b4 N...</td>\n",
              "      <td>C41</td>\n",
              "      <td>5</td>\n",
              "    </tr>\n",
              "    <tr>\n",
              "      <th>MsoDV9wj</th>\n",
              "      <td>0</td>\n",
              "      <td>5</td>\n",
              "      <td>2</td>\n",
              "      <td>2</td>\n",
              "      <td>10+0</td>\n",
              "      <td>1250</td>\n",
              "      <td>1002</td>\n",
              "      <td>e4 c5 Nf3 Qa5 a3</td>\n",
              "      <td>B27</td>\n",
              "      <td>4</td>\n",
              "    </tr>\n",
              "    <tr>\n",
              "      <th>qwU9rasv</th>\n",
              "      <td>1</td>\n",
              "      <td>33</td>\n",
              "      <td>1</td>\n",
              "      <td>0</td>\n",
              "      <td>10+0</td>\n",
              "      <td>1520</td>\n",
              "      <td>1423</td>\n",
              "      <td>d4 d5 e4 dxe4 Nc3 Nf6 f3 exf3 Nxf3 Nc6 Bb5 a6 ...</td>\n",
              "      <td>D00</td>\n",
              "      <td>10</td>\n",
              "    </tr>\n",
              "    <tr>\n",
              "      <th>RVN0N3VK</th>\n",
              "      <td>0</td>\n",
              "      <td>9</td>\n",
              "      <td>1</td>\n",
              "      <td>1</td>\n",
              "      <td>15+30</td>\n",
              "      <td>1413</td>\n",
              "      <td>2108</td>\n",
              "      <td>e4 Nc6 d4 e5 d5 Nce7 c3 Ng6 b4</td>\n",
              "      <td>B00</td>\n",
              "      <td>5</td>\n",
              "    </tr>\n",
              "    <tr>\n",
              "      <th>dwF3DJHO</th>\n",
              "      <td>1</td>\n",
              "      <td>66</td>\n",
              "      <td>1</td>\n",
              "      <td>1</td>\n",
              "      <td>15+0</td>\n",
              "      <td>1439</td>\n",
              "      <td>1392</td>\n",
              "      <td>e4 e5 Bc4 Nc6 Nf3 Nd4 d3 Nxf3+ Qxf3 Nf6 h3 Bc5...</td>\n",
              "      <td>C50</td>\n",
              "      <td>6</td>\n",
              "    </tr>\n",
              "    <tr>\n",
              "      <th>afoMwnLg</th>\n",
              "      <td>1</td>\n",
              "      <td>119</td>\n",
              "      <td>0</td>\n",
              "      <td>0</td>\n",
              "      <td>10+0</td>\n",
              "      <td>1381</td>\n",
              "      <td>1209</td>\n",
              "      <td>e4 d5 exd5 Qxd5 Nc3 Qe5+ Be2 Na6 d4 Qf5 Bxa6 b...</td>\n",
              "      <td>B01</td>\n",
              "      <td>4</td>\n",
              "    </tr>\n",
              "  </tbody>\n",
              "</table>\n",
              "</div>"
            ],
            "text/plain": [
              "          rated  turns  victory_status  winner increment_code  white_rating  \\\n",
              "id                                                                            \n",
              "TZJHLljE      0     13               3       0           15+2          1500   \n",
              "l1NXvwaE      1     16               1       1           5+10          1322   \n",
              "mIICvQHh      1     61               0       0           5+10          1496   \n",
              "kWKvrqYL      1     61               0       0           20+0          1439   \n",
              "9tXo1AUZ      1     95               0       0           30+3          1523   \n",
              "MsoDV9wj      0      5               2       2           10+0          1250   \n",
              "qwU9rasv      1     33               1       0           10+0          1520   \n",
              "RVN0N3VK      0      9               1       1          15+30          1413   \n",
              "dwF3DJHO      1     66               1       1           15+0          1439   \n",
              "afoMwnLg      1    119               0       0           10+0          1381   \n",
              "\n",
              "          black_rating                                              moves  \\\n",
              "id                                                                          \n",
              "TZJHLljE          1191  d4 d5 c4 c6 cxd5 e6 dxe6 fxe6 Nf3 Bb4+ Nc3 Ba5...   \n",
              "l1NXvwaE          1261  d4 Nc6 e4 e5 f4 f6 dxe5 fxe5 fxe5 Nxe5 Qd4 Nc6...   \n",
              "mIICvQHh          1500  e4 e5 d3 d6 Be3 c6 Be2 b5 Nd2 a5 a4 c5 axb5 Nc...   \n",
              "kWKvrqYL          1454  d4 d5 Nf3 Bf5 Nc3 Nf6 Bf4 Ng4 e3 Nc6 Be2 Qd7 O...   \n",
              "9tXo1AUZ          1469  e4 e5 Nf3 d6 d4 Nc6 d5 Nb4 a3 Na6 Nc3 Be7 b4 N...   \n",
              "MsoDV9wj          1002                                   e4 c5 Nf3 Qa5 a3   \n",
              "qwU9rasv          1423  d4 d5 e4 dxe4 Nc3 Nf6 f3 exf3 Nxf3 Nc6 Bb5 a6 ...   \n",
              "RVN0N3VK          2108                     e4 Nc6 d4 e5 d5 Nce7 c3 Ng6 b4   \n",
              "dwF3DJHO          1392  e4 e5 Bc4 Nc6 Nf3 Nd4 d3 Nxf3+ Qxf3 Nf6 h3 Bc5...   \n",
              "afoMwnLg          1209  e4 d5 exd5 Qxd5 Nc3 Qe5+ Be2 Na6 d4 Qf5 Bxa6 b...   \n",
              "\n",
              "         opening_eco  opening_ply  \n",
              "id                                 \n",
              "TZJHLljE         D10            5  \n",
              "l1NXvwaE         B00            4  \n",
              "mIICvQHh         C20            3  \n",
              "kWKvrqYL         D02            3  \n",
              "9tXo1AUZ         C41            5  \n",
              "MsoDV9wj         B27            4  \n",
              "qwU9rasv         D00           10  \n",
              "RVN0N3VK         B00            5  \n",
              "dwF3DJHO         C50            6  \n",
              "afoMwnLg         B01            4  "
            ]
          },
          "execution_count": 13,
          "metadata": {},
          "output_type": "execute_result"
        }
      ],
      "source": [
        "df.head(10)"
      ]
    },
    {
      "cell_type": "code",
      "execution_count": 14,
      "metadata": {
        "colab": {
          "base_uri": "https://localhost:8080/"
        },
        "id": "JD9ebUOfkPpb",
        "outputId": "ce8420aa-3ce2-4835-b00c-2064353dec7e"
      },
      "outputs": [
        {
          "data": {
            "text/plain": [
              "(20058, 10)"
            ]
          },
          "execution_count": 14,
          "metadata": {},
          "output_type": "execute_result"
        }
      ],
      "source": [
        "df.shape"
      ]
    },
    {
      "cell_type": "markdown",
      "metadata": {
        "id": "UqYODDcFkPpb"
      },
      "source": [
        "Here's a link that go over the different eco codes and their groups/names: https://www.365chess.com/eco.php"
      ]
    },
    {
      "cell_type": "markdown",
      "metadata": {
        "id": "mOFrqSVukPpc"
      },
      "source": [
        "**Instead of looking through a mass number of different moves and ecos, let's just consider the players' first moves for a cleaner analysis**"
      ]
    },
    {
      "cell_type": "code",
      "execution_count": 15,
      "metadata": {
        "id": "Ad0ZX2hhkPpc"
      },
      "outputs": [],
      "source": [
        "#define a function that gets only the first two moves in the moves list \n",
        "def getFirstTwoMoves(moves):\n",
        "    splitted = moves.split(maxsplit=2)\n",
        "    if len(splitted) < 2:\n",
        "        return np.nan, np.nan\n",
        "    return splitted[0], splitted[1]"
      ]
    },
    {
      "cell_type": "code",
      "execution_count": 16,
      "metadata": {
        "colab": {
          "base_uri": "https://localhost:8080/",
          "height": 454
        },
        "id": "IpM5upT0kPpc",
        "outputId": "d0193f79-0a1a-4459-c339-2135c8a3b8e0"
      },
      "outputs": [
        {
          "data": {
            "text/html": [
              "<div>\n",
              "<style scoped>\n",
              "    .dataframe tbody tr th:only-of-type {\n",
              "        vertical-align: middle;\n",
              "    }\n",
              "\n",
              "    .dataframe tbody tr th {\n",
              "        vertical-align: top;\n",
              "    }\n",
              "\n",
              "    .dataframe thead th {\n",
              "        text-align: right;\n",
              "    }\n",
              "</style>\n",
              "<table border=\"1\" class=\"dataframe\">\n",
              "  <thead>\n",
              "    <tr style=\"text-align: right;\">\n",
              "      <th></th>\n",
              "      <th>rated</th>\n",
              "      <th>turns</th>\n",
              "      <th>victory_status</th>\n",
              "      <th>winner</th>\n",
              "      <th>increment_code</th>\n",
              "      <th>white_rating</th>\n",
              "      <th>black_rating</th>\n",
              "      <th>opening_ply</th>\n",
              "      <th>white_first_move</th>\n",
              "      <th>black_first_move</th>\n",
              "    </tr>\n",
              "    <tr>\n",
              "      <th>id</th>\n",
              "      <th></th>\n",
              "      <th></th>\n",
              "      <th></th>\n",
              "      <th></th>\n",
              "      <th></th>\n",
              "      <th></th>\n",
              "      <th></th>\n",
              "      <th></th>\n",
              "      <th></th>\n",
              "      <th></th>\n",
              "    </tr>\n",
              "  </thead>\n",
              "  <tbody>\n",
              "    <tr>\n",
              "      <th>TZJHLljE</th>\n",
              "      <td>0</td>\n",
              "      <td>13</td>\n",
              "      <td>3</td>\n",
              "      <td>0</td>\n",
              "      <td>15+2</td>\n",
              "      <td>1500</td>\n",
              "      <td>1191</td>\n",
              "      <td>5</td>\n",
              "      <td>d4</td>\n",
              "      <td>d5</td>\n",
              "    </tr>\n",
              "    <tr>\n",
              "      <th>l1NXvwaE</th>\n",
              "      <td>1</td>\n",
              "      <td>16</td>\n",
              "      <td>1</td>\n",
              "      <td>1</td>\n",
              "      <td>5+10</td>\n",
              "      <td>1322</td>\n",
              "      <td>1261</td>\n",
              "      <td>4</td>\n",
              "      <td>d4</td>\n",
              "      <td>Nc6</td>\n",
              "    </tr>\n",
              "    <tr>\n",
              "      <th>mIICvQHh</th>\n",
              "      <td>1</td>\n",
              "      <td>61</td>\n",
              "      <td>0</td>\n",
              "      <td>0</td>\n",
              "      <td>5+10</td>\n",
              "      <td>1496</td>\n",
              "      <td>1500</td>\n",
              "      <td>3</td>\n",
              "      <td>e4</td>\n",
              "      <td>e5</td>\n",
              "    </tr>\n",
              "    <tr>\n",
              "      <th>kWKvrqYL</th>\n",
              "      <td>1</td>\n",
              "      <td>61</td>\n",
              "      <td>0</td>\n",
              "      <td>0</td>\n",
              "      <td>20+0</td>\n",
              "      <td>1439</td>\n",
              "      <td>1454</td>\n",
              "      <td>3</td>\n",
              "      <td>d4</td>\n",
              "      <td>d5</td>\n",
              "    </tr>\n",
              "    <tr>\n",
              "      <th>9tXo1AUZ</th>\n",
              "      <td>1</td>\n",
              "      <td>95</td>\n",
              "      <td>0</td>\n",
              "      <td>0</td>\n",
              "      <td>30+3</td>\n",
              "      <td>1523</td>\n",
              "      <td>1469</td>\n",
              "      <td>5</td>\n",
              "      <td>e4</td>\n",
              "      <td>e5</td>\n",
              "    </tr>\n",
              "    <tr>\n",
              "      <th>...</th>\n",
              "      <td>...</td>\n",
              "      <td>...</td>\n",
              "      <td>...</td>\n",
              "      <td>...</td>\n",
              "      <td>...</td>\n",
              "      <td>...</td>\n",
              "      <td>...</td>\n",
              "      <td>...</td>\n",
              "      <td>...</td>\n",
              "      <td>...</td>\n",
              "    </tr>\n",
              "    <tr>\n",
              "      <th>EfqH7VVH</th>\n",
              "      <td>1</td>\n",
              "      <td>24</td>\n",
              "      <td>1</td>\n",
              "      <td>0</td>\n",
              "      <td>10+10</td>\n",
              "      <td>1691</td>\n",
              "      <td>1220</td>\n",
              "      <td>2</td>\n",
              "      <td>d4</td>\n",
              "      <td>f5</td>\n",
              "    </tr>\n",
              "    <tr>\n",
              "      <th>WSJDhbPl</th>\n",
              "      <td>1</td>\n",
              "      <td>82</td>\n",
              "      <td>0</td>\n",
              "      <td>1</td>\n",
              "      <td>10+0</td>\n",
              "      <td>1233</td>\n",
              "      <td>1196</td>\n",
              "      <td>2</td>\n",
              "      <td>d4</td>\n",
              "      <td>d6</td>\n",
              "    </tr>\n",
              "    <tr>\n",
              "      <th>yrAas0Kj</th>\n",
              "      <td>1</td>\n",
              "      <td>35</td>\n",
              "      <td>0</td>\n",
              "      <td>0</td>\n",
              "      <td>10+0</td>\n",
              "      <td>1219</td>\n",
              "      <td>1286</td>\n",
              "      <td>3</td>\n",
              "      <td>d4</td>\n",
              "      <td>d5</td>\n",
              "    </tr>\n",
              "    <tr>\n",
              "      <th>b0v4tRyF</th>\n",
              "      <td>1</td>\n",
              "      <td>109</td>\n",
              "      <td>1</td>\n",
              "      <td>0</td>\n",
              "      <td>10+0</td>\n",
              "      <td>1360</td>\n",
              "      <td>1227</td>\n",
              "      <td>4</td>\n",
              "      <td>e4</td>\n",
              "      <td>d6</td>\n",
              "    </tr>\n",
              "    <tr>\n",
              "      <th>N8G2JHGG</th>\n",
              "      <td>1</td>\n",
              "      <td>78</td>\n",
              "      <td>0</td>\n",
              "      <td>1</td>\n",
              "      <td>10+0</td>\n",
              "      <td>1235</td>\n",
              "      <td>1339</td>\n",
              "      <td>3</td>\n",
              "      <td>d4</td>\n",
              "      <td>d5</td>\n",
              "    </tr>\n",
              "  </tbody>\n",
              "</table>\n",
              "<p>20058 rows × 10 columns</p>\n",
              "</div>"
            ],
            "text/plain": [
              "          rated  turns  victory_status  winner increment_code  white_rating  \\\n",
              "id                                                                            \n",
              "TZJHLljE      0     13               3       0           15+2          1500   \n",
              "l1NXvwaE      1     16               1       1           5+10          1322   \n",
              "mIICvQHh      1     61               0       0           5+10          1496   \n",
              "kWKvrqYL      1     61               0       0           20+0          1439   \n",
              "9tXo1AUZ      1     95               0       0           30+3          1523   \n",
              "...         ...    ...             ...     ...            ...           ...   \n",
              "EfqH7VVH      1     24               1       0          10+10          1691   \n",
              "WSJDhbPl      1     82               0       1           10+0          1233   \n",
              "yrAas0Kj      1     35               0       0           10+0          1219   \n",
              "b0v4tRyF      1    109               1       0           10+0          1360   \n",
              "N8G2JHGG      1     78               0       1           10+0          1235   \n",
              "\n",
              "          black_rating  opening_ply white_first_move black_first_move  \n",
              "id                                                                     \n",
              "TZJHLljE          1191            5               d4               d5  \n",
              "l1NXvwaE          1261            4               d4              Nc6  \n",
              "mIICvQHh          1500            3               e4               e5  \n",
              "kWKvrqYL          1454            3               d4               d5  \n",
              "9tXo1AUZ          1469            5               e4               e5  \n",
              "...                ...          ...              ...              ...  \n",
              "EfqH7VVH          1220            2               d4               f5  \n",
              "WSJDhbPl          1196            2               d4               d6  \n",
              "yrAas0Kj          1286            3               d4               d5  \n",
              "b0v4tRyF          1227            4               e4               d6  \n",
              "N8G2JHGG          1339            3               d4               d5  \n",
              "\n",
              "[20058 rows x 10 columns]"
            ]
          },
          "execution_count": 16,
          "metadata": {},
          "output_type": "execute_result"
        }
      ],
      "source": [
        "#apply this function to the moves column and vectprize \n",
        "first_two_moves = np.vectorize(getFirstTwoMoves)(df['moves'])\n",
        "df['white_first_move'], df['black_first_move'] = first_two_moves[0], first_two_moves[1]\n",
        "df = df.drop(['opening_eco', 'moves'], axis=1)\n",
        "df"
      ]
    },
    {
      "cell_type": "code",
      "execution_count": 17,
      "metadata": {
        "colab": {
          "base_uri": "https://localhost:8080/"
        },
        "id": "C1Mtaml5kPpc",
        "outputId": "2ca37d0c-90ea-4874-e03c-fd64197e3a76"
      },
      "outputs": [
        {
          "data": {
            "text/plain": [
              "rated               False\n",
              "turns               False\n",
              "victory_status      False\n",
              "winner              False\n",
              "increment_code      False\n",
              "white_rating        False\n",
              "black_rating        False\n",
              "opening_ply         False\n",
              "white_first_move    False\n",
              "black_first_move    False\n",
              "dtype: bool"
            ]
          },
          "execution_count": 17,
          "metadata": {},
          "output_type": "execute_result"
        }
      ],
      "source": [
        "df.isna().any()"
      ]
    },
    {
      "cell_type": "markdown",
      "metadata": {
        "id": "ODUrk0thkPpc"
      },
      "source": [
        "**The time increment is hard to read and has way too many variations as well. So let's break them down and group them together solely based on the minutes allowed in the game and ignoring the extra seconds**"
      ]
    },
    {
      "cell_type": "code",
      "execution_count": 18,
      "metadata": {
        "id": "2bKaSUdnkPpc"
      },
      "outputs": [],
      "source": [
        "def deletePlusSuffix(inc):\n",
        "    splitted = inc.split('+')\n",
        "    return int(splitted[0])\n",
        "\n",
        "#group the following categories into their respective time groups\n",
        "def CategorizeInc(inc):\n",
        "    if inc < 3:\n",
        "        return 'bullet'    \n",
        "    elif inc < 9:\n",
        "        return 'blitz'\n",
        "    elif inc < 16:\n",
        "        return 'rapid'\n",
        "    else:\n",
        "        return 'classical'"
      ]
    },
    {
      "cell_type": "code",
      "execution_count": 19,
      "metadata": {
        "colab": {
          "base_uri": "https://localhost:8080/",
          "height": 454
        },
        "id": "IxZTJ1H6kPpc",
        "outputId": "ac3e57f4-4f7d-486e-d515-95592466c537"
      },
      "outputs": [
        {
          "data": {
            "text/html": [
              "<div>\n",
              "<style scoped>\n",
              "    .dataframe tbody tr th:only-of-type {\n",
              "        vertical-align: middle;\n",
              "    }\n",
              "\n",
              "    .dataframe tbody tr th {\n",
              "        vertical-align: top;\n",
              "    }\n",
              "\n",
              "    .dataframe thead th {\n",
              "        text-align: right;\n",
              "    }\n",
              "</style>\n",
              "<table border=\"1\" class=\"dataframe\">\n",
              "  <thead>\n",
              "    <tr style=\"text-align: right;\">\n",
              "      <th></th>\n",
              "      <th>rated</th>\n",
              "      <th>turns</th>\n",
              "      <th>victory_status</th>\n",
              "      <th>winner</th>\n",
              "      <th>increment_code</th>\n",
              "      <th>white_rating</th>\n",
              "      <th>black_rating</th>\n",
              "      <th>opening_ply</th>\n",
              "      <th>white_first_move</th>\n",
              "      <th>black_first_move</th>\n",
              "    </tr>\n",
              "    <tr>\n",
              "      <th>id</th>\n",
              "      <th></th>\n",
              "      <th></th>\n",
              "      <th></th>\n",
              "      <th></th>\n",
              "      <th></th>\n",
              "      <th></th>\n",
              "      <th></th>\n",
              "      <th></th>\n",
              "      <th></th>\n",
              "      <th></th>\n",
              "    </tr>\n",
              "  </thead>\n",
              "  <tbody>\n",
              "    <tr>\n",
              "      <th>TZJHLljE</th>\n",
              "      <td>0</td>\n",
              "      <td>13</td>\n",
              "      <td>3</td>\n",
              "      <td>0</td>\n",
              "      <td>rapid</td>\n",
              "      <td>1500</td>\n",
              "      <td>1191</td>\n",
              "      <td>5</td>\n",
              "      <td>d4</td>\n",
              "      <td>d5</td>\n",
              "    </tr>\n",
              "    <tr>\n",
              "      <th>l1NXvwaE</th>\n",
              "      <td>1</td>\n",
              "      <td>16</td>\n",
              "      <td>1</td>\n",
              "      <td>1</td>\n",
              "      <td>blitz</td>\n",
              "      <td>1322</td>\n",
              "      <td>1261</td>\n",
              "      <td>4</td>\n",
              "      <td>d4</td>\n",
              "      <td>Nc6</td>\n",
              "    </tr>\n",
              "    <tr>\n",
              "      <th>mIICvQHh</th>\n",
              "      <td>1</td>\n",
              "      <td>61</td>\n",
              "      <td>0</td>\n",
              "      <td>0</td>\n",
              "      <td>blitz</td>\n",
              "      <td>1496</td>\n",
              "      <td>1500</td>\n",
              "      <td>3</td>\n",
              "      <td>e4</td>\n",
              "      <td>e5</td>\n",
              "    </tr>\n",
              "    <tr>\n",
              "      <th>kWKvrqYL</th>\n",
              "      <td>1</td>\n",
              "      <td>61</td>\n",
              "      <td>0</td>\n",
              "      <td>0</td>\n",
              "      <td>classical</td>\n",
              "      <td>1439</td>\n",
              "      <td>1454</td>\n",
              "      <td>3</td>\n",
              "      <td>d4</td>\n",
              "      <td>d5</td>\n",
              "    </tr>\n",
              "    <tr>\n",
              "      <th>9tXo1AUZ</th>\n",
              "      <td>1</td>\n",
              "      <td>95</td>\n",
              "      <td>0</td>\n",
              "      <td>0</td>\n",
              "      <td>classical</td>\n",
              "      <td>1523</td>\n",
              "      <td>1469</td>\n",
              "      <td>5</td>\n",
              "      <td>e4</td>\n",
              "      <td>e5</td>\n",
              "    </tr>\n",
              "    <tr>\n",
              "      <th>...</th>\n",
              "      <td>...</td>\n",
              "      <td>...</td>\n",
              "      <td>...</td>\n",
              "      <td>...</td>\n",
              "      <td>...</td>\n",
              "      <td>...</td>\n",
              "      <td>...</td>\n",
              "      <td>...</td>\n",
              "      <td>...</td>\n",
              "      <td>...</td>\n",
              "    </tr>\n",
              "    <tr>\n",
              "      <th>EfqH7VVH</th>\n",
              "      <td>1</td>\n",
              "      <td>24</td>\n",
              "      <td>1</td>\n",
              "      <td>0</td>\n",
              "      <td>rapid</td>\n",
              "      <td>1691</td>\n",
              "      <td>1220</td>\n",
              "      <td>2</td>\n",
              "      <td>d4</td>\n",
              "      <td>f5</td>\n",
              "    </tr>\n",
              "    <tr>\n",
              "      <th>WSJDhbPl</th>\n",
              "      <td>1</td>\n",
              "      <td>82</td>\n",
              "      <td>0</td>\n",
              "      <td>1</td>\n",
              "      <td>rapid</td>\n",
              "      <td>1233</td>\n",
              "      <td>1196</td>\n",
              "      <td>2</td>\n",
              "      <td>d4</td>\n",
              "      <td>d6</td>\n",
              "    </tr>\n",
              "    <tr>\n",
              "      <th>yrAas0Kj</th>\n",
              "      <td>1</td>\n",
              "      <td>35</td>\n",
              "      <td>0</td>\n",
              "      <td>0</td>\n",
              "      <td>rapid</td>\n",
              "      <td>1219</td>\n",
              "      <td>1286</td>\n",
              "      <td>3</td>\n",
              "      <td>d4</td>\n",
              "      <td>d5</td>\n",
              "    </tr>\n",
              "    <tr>\n",
              "      <th>b0v4tRyF</th>\n",
              "      <td>1</td>\n",
              "      <td>109</td>\n",
              "      <td>1</td>\n",
              "      <td>0</td>\n",
              "      <td>rapid</td>\n",
              "      <td>1360</td>\n",
              "      <td>1227</td>\n",
              "      <td>4</td>\n",
              "      <td>e4</td>\n",
              "      <td>d6</td>\n",
              "    </tr>\n",
              "    <tr>\n",
              "      <th>N8G2JHGG</th>\n",
              "      <td>1</td>\n",
              "      <td>78</td>\n",
              "      <td>0</td>\n",
              "      <td>1</td>\n",
              "      <td>rapid</td>\n",
              "      <td>1235</td>\n",
              "      <td>1339</td>\n",
              "      <td>3</td>\n",
              "      <td>d4</td>\n",
              "      <td>d5</td>\n",
              "    </tr>\n",
              "  </tbody>\n",
              "</table>\n",
              "<p>20058 rows × 10 columns</p>\n",
              "</div>"
            ],
            "text/plain": [
              "          rated  turns  victory_status  winner increment_code  white_rating  \\\n",
              "id                                                                            \n",
              "TZJHLljE      0     13               3       0          rapid          1500   \n",
              "l1NXvwaE      1     16               1       1          blitz          1322   \n",
              "mIICvQHh      1     61               0       0          blitz          1496   \n",
              "kWKvrqYL      1     61               0       0      classical          1439   \n",
              "9tXo1AUZ      1     95               0       0      classical          1523   \n",
              "...         ...    ...             ...     ...            ...           ...   \n",
              "EfqH7VVH      1     24               1       0          rapid          1691   \n",
              "WSJDhbPl      1     82               0       1          rapid          1233   \n",
              "yrAas0Kj      1     35               0       0          rapid          1219   \n",
              "b0v4tRyF      1    109               1       0          rapid          1360   \n",
              "N8G2JHGG      1     78               0       1          rapid          1235   \n",
              "\n",
              "          black_rating  opening_ply white_first_move black_first_move  \n",
              "id                                                                     \n",
              "TZJHLljE          1191            5               d4               d5  \n",
              "l1NXvwaE          1261            4               d4              Nc6  \n",
              "mIICvQHh          1500            3               e4               e5  \n",
              "kWKvrqYL          1454            3               d4               d5  \n",
              "9tXo1AUZ          1469            5               e4               e5  \n",
              "...                ...          ...              ...              ...  \n",
              "EfqH7VVH          1220            2               d4               f5  \n",
              "WSJDhbPl          1196            2               d4               d6  \n",
              "yrAas0Kj          1286            3               d4               d5  \n",
              "b0v4tRyF          1227            4               e4               d6  \n",
              "N8G2JHGG          1339            3               d4               d5  \n",
              "\n",
              "[20058 rows x 10 columns]"
            ]
          },
          "execution_count": 19,
          "metadata": {},
          "output_type": "execute_result"
        }
      ],
      "source": [
        "#apply the functions to the increment_code column\n",
        "df['increment_code'] = np.vectorize(deletePlusSuffix)(df['increment_code'])\n",
        "df['increment_code'] = np.vectorize(CategorizeInc)(df['increment_code'])\n",
        "df"
      ]
    },
    {
      "cell_type": "markdown",
      "metadata": {
        "id": "mH7_FpHukPpc"
      },
      "source": [
        "**It can be also beneficial to add a column that holds the disparity between the two players' ratings. The logic is higher disparity = greater probability to win**"
      ]
    },
    {
      "cell_type": "code",
      "execution_count": 20,
      "metadata": {
        "id": "bD4z2cY5kPpd"
      },
      "outputs": [],
      "source": [
        "df['rating_difference'] = df['white_rating'] - df['black_rating']"
      ]
    },
    {
      "cell_type": "code",
      "execution_count": 21,
      "metadata": {},
      "outputs": [
        {
          "name": "stderr",
          "output_type": "stream",
          "text": [
            "/var/folders/q7/bw8hjc1s1bl3nq4rh6jn4f880000gn/T/ipykernel_13838/765194095.py:7: FutureWarning: Automatic reindexing on DataFrame vs Series comparisons is deprecated and will raise ValueError in a future version. Do `left, right = left.align(right, axis=1, copy=False)` before e.g. `left == right`\n",
            "  outliers = (df < (Q1 - 1.5 * IQR)) | (df > (Q3 + 1.5 * IQR))\n"
          ]
        }
      ],
      "source": [
        "# calculate the IQR of the DataFrame\n",
        "Q1 = df.quantile(0.25)\n",
        "Q3 = df.quantile(0.75)\n",
        "IQR = Q3 - Q1\n",
        "\n",
        "# identify outliers by checking which values fall outside the range [Q1 - 1.5*IQR, Q3 + 1.5*IQR]\n",
        "outliers = (df < (Q1 - 1.5 * IQR)) | (df > (Q3 + 1.5 * IQR))\n",
        "\n",
        "# remove outliers from the DataFrame\n",
        "df = df[~outliers.any(axis=1)]"
      ]
    },
    {
      "cell_type": "markdown",
      "metadata": {
        "id": "sQnDYLAIkPpd"
      },
      "source": [
        "**Check for duplicate games and delete them**"
      ]
    },
    {
      "cell_type": "code",
      "execution_count": 22,
      "metadata": {
        "colab": {
          "base_uri": "https://localhost:8080/"
        },
        "id": "UgVxrXjYkPpd",
        "outputId": "ef475b67-9c08-4331-9b0a-0de071878eb4"
      },
      "outputs": [
        {
          "name": "stdout",
          "output_type": "stream",
          "text": [
            "\n",
            "Number of rows before = 12,991\n",
            "Number of duplicated rows in data:  542\n",
            "\n",
            "Number of rows after duplicate drop = 12,449\n",
            "Number of duplicated rows in data:  0\n"
          ]
        }
      ],
      "source": [
        "print(f\"\\nNumber of rows before = {str(df.shape[0])[:2]},{str(df.shape[0])[2:]}\")\n",
        "print('Number of duplicated rows in data: ',df.duplicated().sum())\n",
        "\n",
        "df = df.drop_duplicates()\n",
        "print(f\"\\nNumber of rows after duplicate drop = {str(df.shape[0])[:2]},{str(df.shape[0])[2:]}\")\n",
        "print('Number of duplicated rows in data: ',df.duplicated().sum())"
      ]
    },
    {
      "cell_type": "markdown",
      "metadata": {
        "id": "-KgX9n-SkPpd"
      },
      "source": [
        "**here's the final dataframe**"
      ]
    },
    {
      "cell_type": "code",
      "execution_count": 23,
      "metadata": {
        "colab": {
          "base_uri": "https://localhost:8080/",
          "height": 454
        },
        "id": "aCy_wstokPpd",
        "outputId": "c67b47f0-91dd-4b63-e380-d0192361038a"
      },
      "outputs": [
        {
          "data": {
            "text/html": [
              "<div>\n",
              "<style scoped>\n",
              "    .dataframe tbody tr th:only-of-type {\n",
              "        vertical-align: middle;\n",
              "    }\n",
              "\n",
              "    .dataframe tbody tr th {\n",
              "        vertical-align: top;\n",
              "    }\n",
              "\n",
              "    .dataframe thead th {\n",
              "        text-align: right;\n",
              "    }\n",
              "</style>\n",
              "<table border=\"1\" class=\"dataframe\">\n",
              "  <thead>\n",
              "    <tr style=\"text-align: right;\">\n",
              "      <th></th>\n",
              "      <th>rated</th>\n",
              "      <th>turns</th>\n",
              "      <th>victory_status</th>\n",
              "      <th>winner</th>\n",
              "      <th>increment_code</th>\n",
              "      <th>white_rating</th>\n",
              "      <th>black_rating</th>\n",
              "      <th>opening_ply</th>\n",
              "      <th>white_first_move</th>\n",
              "      <th>black_first_move</th>\n",
              "      <th>rating_difference</th>\n",
              "    </tr>\n",
              "    <tr>\n",
              "      <th>id</th>\n",
              "      <th></th>\n",
              "      <th></th>\n",
              "      <th></th>\n",
              "      <th></th>\n",
              "      <th></th>\n",
              "      <th></th>\n",
              "      <th></th>\n",
              "      <th></th>\n",
              "      <th></th>\n",
              "      <th></th>\n",
              "      <th></th>\n",
              "    </tr>\n",
              "  </thead>\n",
              "  <tbody>\n",
              "    <tr>\n",
              "      <th>l1NXvwaE</th>\n",
              "      <td>1</td>\n",
              "      <td>16</td>\n",
              "      <td>1</td>\n",
              "      <td>1</td>\n",
              "      <td>blitz</td>\n",
              "      <td>1322</td>\n",
              "      <td>1261</td>\n",
              "      <td>4</td>\n",
              "      <td>d4</td>\n",
              "      <td>Nc6</td>\n",
              "      <td>61</td>\n",
              "    </tr>\n",
              "    <tr>\n",
              "      <th>mIICvQHh</th>\n",
              "      <td>1</td>\n",
              "      <td>61</td>\n",
              "      <td>0</td>\n",
              "      <td>0</td>\n",
              "      <td>blitz</td>\n",
              "      <td>1496</td>\n",
              "      <td>1500</td>\n",
              "      <td>3</td>\n",
              "      <td>e4</td>\n",
              "      <td>e5</td>\n",
              "      <td>-4</td>\n",
              "    </tr>\n",
              "    <tr>\n",
              "      <th>kWKvrqYL</th>\n",
              "      <td>1</td>\n",
              "      <td>61</td>\n",
              "      <td>0</td>\n",
              "      <td>0</td>\n",
              "      <td>classical</td>\n",
              "      <td>1439</td>\n",
              "      <td>1454</td>\n",
              "      <td>3</td>\n",
              "      <td>d4</td>\n",
              "      <td>d5</td>\n",
              "      <td>-15</td>\n",
              "    </tr>\n",
              "    <tr>\n",
              "      <th>9tXo1AUZ</th>\n",
              "      <td>1</td>\n",
              "      <td>95</td>\n",
              "      <td>0</td>\n",
              "      <td>0</td>\n",
              "      <td>classical</td>\n",
              "      <td>1523</td>\n",
              "      <td>1469</td>\n",
              "      <td>5</td>\n",
              "      <td>e4</td>\n",
              "      <td>e5</td>\n",
              "      <td>54</td>\n",
              "    </tr>\n",
              "    <tr>\n",
              "      <th>qwU9rasv</th>\n",
              "      <td>1</td>\n",
              "      <td>33</td>\n",
              "      <td>1</td>\n",
              "      <td>0</td>\n",
              "      <td>rapid</td>\n",
              "      <td>1520</td>\n",
              "      <td>1423</td>\n",
              "      <td>10</td>\n",
              "      <td>d4</td>\n",
              "      <td>d5</td>\n",
              "      <td>97</td>\n",
              "    </tr>\n",
              "    <tr>\n",
              "      <th>...</th>\n",
              "      <td>...</td>\n",
              "      <td>...</td>\n",
              "      <td>...</td>\n",
              "      <td>...</td>\n",
              "      <td>...</td>\n",
              "      <td>...</td>\n",
              "      <td>...</td>\n",
              "      <td>...</td>\n",
              "      <td>...</td>\n",
              "      <td>...</td>\n",
              "      <td>...</td>\n",
              "    </tr>\n",
              "    <tr>\n",
              "      <th>EopEqqAa</th>\n",
              "      <td>1</td>\n",
              "      <td>37</td>\n",
              "      <td>1</td>\n",
              "      <td>0</td>\n",
              "      <td>rapid</td>\n",
              "      <td>1219</td>\n",
              "      <td>1250</td>\n",
              "      <td>4</td>\n",
              "      <td>c4</td>\n",
              "      <td>e6</td>\n",
              "      <td>-31</td>\n",
              "    </tr>\n",
              "    <tr>\n",
              "      <th>WSJDhbPl</th>\n",
              "      <td>1</td>\n",
              "      <td>82</td>\n",
              "      <td>0</td>\n",
              "      <td>1</td>\n",
              "      <td>rapid</td>\n",
              "      <td>1233</td>\n",
              "      <td>1196</td>\n",
              "      <td>2</td>\n",
              "      <td>d4</td>\n",
              "      <td>d6</td>\n",
              "      <td>37</td>\n",
              "    </tr>\n",
              "    <tr>\n",
              "      <th>yrAas0Kj</th>\n",
              "      <td>1</td>\n",
              "      <td>35</td>\n",
              "      <td>0</td>\n",
              "      <td>0</td>\n",
              "      <td>rapid</td>\n",
              "      <td>1219</td>\n",
              "      <td>1286</td>\n",
              "      <td>3</td>\n",
              "      <td>d4</td>\n",
              "      <td>d5</td>\n",
              "      <td>-67</td>\n",
              "    </tr>\n",
              "    <tr>\n",
              "      <th>b0v4tRyF</th>\n",
              "      <td>1</td>\n",
              "      <td>109</td>\n",
              "      <td>1</td>\n",
              "      <td>0</td>\n",
              "      <td>rapid</td>\n",
              "      <td>1360</td>\n",
              "      <td>1227</td>\n",
              "      <td>4</td>\n",
              "      <td>e4</td>\n",
              "      <td>d6</td>\n",
              "      <td>133</td>\n",
              "    </tr>\n",
              "    <tr>\n",
              "      <th>N8G2JHGG</th>\n",
              "      <td>1</td>\n",
              "      <td>78</td>\n",
              "      <td>0</td>\n",
              "      <td>1</td>\n",
              "      <td>rapid</td>\n",
              "      <td>1235</td>\n",
              "      <td>1339</td>\n",
              "      <td>3</td>\n",
              "      <td>d4</td>\n",
              "      <td>d5</td>\n",
              "      <td>-104</td>\n",
              "    </tr>\n",
              "  </tbody>\n",
              "</table>\n",
              "<p>12449 rows × 11 columns</p>\n",
              "</div>"
            ],
            "text/plain": [
              "          rated  turns  victory_status  winner increment_code  white_rating  \\\n",
              "id                                                                            \n",
              "l1NXvwaE      1     16               1       1          blitz          1322   \n",
              "mIICvQHh      1     61               0       0          blitz          1496   \n",
              "kWKvrqYL      1     61               0       0      classical          1439   \n",
              "9tXo1AUZ      1     95               0       0      classical          1523   \n",
              "qwU9rasv      1     33               1       0          rapid          1520   \n",
              "...         ...    ...             ...     ...            ...           ...   \n",
              "EopEqqAa      1     37               1       0          rapid          1219   \n",
              "WSJDhbPl      1     82               0       1          rapid          1233   \n",
              "yrAas0Kj      1     35               0       0          rapid          1219   \n",
              "b0v4tRyF      1    109               1       0          rapid          1360   \n",
              "N8G2JHGG      1     78               0       1          rapid          1235   \n",
              "\n",
              "          black_rating  opening_ply white_first_move black_first_move  \\\n",
              "id                                                                      \n",
              "l1NXvwaE          1261            4               d4              Nc6   \n",
              "mIICvQHh          1500            3               e4               e5   \n",
              "kWKvrqYL          1454            3               d4               d5   \n",
              "9tXo1AUZ          1469            5               e4               e5   \n",
              "qwU9rasv          1423           10               d4               d5   \n",
              "...                ...          ...              ...              ...   \n",
              "EopEqqAa          1250            4               c4               e6   \n",
              "WSJDhbPl          1196            2               d4               d6   \n",
              "yrAas0Kj          1286            3               d4               d5   \n",
              "b0v4tRyF          1227            4               e4               d6   \n",
              "N8G2JHGG          1339            3               d4               d5   \n",
              "\n",
              "          rating_difference  \n",
              "id                           \n",
              "l1NXvwaE                 61  \n",
              "mIICvQHh                 -4  \n",
              "kWKvrqYL                -15  \n",
              "9tXo1AUZ                 54  \n",
              "qwU9rasv                 97  \n",
              "...                     ...  \n",
              "EopEqqAa                -31  \n",
              "WSJDhbPl                 37  \n",
              "yrAas0Kj                -67  \n",
              "b0v4tRyF                133  \n",
              "N8G2JHGG               -104  \n",
              "\n",
              "[12449 rows x 11 columns]"
            ]
          },
          "execution_count": 23,
          "metadata": {},
          "output_type": "execute_result"
        }
      ],
      "source": [
        "df"
      ]
    },
    {
      "cell_type": "markdown",
      "metadata": {
        "id": "vNn1wgpOkPpd"
      },
      "source": [
        "# Proposed Solution\n",
        "\n",
        "In order to predict the winner of the chess game, we will compare three different classification models and select the best one based on their respective performances, as measured by the evaluation metrics accuracy and f1 score. The three models we will use are:\n",
        "\n",
        "1. Logistic Regression\n",
        "\n",
        "Logistic regression is a method that aims to fit a linear decision boundary that separates classes based on their input features. Since there are three outcomes in our dataset, white win (1), black win (0), and draw (2), we will use use a one vs rest classifier in our logistic regression model to classify the three outcomes. In order to implement this model, we will split our dataset into training, validation, and test sets, where we will first train the model, tune the hyperparameters using the validation set, evaluate it based on accuracy and f1 score, and finally predict classifications using the test set. We will use gradient descent to find the best hyperparameters that minimize the loss function.\n",
        "\n",
        "2. Random Forests\n",
        "\n",
        "Random forests is a method that combines multiple decision trees that are each trained on a random subset of the training data and a random subset of the input features. We are using random forests because this method has many advantages over simple decision trees. For instance, random forests reduce overfitting by averaging the predictions of many decision trees. More importantly, however, random forests provide a measure of the importance of each feature by evaluating how much the performance of the model changes when different features are removed. This will help us determine which feature (player ratings, opening moves, piece color, etc.) are most important in predicting a winner. We will follow a similar method as with Logistic Regression to evaluate our Random Forests model. That is, we will split the data into training and test sets, train the model on the training set, tune the hyperparameters on the training set using k-fold cross-validation, evaluate the model based on accuaracy and f1 score, and finally predict classifications using the test set.\n",
        "\n",
        "3. SVM\n",
        "\n",
        "SVM is a method that aims to find a hyperplane that separates classes while creating the largest margin between the classes, which is determined by support vectors within the classes. This is achieved by minimizing a loss function that accounts for both misclassification errors and points that are within the margin surrounding the decision boundary hyperplane. We will most likely use linear SVM since this handles large datasets well, and we do not anticipate any curvature to or nonlinear patters in the data. As with the Logistic Regression and Random Forests models, we will begin by splitting our data set into training and test sets. Then we will train the model on the traning set using a one vs one classifier. Next we will tune the hyperparameters on the training set using k-fold cross-validation and evaluate the model based on accuracy and f1 score, and finally we will predict classifications using the test set."
      ]
    },
    {
      "cell_type": "markdown",
      "metadata": {
        "id": "tvazcS-ekPpd"
      },
      "source": [
        "# Evaluation Metrics\n",
        "\n",
        "We will evaluate our model performances using the metrics accuracy and f1 score. \n",
        "\n",
        "Accuracy will be calculated by dividing the the number of correct predictions (e.g. white predicted to win and white actually wins) by the number of total predictions (the total training set size):\n",
        "\n",
        "    accuracy = (number of correct predictions) / (number of total predictions)\n",
        "\n",
        "This will give a pretty good estimate of which model is best at accurately predicting who will win since this is the most direct computation. \n",
        "\n",
        "Additionally, we will calculate the f1 score to compare our models. Since there are 3 outcomes in our classification problem, we must use a weighted average f1 score. That means precision, recall, and f1 score will be calculated 3 times each. Each class (white win, black win, and draw) will serve as the positive class for one round of calculations, with the remaining two classes serving as the negative class. For example, for one calculation of precision, recall and f1 score, white win will be the positive class, and black win or draw will be the negative class. Precision, recall, and f1 score will be calculated by the following formulae:\n",
        "\n",
        "    TP = number of instances correctly classified as positive class (e.g. white win predicted as white win)\n",
        "    FP = number of instances incorrectly classified as positive class (e.g. black win or draw predicted as white win)\n",
        "    FN = number of instances incorrectly classified as negative class (e.g. white win predicted as black win or draw)\n",
        "    TN = number of instances correctly classified as negative class (e.g. black win or draw predicted as black win or draw)\n",
        "    precision = TP / (TP + FP)\n",
        "    recall = TP / (TP + FN)\n",
        "    f1 score = (2 * precision * recall) / (precision + recall)\n",
        "\n",
        "To calculate the weighted average f1 score, we will use the following formulae:\n",
        "\n",
        "    N_white_win = number of instances in dataset of white win\n",
        "    N_black_win = number of instances in dataset of black win\n",
        "    N_draw = number of instances in dataset of draw\n",
        "    N_total = number of total instances in dataset\n",
        "    f1 weighted average = ((F1 score white win * N_white_win) + (F1 score black win * N_black_win) + (F1 score draw * N_draw)) / N_total\n",
        "\n",
        "We wanted to use the weighted average f1 score to account for the imbalanced class sizes we have, since there are significantly fewer instances of draws than of white wins or black wins. The weighted average f1 score gives more weight to classes that have more instances, so this works well in our situation."
      ]
    },
    {
      "cell_type": "markdown",
      "metadata": {
        "id": "rjTD63FSkPpe"
      },
      "source": [
        "# Results\n",
        "\n",
        "You may have done tons of work on this. Not all of it belongs here. \n",
        "\n",
        "Reports should have a __narrative__. Once you've looked through all your results over the quarter, decide on one main point and 2-4 secondary points you want us to understand. Include the detailed code and analysis results of those points only; you should spend more time/code/plots on your main point than the others.\n",
        "\n",
        "If you went down any blind alleys that you later decided to not pursue, please don't abuse the TAs time by throwing in 81 lines of code and 4 plots related to something you actually abandoned.  Consider deleting things that are not important to your narrative.  If its slightly relevant to the narrative or you just want us to know you tried something, you could keep it in by summarizing the result in this report in a sentence or two, moving the actual analysis to another file in your repo, and providing us a link to that file.\n",
        "\n",
        "### EDA (Exploratory Data Analysis)\n",
        "\n",
        "Exploratory Data Analysis on the final dataset, exploring the relatiosnhips between the different features and winning, as well as the relationships between the first moves between white and black.\n",
        "\n",
        "### Subsection 2\n",
        "\n",
        "Another likely section is if you are doing any feature selection through cross-validation or hand-design/validation of features/transformations of the data\n",
        "\n",
        "### Subsection 3\n",
        "\n",
        "Probably you need to describe the base model and demonstrate its performance.  Maybe you include a learning curve to show whether you have enough data to do train/validate/test split or have to go to k-folds or LOOCV or ???\n",
        "\n",
        "### Subsection 4\n",
        "\n",
        "Perhaps some exploration of the model selection (hyper-parameters) or algorithm selection task. Validation curves, plots showing the variability of perfromance across folds of the cross-validation, etc. If you're doing one, the outcome of the null hypothesis test or parsimony principle check to show how you are selecting the best model.\n",
        "\n",
        "### Subsection 5 \n",
        "\n",
        "Maybe you do model selection again, but using a different kind of metric than before?\n",
        "\n"
      ]
    },
    {
      "attachments": {},
      "cell_type": "markdown",
      "metadata": {
        "id": "yHBcN1cBkPpf"
      },
      "source": [
        "# **Subsection 1** - EDA"
      ]
    },
    {
      "cell_type": "code",
      "execution_count": 24,
      "metadata": {
        "colab": {
          "base_uri": "https://localhost:8080/",
          "height": 454
        },
        "id": "p8iFxaPLkPpf",
        "outputId": "e95a431f-f060-4704-970f-917a0e008f92"
      },
      "outputs": [
        {
          "data": {
            "text/html": [
              "<div>\n",
              "<style scoped>\n",
              "    .dataframe tbody tr th:only-of-type {\n",
              "        vertical-align: middle;\n",
              "    }\n",
              "\n",
              "    .dataframe tbody tr th {\n",
              "        vertical-align: top;\n",
              "    }\n",
              "\n",
              "    .dataframe thead th {\n",
              "        text-align: right;\n",
              "    }\n",
              "</style>\n",
              "<table border=\"1\" class=\"dataframe\">\n",
              "  <thead>\n",
              "    <tr style=\"text-align: right;\">\n",
              "      <th></th>\n",
              "      <th>rated</th>\n",
              "      <th>turns</th>\n",
              "      <th>victory_status</th>\n",
              "      <th>winner</th>\n",
              "      <th>increment_code</th>\n",
              "      <th>white_rating</th>\n",
              "      <th>black_rating</th>\n",
              "      <th>opening_ply</th>\n",
              "      <th>white_first_move</th>\n",
              "      <th>black_first_move</th>\n",
              "      <th>rating_difference</th>\n",
              "    </tr>\n",
              "    <tr>\n",
              "      <th>id</th>\n",
              "      <th></th>\n",
              "      <th></th>\n",
              "      <th></th>\n",
              "      <th></th>\n",
              "      <th></th>\n",
              "      <th></th>\n",
              "      <th></th>\n",
              "      <th></th>\n",
              "      <th></th>\n",
              "      <th></th>\n",
              "      <th></th>\n",
              "    </tr>\n",
              "  </thead>\n",
              "  <tbody>\n",
              "    <tr>\n",
              "      <th>l1NXvwaE</th>\n",
              "      <td>1</td>\n",
              "      <td>16</td>\n",
              "      <td>1</td>\n",
              "      <td>1</td>\n",
              "      <td>blitz</td>\n",
              "      <td>1322</td>\n",
              "      <td>1261</td>\n",
              "      <td>4</td>\n",
              "      <td>d4</td>\n",
              "      <td>Nc6</td>\n",
              "      <td>61</td>\n",
              "    </tr>\n",
              "    <tr>\n",
              "      <th>mIICvQHh</th>\n",
              "      <td>1</td>\n",
              "      <td>61</td>\n",
              "      <td>0</td>\n",
              "      <td>0</td>\n",
              "      <td>blitz</td>\n",
              "      <td>1496</td>\n",
              "      <td>1500</td>\n",
              "      <td>3</td>\n",
              "      <td>e4</td>\n",
              "      <td>e5</td>\n",
              "      <td>-4</td>\n",
              "    </tr>\n",
              "    <tr>\n",
              "      <th>kWKvrqYL</th>\n",
              "      <td>1</td>\n",
              "      <td>61</td>\n",
              "      <td>0</td>\n",
              "      <td>0</td>\n",
              "      <td>classical</td>\n",
              "      <td>1439</td>\n",
              "      <td>1454</td>\n",
              "      <td>3</td>\n",
              "      <td>d4</td>\n",
              "      <td>d5</td>\n",
              "      <td>-15</td>\n",
              "    </tr>\n",
              "    <tr>\n",
              "      <th>9tXo1AUZ</th>\n",
              "      <td>1</td>\n",
              "      <td>95</td>\n",
              "      <td>0</td>\n",
              "      <td>0</td>\n",
              "      <td>classical</td>\n",
              "      <td>1523</td>\n",
              "      <td>1469</td>\n",
              "      <td>5</td>\n",
              "      <td>e4</td>\n",
              "      <td>e5</td>\n",
              "      <td>54</td>\n",
              "    </tr>\n",
              "    <tr>\n",
              "      <th>qwU9rasv</th>\n",
              "      <td>1</td>\n",
              "      <td>33</td>\n",
              "      <td>1</td>\n",
              "      <td>0</td>\n",
              "      <td>rapid</td>\n",
              "      <td>1520</td>\n",
              "      <td>1423</td>\n",
              "      <td>10</td>\n",
              "      <td>d4</td>\n",
              "      <td>d5</td>\n",
              "      <td>97</td>\n",
              "    </tr>\n",
              "    <tr>\n",
              "      <th>...</th>\n",
              "      <td>...</td>\n",
              "      <td>...</td>\n",
              "      <td>...</td>\n",
              "      <td>...</td>\n",
              "      <td>...</td>\n",
              "      <td>...</td>\n",
              "      <td>...</td>\n",
              "      <td>...</td>\n",
              "      <td>...</td>\n",
              "      <td>...</td>\n",
              "      <td>...</td>\n",
              "    </tr>\n",
              "    <tr>\n",
              "      <th>EopEqqAa</th>\n",
              "      <td>1</td>\n",
              "      <td>37</td>\n",
              "      <td>1</td>\n",
              "      <td>0</td>\n",
              "      <td>rapid</td>\n",
              "      <td>1219</td>\n",
              "      <td>1250</td>\n",
              "      <td>4</td>\n",
              "      <td>c4</td>\n",
              "      <td>e6</td>\n",
              "      <td>-31</td>\n",
              "    </tr>\n",
              "    <tr>\n",
              "      <th>WSJDhbPl</th>\n",
              "      <td>1</td>\n",
              "      <td>82</td>\n",
              "      <td>0</td>\n",
              "      <td>1</td>\n",
              "      <td>rapid</td>\n",
              "      <td>1233</td>\n",
              "      <td>1196</td>\n",
              "      <td>2</td>\n",
              "      <td>d4</td>\n",
              "      <td>d6</td>\n",
              "      <td>37</td>\n",
              "    </tr>\n",
              "    <tr>\n",
              "      <th>yrAas0Kj</th>\n",
              "      <td>1</td>\n",
              "      <td>35</td>\n",
              "      <td>0</td>\n",
              "      <td>0</td>\n",
              "      <td>rapid</td>\n",
              "      <td>1219</td>\n",
              "      <td>1286</td>\n",
              "      <td>3</td>\n",
              "      <td>d4</td>\n",
              "      <td>d5</td>\n",
              "      <td>-67</td>\n",
              "    </tr>\n",
              "    <tr>\n",
              "      <th>b0v4tRyF</th>\n",
              "      <td>1</td>\n",
              "      <td>109</td>\n",
              "      <td>1</td>\n",
              "      <td>0</td>\n",
              "      <td>rapid</td>\n",
              "      <td>1360</td>\n",
              "      <td>1227</td>\n",
              "      <td>4</td>\n",
              "      <td>e4</td>\n",
              "      <td>d6</td>\n",
              "      <td>133</td>\n",
              "    </tr>\n",
              "    <tr>\n",
              "      <th>N8G2JHGG</th>\n",
              "      <td>1</td>\n",
              "      <td>78</td>\n",
              "      <td>0</td>\n",
              "      <td>1</td>\n",
              "      <td>rapid</td>\n",
              "      <td>1235</td>\n",
              "      <td>1339</td>\n",
              "      <td>3</td>\n",
              "      <td>d4</td>\n",
              "      <td>d5</td>\n",
              "      <td>-104</td>\n",
              "    </tr>\n",
              "  </tbody>\n",
              "</table>\n",
              "<p>12449 rows × 11 columns</p>\n",
              "</div>"
            ],
            "text/plain": [
              "          rated  turns  victory_status  winner increment_code  white_rating  \\\n",
              "id                                                                            \n",
              "l1NXvwaE      1     16               1       1          blitz          1322   \n",
              "mIICvQHh      1     61               0       0          blitz          1496   \n",
              "kWKvrqYL      1     61               0       0      classical          1439   \n",
              "9tXo1AUZ      1     95               0       0      classical          1523   \n",
              "qwU9rasv      1     33               1       0          rapid          1520   \n",
              "...         ...    ...             ...     ...            ...           ...   \n",
              "EopEqqAa      1     37               1       0          rapid          1219   \n",
              "WSJDhbPl      1     82               0       1          rapid          1233   \n",
              "yrAas0Kj      1     35               0       0          rapid          1219   \n",
              "b0v4tRyF      1    109               1       0          rapid          1360   \n",
              "N8G2JHGG      1     78               0       1          rapid          1235   \n",
              "\n",
              "          black_rating  opening_ply white_first_move black_first_move  \\\n",
              "id                                                                      \n",
              "l1NXvwaE          1261            4               d4              Nc6   \n",
              "mIICvQHh          1500            3               e4               e5   \n",
              "kWKvrqYL          1454            3               d4               d5   \n",
              "9tXo1AUZ          1469            5               e4               e5   \n",
              "qwU9rasv          1423           10               d4               d5   \n",
              "...                ...          ...              ...              ...   \n",
              "EopEqqAa          1250            4               c4               e6   \n",
              "WSJDhbPl          1196            2               d4               d6   \n",
              "yrAas0Kj          1286            3               d4               d5   \n",
              "b0v4tRyF          1227            4               e4               d6   \n",
              "N8G2JHGG          1339            3               d4               d5   \n",
              "\n",
              "          rating_difference  \n",
              "id                           \n",
              "l1NXvwaE                 61  \n",
              "mIICvQHh                 -4  \n",
              "kWKvrqYL                -15  \n",
              "9tXo1AUZ                 54  \n",
              "qwU9rasv                 97  \n",
              "...                     ...  \n",
              "EopEqqAa                -31  \n",
              "WSJDhbPl                 37  \n",
              "yrAas0Kj                -67  \n",
              "b0v4tRyF                133  \n",
              "N8G2JHGG               -104  \n",
              "\n",
              "[12449 rows x 11 columns]"
            ]
          },
          "execution_count": 24,
          "metadata": {},
          "output_type": "execute_result"
        }
      ],
      "source": [
        "df #for reference "
      ]
    },
    {
      "cell_type": "code",
      "execution_count": 25,
      "metadata": {
        "id": "HKaNbJ5SkPpf"
      },
      "outputs": [],
      "source": [
        "labels = {0: 'white', 1: 'black', 2: 'draw'}"
      ]
    },
    {
      "cell_type": "code",
      "execution_count": 26,
      "metadata": {
        "colab": {
          "base_uri": "https://localhost:8080/",
          "height": 295
        },
        "id": "_dLdWBBlkPpf",
        "outputId": "a6b174c1-ef04-4484-ff5f-64514cb49dcf"
      },
      "outputs": [
        {
          "data": {
            "image/png": "[encoded data removed]",
            "text/plain": [
              "<Figure size 432x288 with 1 Axes>"
            ]
          },
          "metadata": {
            "needs_background": "light"
          },
          "output_type": "display_data"
        }
      ],
      "source": [
        "ax = sns.countplot(data=df, x='winner', palette='mako')\n",
        "ax.set(title='Win counts of each player color')\n",
        "ax.set_xticklabels(['white', 'black', 'draw'])\n",
        "plt.show()"
      ]
    },
    {
      "cell_type": "code",
      "execution_count": 27,
      "metadata": {
        "colab": {
          "base_uri": "https://localhost:8080/",
          "height": 296
        },
        "id": "zh1mnZW1kPpf",
        "outputId": "a505040b-c4e9-4938-dd56-eecf6e58a001"
      },
      "outputs": [
        {
          "data": {
            "image/png": "[encoded data removed]",
            "text/plain": [
              "<Figure size 432x288 with 1 Axes>"
            ]
          },
          "metadata": {
            "needs_background": "light"
          },
          "output_type": "display_data"
        }
      ],
      "source": [
        "ax = sns.countplot(data=df, x='increment_code', hue=df['winner'].map(labels), palette='mako')\n",
        "ax.set(title='Outcome counts of each increment group')\n",
        "plt.show()"
      ]
    },
    {
      "cell_type": "code",
      "execution_count": 28,
      "metadata": {
        "colab": {
          "base_uri": "https://localhost:8080/",
          "height": 296
        },
        "id": "S1WUHakbkPpf",
        "outputId": "49febe8d-448e-444d-81ae-b00fe3b2e8d5"
      },
      "outputs": [
        {
          "data": {
            "image/png": "[encoded data removed]",
            "text/plain": [
              "<Figure size 432x288 with 1 Axes>"
            ]
          },
          "metadata": {
            "needs_background": "light"
          },
          "output_type": "display_data"
        }
      ],
      "source": [
        "fm = dict(df.white_first_move.value_counts(ascending=False)[0:6])\n",
        "first_moves_w = list(fm.keys())\n",
        "fm_df = df[df.white_first_move.isin(first_moves_w)]\n",
        "\n",
        "ax = sns.countplot(data=fm_df, x='white_first_move', palette='mako', hue=df['winner'].map(labels))\n",
        "ax.set(title='Top 6 Most Commonly Used First Moves by White')\n",
        "plt.show()"
      ]
    },
    {
      "cell_type": "code",
      "execution_count": 29,
      "metadata": {
        "colab": {
          "base_uri": "https://localhost:8080/",
          "height": 296
        },
        "id": "5RYbhOP9kPpf",
        "outputId": "fbce242c-f1ff-4b97-941b-fe7f30554fcf"
      },
      "outputs": [
        {
          "data": {
            "image/png": "[encoded data removed]",
            "text/plain": [
              "<Figure size 432x288 with 1 Axes>"
            ]
          },
          "metadata": {
            "needs_background": "light"
          },
          "output_type": "display_data"
        }
      ],
      "source": [
        "fm1 = dict(df.black_first_move.value_counts(ascending=False)[0:6])\n",
        "first_moves_b = list(fm1.keys())\n",
        "fm1_df = df[df.black_first_move.isin(first_moves_b)]\n",
        "\n",
        "ax = sns.countplot(data=fm1_df, x='black_first_move', palette='mako', hue=df['winner'].map(labels))\n",
        "ax.set(title='Top 6 Most Commonly Used First Moves by Black')\n",
        "plt.show()"
      ]
    },
    {
      "cell_type": "code",
      "execution_count": 30,
      "metadata": {
        "colab": {
          "base_uri": "https://localhost:8080/",
          "height": 296
        },
        "id": "POKJD1cQkPpg",
        "outputId": "8e4691ef-09ba-4e02-fec6-37a8bc16f6d3"
      },
      "outputs": [
        {
          "data": {
            "image/png": "[encoded data removed]",
            "text/plain": [
              "<Figure size 432x288 with 1 Axes>"
            ]
          },
          "metadata": {
            "needs_background": "light"
          },
          "output_type": "display_data"
        }
      ],
      "source": [
        "fm_df = df.loc[df.white_first_move == 'd4']\n",
        "fm = dict(fm_df.black_first_move.value_counts(ascending=False)[0:6])\n",
        "b_d4 = list(fm.keys())\n",
        "fm_df = fm_df[fm_df.black_first_move.isin(b_d4)]\n",
        "\n",
        "ax = sns.countplot(data=fm_df, x='black_first_move', hue=df['winner'].map(labels), palette='mako')\n",
        "ax.set(title='Top 6 Most Commonly Used First Moves by Black against d4')\n",
        "plt.show()"
      ]
    },
    {
      "cell_type": "code",
      "execution_count": 31,
      "metadata": {
        "colab": {
          "base_uri": "https://localhost:8080/",
          "height": 296
        },
        "id": "ojGUxqHGkPpg",
        "outputId": "111582b3-dded-4f4d-c697-797e37142993"
      },
      "outputs": [
        {
          "data": {
            "image/png": "[encoded data removed]",
            "text/plain": [
              "<Figure size 432x288 with 1 Axes>"
            ]
          },
          "metadata": {
            "needs_background": "light"
          },
          "output_type": "display_data"
        }
      ],
      "source": [
        "fm_df1 = df.loc[df.white_first_move == 'e4']\n",
        "fm1 = dict(fm_df1.black_first_move.value_counts(ascending=False)[0:6])\n",
        "b_e4 = list(fm1.keys())\n",
        "fm_df1 = fm_df1[fm_df1.black_first_move.isin(b_e4)]\n",
        "\n",
        "ax = sns.countplot(data=fm_df1, x='black_first_move', hue=df['winner'].map(labels), palette='mako')\n",
        "ax.set(title='Top 6 Most Commonly Used First Moves by Black against e4')\n",
        "plt.show()"
      ]
    },
    {
      "cell_type": "code",
      "execution_count": 32,
      "metadata": {
        "colab": {
          "base_uri": "https://localhost:8080/",
          "height": 296
        },
        "id": "Hn-TchKKkPpg",
        "outputId": "0a0d2636-1828-49d1-df42-b84dc1781108"
      },
      "outputs": [
        {
          "data": {
            "image/png": "[encoded data removed]",
            "text/plain": [
              "<Figure size 432x288 with 1 Axes>"
            ]
          },
          "metadata": {
            "needs_background": "light"
          },
          "output_type": "display_data"
        }
      ],
      "source": [
        "fm_df2 = df.loc[df.white_first_move == 'c4']\n",
        "fm2 = dict(fm_df2.black_first_move.value_counts(ascending=False)[0:6])\n",
        "b_c4 = list(fm2.keys())\n",
        "fm_df2 = fm_df2[fm_df2.black_first_move.isin(b_c4)]\n",
        "\n",
        "ax = sns.countplot(data=fm_df2, x='black_first_move', hue=df['winner'].map(labels), palette='mako')\n",
        "ax.set(title='Top 6 Most Commonly Used First Moves by Black against c4')\n",
        "plt.show()"
      ]
    },
    {
      "cell_type": "code",
      "execution_count": 33,
      "metadata": {
        "colab": {
          "base_uri": "https://localhost:8080/",
          "height": 296
        },
        "id": "PBEf5gFukPpg",
        "outputId": "5013c76a-db2f-444f-aa50-a1ce3804a204"
      },
      "outputs": [
        {
          "data": {
            "image/png": "[encoded data removed]",
            "text/plain": [
              "<Figure size 432x288 with 1 Axes>"
            ]
          },
          "metadata": {
            "needs_background": "light"
          },
          "output_type": "display_data"
        }
      ],
      "source": [
        "fm_df3 = df.loc[df.white_first_move == 'Nf3']\n",
        "fm3 = dict(fm_df3.black_first_move.value_counts(ascending=False)[0:6])\n",
        "b_Nf3 = list(fm3.keys())\n",
        "fm_df3 = fm_df3[fm_df3.black_first_move.isin(b_Nf3)]\n",
        "\n",
        "ax = sns.countplot(data=fm_df3, x='black_first_move', hue=df['winner'].map(labels), palette='mako')\n",
        "ax.set(title='Top 6 Most Commonly Used First Moves by Black against Nf3')\n",
        "plt.show()"
      ]
    },
    {
      "cell_type": "code",
      "execution_count": 34,
      "metadata": {
        "colab": {
          "base_uri": "https://localhost:8080/",
          "height": 421
        },
        "id": "NT-JRB-kkPpg",
        "outputId": "18e87ad2-75ed-420a-8d1b-0e47c9b82c4c"
      },
      "outputs": [
        {
          "data": {
            "image/png": "[encoded data removed]",
            "text/plain": [
              "<Figure size 538.575x396 with 1 Axes>"
            ]
          },
          "metadata": {
            "needs_background": "light"
          },
          "output_type": "display_data"
        }
      ],
      "source": [
        "ax = sns.displot(df, x='turns', hue=df['winner'].map(labels), palette='icefire', \n",
        "                 kde=True, height=5.5, aspect=1.2)\n",
        "ax.set(title='Distribution of Turns (in game) by Game Outcome')\n",
        "plt.show()"
      ]
    },
    {
      "cell_type": "code",
      "execution_count": 35,
      "metadata": {
        "colab": {
          "base_uri": "https://localhost:8080/",
          "height": 421
        },
        "id": "u1y0fLhPkPpg",
        "outputId": "23f535cf-06f0-4a35-ed51-c3b86f54256e"
      },
      "outputs": [
        {
          "data": {
            "image/png": "[encoded data removed]",
            "text/plain": [
              "<Figure size 538.575x396 with 1 Axes>"
            ]
          },
          "metadata": {
            "needs_background": "light"
          },
          "output_type": "display_data"
        }
      ],
      "source": [
        "ax = sns.displot(df, x='white_rating', hue=df['winner'].map(labels), palette='icefire', \n",
        "                 kde=True, height=5.5, aspect=1.2)\n",
        "plt.title('The Distribution of White Player Ratings by Game Outcome')\n",
        "plt.show()"
      ]
    },
    {
      "cell_type": "code",
      "execution_count": 36,
      "metadata": {
        "colab": {
          "base_uri": "https://localhost:8080/",
          "height": 421
        },
        "id": "_NUU8DCKkPpg",
        "outputId": "db038efd-1916-49b5-8e05-acfbff2fcd8e"
      },
      "outputs": [
        {
          "data": {
            "image/png": "[encoded data removed]",
            "text/plain": [
              "<Figure size 538.575x396 with 1 Axes>"
            ]
          },
          "metadata": {
            "needs_background": "light"
          },
          "output_type": "display_data"
        }
      ],
      "source": [
        "ax = sns.displot(df, x='black_rating', hue=df['winner'].map(labels), palette='icefire', \n",
        "                 kde=True, height=5.5, aspect=1.2)\n",
        "plt.title('The Distribution of Black Player Ratings by Game Outcome')\n",
        "plt.show()"
      ]
    },
    {
      "cell_type": "code",
      "execution_count": 37,
      "metadata": {
        "colab": {
          "base_uri": "https://localhost:8080/",
          "height": 421
        },
        "id": "kPp0O5k5kPpg",
        "outputId": "3aa618ba-4c74-4e83-b34d-d7a298b1f32f"
      },
      "outputs": [
        {
          "data": {
            "image/png": "[encoded data removed]",
            "text/plain": [
              "<Figure size 538.575x396 with 1 Axes>"
            ]
          },
          "metadata": {
            "needs_background": "light"
          },
          "output_type": "display_data"
        }
      ],
      "source": [
        "ax = sns.displot(df, x='rating_difference', hue=df['winner'].map(labels), palette='icefire', \n",
        "                 kde=True, height=5.5, aspect=1.2)\n",
        "plt.title('The Distribution of Player Rating Difference by Game Outcome')\n",
        "plt.show()"
      ]
    },
    {
      "attachments": {},
      "cell_type": "markdown",
      "metadata": {},
      "source": [
        "#### SInce EDA is finished, we get rid of the draws to improve our accuracies and rated column to improve accuracy"
      ]
    },
    {
      "cell_type": "code",
      "execution_count": 38,
      "metadata": {},
      "outputs": [],
      "source": [
        "df = df[df['winner'] != 2]\n",
        "df = df.drop(['rated'], axis=1)"
      ]
    },
    {
      "attachments": {},
      "cell_type": "markdown",
      "metadata": {
        "id": "7GZXwRiBkPph"
      },
      "source": [
        "# **Subsection 2** - Feature selection & transformation"
      ]
    },
    {
      "cell_type": "code",
      "execution_count": 39,
      "metadata": {
        "colab": {
          "base_uri": "https://localhost:8080/",
          "height": 143
        },
        "id": "2pNa4ypzkPph",
        "outputId": "2c9ac9ad-e985-41bc-90d6-7da5273f3a3a"
      },
      "outputs": [
        {
          "data": {
            "text/html": [
              "<div>\n",
              "<style scoped>\n",
              "    .dataframe tbody tr th:only-of-type {\n",
              "        vertical-align: middle;\n",
              "    }\n",
              "\n",
              "    .dataframe tbody tr th {\n",
              "        vertical-align: top;\n",
              "    }\n",
              "\n",
              "    .dataframe thead th {\n",
              "        text-align: right;\n",
              "    }\n",
              "</style>\n",
              "<table border=\"1\" class=\"dataframe\">\n",
              "  <thead>\n",
              "    <tr style=\"text-align: right;\">\n",
              "      <th></th>\n",
              "      <th>turns</th>\n",
              "      <th>victory_status</th>\n",
              "      <th>winner</th>\n",
              "      <th>increment_code</th>\n",
              "      <th>white_rating</th>\n",
              "      <th>black_rating</th>\n",
              "      <th>opening_ply</th>\n",
              "      <th>white_first_move</th>\n",
              "      <th>black_first_move</th>\n",
              "      <th>rating_difference</th>\n",
              "    </tr>\n",
              "    <tr>\n",
              "      <th>id</th>\n",
              "      <th></th>\n",
              "      <th></th>\n",
              "      <th></th>\n",
              "      <th></th>\n",
              "      <th></th>\n",
              "      <th></th>\n",
              "      <th></th>\n",
              "      <th></th>\n",
              "      <th></th>\n",
              "      <th></th>\n",
              "    </tr>\n",
              "  </thead>\n",
              "  <tbody>\n",
              "    <tr>\n",
              "      <th>l1NXvwaE</th>\n",
              "      <td>16</td>\n",
              "      <td>1</td>\n",
              "      <td>1</td>\n",
              "      <td>blitz</td>\n",
              "      <td>1322</td>\n",
              "      <td>1261</td>\n",
              "      <td>4</td>\n",
              "      <td>d4</td>\n",
              "      <td>Nc6</td>\n",
              "      <td>61</td>\n",
              "    </tr>\n",
              "    <tr>\n",
              "      <th>mIICvQHh</th>\n",
              "      <td>61</td>\n",
              "      <td>0</td>\n",
              "      <td>0</td>\n",
              "      <td>blitz</td>\n",
              "      <td>1496</td>\n",
              "      <td>1500</td>\n",
              "      <td>3</td>\n",
              "      <td>e4</td>\n",
              "      <td>e5</td>\n",
              "      <td>-4</td>\n",
              "    </tr>\n",
              "  </tbody>\n",
              "</table>\n",
              "</div>"
            ],
            "text/plain": [
              "          turns  victory_status  winner increment_code  white_rating  \\\n",
              "id                                                                     \n",
              "l1NXvwaE     16               1       1          blitz          1322   \n",
              "mIICvQHh     61               0       0          blitz          1496   \n",
              "\n",
              "          black_rating  opening_ply white_first_move black_first_move  \\\n",
              "id                                                                      \n",
              "l1NXvwaE          1261            4               d4              Nc6   \n",
              "mIICvQHh          1500            3               e4               e5   \n",
              "\n",
              "          rating_difference  \n",
              "id                           \n",
              "l1NXvwaE                 61  \n",
              "mIICvQHh                 -4  "
            ]
          },
          "execution_count": 39,
          "metadata": {},
          "output_type": "execute_result"
        }
      ],
      "source": [
        "df.head(2)"
      ]
    },
    {
      "cell_type": "code",
      "execution_count": 58,
      "metadata": {
        "id": "YIT_9gcOkPph"
      },
      "outputs": [],
      "source": [
        "from sklearn.preprocessing import OneHotEncoder, StandardScaler\n",
        "from sklearn.compose import ColumnTransformer\n",
        "from sklearn.linear_model import LogisticRegression\n",
        "from sklearn.model_selection import cross_val_score\n",
        "from sklearn.feature_selection import SelectKBest, f_classif\n",
        "from sklearn.decomposition import TruncatedSVD\n",
        "\n",
        "\n",
        "X = df.drop('winner', axis=1)\n",
        "y = df['winner']\n",
        "\n",
        "# Transform categorical variables using one-hot encoding\n",
        "cat_cols = ['victory_status', 'increment_code', 'white_first_move', 'black_first_move']\n",
        "num_cols = ['turns', 'white_rating', 'black_rating', 'opening_ply', 'rating_difference']\n",
        "transformer = ColumnTransformer([('one_hot', OneHotEncoder(), cat_cols)], remainder='passthrough')\n",
        "X_transformed = transformer.fit_transform(X)\n",
        "\n",
        "# Scale numerical variables\n",
        "scaler = StandardScaler(with_mean = False)\n",
        "X_transformed[:, -5:] = scaler.fit_transform(X_transformed[:, -5:])\n",
        "\n",
        "# Apply TruncatedSVD\n",
        "selector = SelectKBest(score_func=f_classif, k=15)\n",
        "X_selected = selector.fit_transform(X_transformed, y)"
      ]
    },
    {
      "cell_type": "code",
      "execution_count": 59,
      "metadata": {},
      "outputs": [],
      "source": [
        "# Get the boolean array of selected features\n",
        "selected_features = selector.get_support()"
      ]
    },
    {
      "cell_type": "code",
      "execution_count": 60,
      "metadata": {},
      "outputs": [
        {
          "name": "stdout",
          "output_type": "stream",
          "text": [
            "['white_first_move_a3' 'white_first_move_a4' 'white_first_move_c4'\n",
            " 'white_first_move_d3' 'white_first_move_e3' 'black_first_move_Na6'\n",
            " 'black_first_move_Nf6' 'black_first_move_c5' 'black_first_move_d6'\n",
            " 'black_first_move_e5' 'turns' 'white_rating' 'black_rating' 'opening_ply'\n",
            " 'rating_difference']\n"
          ]
        }
      ],
      "source": [
        "one_hot_names = transformer.named_transformers_['one_hot'].get_feature_names_out(cat_cols)\n",
        "all_feature_names = np.concatenate([one_hot_names, num_cols])\n",
        "selected_feature_names = all_feature_names[selected_features]\n",
        "print(selected_feature_names)"
      ]
    },
    {
      "attachments": {},
      "cell_type": "markdown",
      "metadata": {},
      "source": [
        "# **Subsection 3** - Logistic Regression (Model Selection)"
      ]
    },
    {
      "cell_type": "markdown",
      "metadata": {
        "id": "MzCwxBzP3cDZ"
      },
      "source": [
        "**Create baseline Logistic Regression model and perform grid search cross-validation to find the best combination of hyperparameters.**"
      ]
    },
    {
      "cell_type": "code",
      "execution_count": 61,
      "metadata": {
        "colab": {
          "base_uri": "https://localhost:8080/",
          "height": 1000
        },
        "id": "k1B41AFXm7cB",
        "outputId": "198d6cc0-a88b-4864-c5bd-a1faa6fd2c08"
      },
      "outputs": [
        {
          "name": "stdout",
          "output_type": "stream",
          "text": [
            "Fitting 5 folds for each of 90 candidates, totalling 450 fits\n",
            "[CV 1/5] END C=0.1, class_weight=None, penalty=l1, solver=lbfgs;, score=nan total time=   0.0s\n",
            "[CV 2/5] END C=0.1, class_weight=None, penalty=l1, solver=lbfgs;, score=nan total time=   0.0s\n",
            "[CV 3/5] END C=0.1, class_weight=None, penalty=l1, solver=lbfgs;, score=nan total time=   0.0s\n",
            "[CV 4/5] END C=0.1, class_weight=None, penalty=l1, solver=lbfgs;, score=nan total time=   0.0s\n",
            "[CV 5/5] END C=0.1, class_weight=None, penalty=l1, solver=lbfgs;, score=nan total time=   0.0s\n",
            "[CV 3/5] END C=0.1, class_weight=None, penalty=l1, solver=liblinear;, score=0.627 total time=   0.1s\n",
            "[CV 1/5] END C=0.1, class_weight=None, penalty=l1, solver=sag;, score=nan total time=   0.0s\n",
            "[CV 2/5] END C=0.1, class_weight=None, penalty=l1, solver=sag;, score=nan total time=   0.0s\n",
            "[CV 4/5] END C=0.1, class_weight=None, penalty=l1, solver=liblinear;, score=0.643 total time=   0.1s\n",
            "[CV 3/5] END C=0.1, class_weight=None, penalty=l1, solver=sag;, score=nan total time=   0.0s\n",
            "[CV 4/5] END C=0.1, class_weight=None, penalty=l1, solver=sag;, score=nan total time=   0.0s\n",
            "[CV 2/5] END C=0.1, class_weight=None, penalty=l1, solver=liblinear;, score=0.650 total time=   0.2s\n",
            "[CV 5/5] END C=0.1, class_weight=None, penalty=l1, solver=sag;, score=nan total time=   0.0s\n",
            "[CV 5/5] END C=0.1, class_weight=None, penalty=l1, solver=liblinear;, score=0.640 total time=   0.1s\n",
            "[CV 1/5] END C=0.1, class_weight=None, penalty=l1, solver=liblinear;, score=0.633 total time=   0.3s\n",
            "[CV 1/5] END C=0.1, class_weight=None, penalty=l1, solver=newton-cg;, score=nan total time=   0.0s\n",
            "[CV 2/5] END C=0.1, class_weight=None, penalty=l1, solver=newton-cg;, score=nan total time=   0.0s\n",
            "[CV 3/5] END C=0.1, class_weight=None, penalty=l1, solver=newton-cg;, score=nan total time=   0.0s\n",
            "[CV 4/5] END C=0.1, class_weight=None, penalty=l1, solver=newton-cg;, score=nan total time=   0.0s\n",
            "[CV 5/5] END C=0.1, class_weight=None, penalty=l1, solver=newton-cg;, score=nan total time=   0.0s\n",
            "[CV 2/5] END C=0.1, class_weight=None, penalty=l1, solver=saga;, score=0.651 total time=   0.1s\n",
            "[CV 4/5] END C=0.1, class_weight=None, penalty=l1, solver=saga;, score=0.643 total time=   0.1s\n",
            "[CV 1/5] END C=0.1, class_weight=None, penalty=l1, solver=saga;, score=0.635 total time=   0.2s\n",
            "[CV 5/5] END C=0.1, class_weight=None, penalty=l1, solver=saga;, score=0.639 total time=   0.1s\n",
            "[CV 3/5] END C=0.1, class_weight=None, penalty=l1, solver=saga;, score=0.630 total time=   0.2s\n",
            "[CV 1/5] END C=0.1, class_weight=None, penalty=l2, solver=lbfgs;, score=0.633 total time=   0.3s\n",
            "[CV 1/5] END C=0.1, class_weight=None, penalty=l2, solver=liblinear;, score=0.632 total time=   0.0s\n",
            "[CV 2/5] END C=0.1, class_weight=None, penalty=l2, solver=liblinear;, score=0.651 total time=   0.0s\n",
            "[CV 3/5] END C=0.1, class_weight=None, penalty=l2, solver=liblinear;, score=0.635 total time=   0.0s\n",
            "[CV 2/5] END C=0.1, class_weight=None, penalty=l2, solver=lbfgs;, score=0.652 total time=   0.2s\n",
            "[CV 4/5] END C=0.1, class_weight=None, penalty=l2, solver=liblinear;, score=0.642 total time=   0.0s\n",
            "[CV 5/5] END C=0.1, class_weight=None, penalty=l2, solver=liblinear;, score=0.641 total time=   0.0s\n",
            "[CV 4/5] END C=0.1, class_weight=None, penalty=l2, solver=lbfgs;, score=0.642 total time=   0.2s\n",
            "[CV 5/5] END C=0.1, class_weight=None, penalty=l2, solver=lbfgs;, score=0.641 total time=   0.2s\n",
            "[CV 3/5] END C=0.1, class_weight=None, penalty=l2, solver=lbfgs;, score=0.637 total time=   0.3s\n",
            "[CV 4/5] END C=0.1, class_weight=None, penalty=l2, solver=sag;, score=0.641 total time=   0.1s\n",
            "[CV 2/5] END C=0.1, class_weight=None, penalty=l2, solver=sag;, score=0.651 total time=   0.4s\n",
            "[CV 1/5] END C=0.1, class_weight=None, penalty=l2, solver=saga;, score=0.632 total time=   0.2s\n",
            "[CV 5/5] END C=0.1, class_weight=None, penalty=l2, solver=sag;, score=0.640 total time=   0.1s\n",
            "[CV 1/5] END C=0.1, class_weight=None, penalty=l2, solver=sag;, score=0.632 total time=   0.5s\n",
            "[CV 2/5] END C=0.1, class_weight=None, penalty=l2, solver=saga;, score=0.652 total time=   0.2s\n",
            "[CV 3/5] END C=0.1, class_weight=None, penalty=l2, solver=saga;, score=0.631 total time=   0.3s\n",
            "[CV 5/5] END C=0.1, class_weight=None, penalty=l2, solver=saga;, score=0.640 total time=   0.4s\n",
            "[CV 2/5] END C=0.1, class_weight=None, penalty=l2, solver=newton-cg;, score=0.652 total time=   0.4s\n",
            "[CV 4/5] END C=0.1, class_weight=None, penalty=l2, solver=saga;, score=0.641 total time=   0.5s\n",
            "[CV 1/5] END C=0.1, class_weight=None, penalty=l2, solver=newton-cg;, score=0.633 total time=   0.3s\n",
            "[CV 3/5] END C=0.1, class_weight=None, penalty=l2, solver=sag;, score=0.633 total time=   0.9s\n",
            "[CV 3/5] END C=0.1, class_weight=None, penalty=elasticnet, solver=lbfgs;, score=nan total time=   0.0s\n",
            "[CV 1/5] END C=0.1, class_weight=None, penalty=elasticnet, solver=lbfgs;, score=nan total time=   0.0s\n",
            "[CV 4/5] END C=0.1, class_weight=None, penalty=elasticnet, solver=lbfgs;, score=nan total time=   0.0s\n",
            "[CV 2/5] END C=0.1, class_weight=None, penalty=elasticnet, solver=lbfgs;, score=nan total time=   0.0s\n",
            "[CV 5/5] END C=0.1, class_weight=None, penalty=elasticnet, solver=lbfgs;, score=nan total time=   0.0s\n",
            "[CV 1/5] END C=0.1, class_weight=None, penalty=elasticnet, solver=liblinear;, score=nan total time=   0.0s\n",
            "[CV 2/5] END C=0.1, class_weight=None, penalty=elasticnet, solver=liblinear;, score=nan total time=   0.1s\n",
            "[CV 3/5] END C=0.1, class_weight=None, penalty=elasticnet, solver=liblinear;, score=nan total time=   0.0s\n",
            "[CV 4/5] END C=0.1, class_weight=None, penalty=elasticnet, solver=liblinear;, score=nan total time=   0.1s\n",
            "[CV 5/5] END C=0.1, class_weight=None, penalty=elasticnet, solver=liblinear;, score=nan total time=   0.0s\n",
            "[CV 1/5] END C=0.1, class_weight=None, penalty=elasticnet, solver=sag;, score=nan total time=   0.1s\n",
            "[CV 3/5] END C=0.1, class_weight=None, penalty=elasticnet, solver=sag;, score=nan total time=   0.0s\n",
            "[CV 2/5] END C=0.1, class_weight=None, penalty=elasticnet, solver=sag;, score=nan total time=   0.0s\n",
            "[CV 4/5] END C=0.1, class_weight=None, penalty=elasticnet, solver=sag;, score=nan total time=   0.0s\n",
            "[CV 5/5] END C=0.1, class_weight=None, penalty=elasticnet, solver=sag;, score=nan total time=   0.0s\n",
            "[CV 2/5] END C=0.1, class_weight=None, penalty=elasticnet, solver=saga;, score=nan total time=   0.0s\n",
            "[CV 3/5] END C=0.1, class_weight=None, penalty=l2, solver=newton-cg;, score=0.637 total time=   0.5s\n",
            "[CV 3/5] END C=0.1, class_weight=None, penalty=elasticnet, solver=saga;, score=nan total time=   0.0s\n",
            "[CV 1/5] END C=0.1, class_weight=None, penalty=elasticnet, solver=saga;, score=nan total time=   0.1s\n",
            "[CV 4/5] END C=0.1, class_weight=None, penalty=elasticnet, solver=saga;, score=nan total time=   0.0s\n",
            "[CV 5/5] END C=0.1, class_weight=None, penalty=elasticnet, solver=saga;, score=nan total time=   0.0s[CV 3/5] END C=0.1, class_weight=None, penalty=elasticnet, solver=newton-cg;, score=nan total time=   0.0s\n",
            "[CV 4/5] END C=0.1, class_weight=None, penalty=elasticnet, solver=newton-cg;, score=nan total time=   0.0s\n",
            "[CV 1/5] END C=0.1, class_weight=None, penalty=elasticnet, solver=newton-cg;, score=nan total time=   0.0s\n",
            "[CV 2/5] END C=0.1, class_weight=None, penalty=elasticnet, solver=newton-cg;, score=nan total time=   0.0s\n",
            "\n",
            "[CV 5/5] END C=0.1, class_weight=None, penalty=elasticnet, solver=newton-cg;, score=nan total time=   0.0s\n",
            "[CV 1/5] END C=0.1, class_weight=balanced, penalty=l1, solver=lbfgs;, score=nan total time=   0.0s\n",
            "[CV 2/5] END C=0.1, class_weight=balanced, penalty=l1, solver=lbfgs;, score=nan total time=   0.0s\n",
            "[CV 3/5] END C=0.1, class_weight=balanced, penalty=l1, solver=lbfgs;, score=nan total time=   0.0s\n",
            "[CV 4/5] END C=0.1, class_weight=None, penalty=l2, solver=newton-cg;, score=0.643 total time=   0.6s\n",
            "[CV 4/5] END C=0.1, class_weight=balanced, penalty=l1, solver=lbfgs;, score=nan total time=   0.0s\n",
            "[CV 5/5] END C=0.1, class_weight=balanced, penalty=l1, solver=lbfgs;, score=nan total time=   0.0s\n",
            "[CV 5/5] END C=0.1, class_weight=balanced, penalty=l1, solver=liblinear;, score=0.643 total time=   0.1s\n",
            "[CV 3/5] END C=0.1, class_weight=balanced, penalty=l1, solver=liblinear;, score=0.628 total time=   0.1s\n",
            "[CV 1/5] END C=0.1, class_weight=balanced, penalty=l1, solver=sag;, score=nan total time=   0.0s\n",
            "[CV 2/5] END C=0.1, class_weight=balanced, penalty=l1, solver=sag;, score=nan total time=   0.0s\n",
            "[CV 3/5] END C=0.1, class_weight=balanced, penalty=l1, solver=sag;, score=nan total time=   0.0s\n",
            "[CV 1/5] END C=0.1, class_weight=balanced, penalty=l1, solver=liblinear;, score=0.627 total time=   0.2s\n",
            "[CV 4/5] END C=0.1, class_weight=balanced, penalty=l1, solver=sag;, score=nan total time=   0.0s\n",
            "[CV 5/5] END C=0.1, class_weight=balanced, penalty=l1, solver=sag;, score=nan total time=   0.0s\n",
            "[CV 4/5] END C=0.1, class_weight=balanced, penalty=l1, solver=liblinear;, score=0.638 total time=   0.1s\n",
            "[CV 2/5] END C=0.1, class_weight=balanced, penalty=l1, solver=liblinear;, score=0.659 total time=   0.1s\n",
            "[CV 5/5] END C=0.1, class_weight=None, penalty=l2, solver=newton-cg;, score=0.641 total time=   0.4s\n",
            "[CV 2/5] END C=0.1, class_weight=balanced, penalty=l1, solver=newton-cg;, score=nan total time=   0.0s\n",
            "[CV 3/5] END C=0.1, class_weight=balanced, penalty=l1, solver=newton-cg;, score=nan total time=   0.0s\n",
            "[CV 4/5] END C=0.1, class_weight=balanced, penalty=l1, solver=newton-cg;, score=nan total time=   0.0s\n",
            "[CV 5/5] END C=0.1, class_weight=balanced, penalty=l1, solver=newton-cg;, score=nan total time=   0.0s\n",
            "[CV 1/5] END C=0.1, class_weight=balanced, penalty=l1, solver=saga;, score=0.626 total time=   0.2s\n",
            "[CV 3/5] END C=0.1, class_weight=balanced, penalty=l1, solver=saga;, score=0.627 total time=   0.2s\n",
            "[CV 5/5] END C=0.1, class_weight=balanced, penalty=l1, solver=saga;, score=0.644 total time=   0.2s\n",
            "[CV 1/5] END C=0.1, class_weight=balanced, penalty=l1, solver=newton-cg;, score=nan total time=   0.0s\n",
            "[CV 2/5] END C=0.1, class_weight=balanced, penalty=l1, solver=saga;, score=0.659 total time=   0.2s\n",
            "[CV 4/5] END C=0.1, class_weight=balanced, penalty=l1, solver=saga;, score=0.638 total time=   0.2s\n",
            "[CV 1/5] END C=0.1, class_weight=balanced, penalty=l2, solver=lbfgs;, score=0.626 total time=   0.2s\n",
            "[CV 2/5] END C=0.1, class_weight=balanced, penalty=l2, solver=liblinear;, score=0.660 total time=   0.0s\n",
            "[CV 3/5] END C=0.1, class_weight=balanced, penalty=l2, solver=liblinear;, score=0.635 total time=   0.0s\n",
            "[CV 3/5] END C=0.1, class_weight=balanced, penalty=l2, solver=lbfgs;, score=0.633 total time=   0.3s\n",
            "[CV 4/5] END C=0.1, class_weight=balanced, penalty=l2, solver=liblinear;, score=0.642 total time=   0.0s\n",
            "[CV 5/5] END C=0.1, class_weight=balanced, penalty=l2, solver=lbfgs;, score=0.635 total time=   0.2s\n",
            "[CV 5/5] END C=0.1, class_weight=balanced, penalty=l2, solver=liblinear;, score=0.635 total time=   0.1s\n",
            "[CV 2/5] END C=0.1, class_weight=balanced, penalty=l2, solver=lbfgs;, score=0.659 total time=   0.2s\n",
            "[CV 1/5] END C=0.1, class_weight=balanced, penalty=l2, solver=liblinear;, score=0.625 total time=   0.1s\n",
            "[CV 4/5] END C=0.1, class_weight=balanced, penalty=l2, solver=lbfgs;, score=0.642 total time=   0.2s\n",
            "[CV 5/5] END C=0.1, class_weight=balanced, penalty=l2, solver=sag;, score=0.636 total time=   0.3s\n",
            "[CV 2/5] END C=0.1, class_weight=balanced, penalty=l2, solver=saga;, score=0.658 total time=   0.4s\n",
            "[CV 1/5] END C=0.1, class_weight=balanced, penalty=l2, solver=sag;, score=0.623 total time=   0.6s\n",
            "[CV 3/5] END C=0.1, class_weight=balanced, penalty=l2, solver=sag;, score=0.636 total time=   0.6s\n",
            "[CV 1/5] END C=0.1, class_weight=balanced, penalty=l2, solver=saga;, score=0.622 total time=   0.3s\n",
            "[CV 4/5] END C=0.1, class_weight=balanced, penalty=l2, solver=sag;, score=0.643 total time=   0.2s\n",
            "[CV 3/5] END C=0.1, class_weight=balanced, penalty=l2, solver=saga;, score=0.633 total time=   0.4s\n",
            "[CV 2/5] END C=0.1, class_weight=balanced, penalty=l2, solver=sag;, score=0.657 total time=   0.3s\n",
            "[CV 4/5] END C=0.1, class_weight=balanced, penalty=l2, solver=saga;, score=0.642 total time=   0.3s\n",
            "[CV 1/5] END C=0.1, class_weight=balanced, penalty=l2, solver=newton-cg;, score=0.626 total time=   0.3s\n",
            "[CV 3/5] END C=0.1, class_weight=balanced, penalty=l2, solver=newton-cg;, score=0.633 total time=   0.3s\n",
            "[CV 5/5] END C=0.1, class_weight=balanced, penalty=l2, solver=newton-cg;, score=0.635 total time=   0.4s\n",
            "[CV 1/5] END C=0.1, class_weight=balanced, penalty=elasticnet, solver=lbfgs;, score=nan total time=   0.0s\n",
            "[CV 2/5] END C=0.1, class_weight=balanced, penalty=elasticnet, solver=lbfgs;, score=nan total time=   0.0s\n",
            "[CV 3/5] END C=0.1, class_weight=balanced, penalty=elasticnet, solver=lbfgs;, score=nan total time=   0.0s\n",
            "[CV 4/5] END C=0.1, class_weight=balanced, penalty=elasticnet, solver=lbfgs;, score=nan total time=   0.0s\n",
            "[CV 5/5] END C=0.1, class_weight=balanced, penalty=elasticnet, solver=lbfgs;, score=nan total time=   0.0s\n",
            "[CV 2/5] END C=0.1, class_weight=balanced, penalty=l2, solver=newton-cg;, score=0.659 total time=   0.3s\n",
            "[CV 1/5] END C=0.1, class_weight=balanced, penalty=elasticnet, solver=liblinear;, score=nan total time=   0.0s\n",
            "[CV 5/5] END C=0.1, class_weight=balanced, penalty=l2, solver=saga;, score=0.637 total time=   0.5s\n",
            "[CV 3/5] END C=0.1, class_weight=balanced, penalty=elasticnet, solver=liblinear;, score=nan total time=   0.0s\n",
            "[CV 2/5] END C=0.1, class_weight=balanced, penalty=elasticnet, solver=liblinear;, score=nan total time=   0.0s[CV 5/5] END C=0.1, class_weight=balanced, penalty=elasticnet, solver=liblinear;, score=nan total time=   0.0s\n",
            "\n",
            "[CV 1/5] END C=0.1, class_weight=balanced, penalty=elasticnet, solver=sag;, score=nan total time=   0.0s\n",
            "[CV 4/5] END C=0.1, class_weight=balanced, penalty=elasticnet, solver=liblinear;, score=nan total time=   0.0s\n",
            "[CV 4/5] END C=0.1, class_weight=balanced, penalty=l2, solver=newton-cg;, score=0.642 total time=   0.3s\n",
            "[CV 2/5] END C=0.1, class_weight=balanced, penalty=elasticnet, solver=sag;, score=nan total time=   0.0s\n",
            "[CV 4/5] END C=0.1, class_weight=balanced, penalty=elasticnet, solver=sag;, score=nan total time=   0.0s\n",
            "[CV 5/5] END C=0.1, class_weight=balanced, penalty=elasticnet, solver=sag;, score=nan total time=   0.0s\n",
            "[CV 3/5] END C=0.1, class_weight=balanced, penalty=elasticnet, solver=sag;, score=nan total time=   0.0s\n",
            "[CV 1/5] END C=0.1, class_weight=balanced, penalty=elasticnet, solver=saga;, score=nan total time=   0.0s\n",
            "[CV 2/5] END C=0.1, class_weight=balanced, penalty=elasticnet, solver=saga;, score=nan total time=   0.0s\n",
            "[CV 3/5] END C=0.1, class_weight=balanced, penalty=elasticnet, solver=saga;, score=nan total time=   0.0s\n",
            "[CV 5/5] END C=0.1, class_weight=balanced, penalty=elasticnet, solver=saga;, score=nan total time=   0.0s\n",
            "[CV 4/5] END C=0.1, class_weight=balanced, penalty=elasticnet, solver=saga;, score=nan total time=   0.0s\n",
            "[CV 1/5] END C=0.1, class_weight=balanced, penalty=elasticnet, solver=newton-cg;, score=nan total time=   0.0s\n",
            "[CV 2/5] END C=0.1, class_weight=balanced, penalty=elasticnet, solver=newton-cg;, score=nan total time=   0.0s\n",
            "[CV 4/5] END C=0.1, class_weight=balanced, penalty=elasticnet, solver=newton-cg;, score=nan total time=   0.0s\n",
            "[CV 3/5] END C=0.1, class_weight=balanced, penalty=elasticnet, solver=newton-cg;, score=nan total time=   0.0s[CV 5/5] END C=0.1, class_weight=balanced, penalty=elasticnet, solver=newton-cg;, score=nan total time=   0.0s\n",
            "\n",
            "[CV 1/5] END C=1, class_weight=None, penalty=l1, solver=lbfgs;, score=nan total time=   0.0s\n",
            "[CV 2/5] END C=1, class_weight=None, penalty=l1, solver=lbfgs;, score=nan total time=   0.0s\n",
            "[CV 3/5] END C=1, class_weight=None, penalty=l1, solver=lbfgs;, score=nan total time=   0.0s\n",
            "[CV 4/5] END C=1, class_weight=None, penalty=l1, solver=lbfgs;, score=nan total time=   0.0s\n",
            "[CV 5/5] END C=1, class_weight=None, penalty=l1, solver=lbfgs;, score=nan total time=   0.0s\n",
            "[CV 1/5] END C=1, class_weight=None, penalty=l1, solver=sag;, score=nan total time=   0.0s\n",
            "[CV 2/5] END C=1, class_weight=None, penalty=l1, solver=sag;, score=nan total time=   0.0s\n",
            "[CV 3/5] END C=1, class_weight=None, penalty=l1, solver=sag;, score=nan total time=   0.0s\n",
            "[CV 4/5] END C=1, class_weight=None, penalty=l1, solver=sag;, score=nan total time=   0.0s\n",
            "[CV 5/5] END C=1, class_weight=None, penalty=l1, solver=sag;, score=nan total time=   0.0s\n",
            "[CV 4/5] END C=1, class_weight=None, penalty=l1, solver=liblinear;, score=0.642 total time=   0.3s\n",
            "[CV 2/5] END C=1, class_weight=None, penalty=l1, solver=liblinear;, score=0.652 total time=   0.4s\n",
            "[CV 5/5] END C=1, class_weight=None, penalty=l1, solver=liblinear;, score=0.642 total time=   0.1s\n",
            "[CV 1/5] END C=1, class_weight=None, penalty=l1, solver=liblinear;, score=0.633 total time=   0.5s\n",
            "[CV 3/5] END C=1, class_weight=None, penalty=l1, solver=liblinear;, score=0.636 total time=   0.5s\n",
            "[CV 1/5] END C=1, class_weight=None, penalty=l1, solver=newton-cg;, score=nan total time=   0.0s\n",
            "[CV 2/5] END C=1, class_weight=None, penalty=l1, solver=newton-cg;, score=nan total time=   0.0s\n",
            "[CV 3/5] END C=1, class_weight=None, penalty=l1, solver=newton-cg;, score=nan total time=   0.0s\n",
            "[CV 4/5] END C=1, class_weight=None, penalty=l1, solver=newton-cg;, score=nan total time=   0.0s\n",
            "[CV 5/5] END C=1, class_weight=None, penalty=l1, solver=newton-cg;, score=nan total time=   0.0s\n",
            "[CV 1/5] END C=1, class_weight=None, penalty=l1, solver=saga;, score=0.630 total time=   1.4s\n",
            "[CV 1/5] END C=1, class_weight=None, penalty=l2, solver=lbfgs;, score=0.634 total time=   0.9s\n",
            "[CV 2/5] END C=1, class_weight=None, penalty=l2, solver=lbfgs;, score=0.653 total time=   0.7s\n",
            "[CV 4/5] END C=1, class_weight=None, penalty=l1, solver=saga;, score=0.641 total time=   1.9s\n",
            "[CV 4/5] END C=1, class_weight=None, penalty=l2, solver=lbfgs;, score=0.642 total time=   0.7s\n",
            "[CV 3/5] END C=1, class_weight=None, penalty=l2, solver=lbfgs;, score=0.636 total time=   0.8s\n",
            "[CV 1/5] END C=1, class_weight=None, penalty=l2, solver=liblinear;, score=0.634 total time=   0.1s\n",
            "[CV 5/5] END C=1, class_weight=None, penalty=l2, solver=lbfgs;, score=0.642 total time=   0.7s\n",
            "[CV 2/5] END C=1, class_weight=None, penalty=l2, solver=liblinear;, score=0.653 total time=   0.1s\n",
            "[CV 5/5] END C=1, class_weight=None, penalty=l2, solver=liblinear;, score=0.642 total time=   0.1s\n",
            "[CV 3/5] END C=1, class_weight=None, penalty=l2, solver=liblinear;, score=0.637 total time=   0.1s\n",
            "[CV 4/5] END C=1, class_weight=None, penalty=l2, solver=liblinear;, score=0.642 total time=   0.1s\n",
            "[CV 2/5] END C=1, class_weight=None, penalty=l2, solver=sag;, score=0.653 total time=   0.6s\n",
            "[CV 1/5] END C=1, class_weight=None, penalty=l2, solver=sag;, score=0.632 total time=   0.8s\n",
            "[CV 2/5] END C=1, class_weight=None, penalty=l1, solver=saga;, score=0.652 total time=   4.2s\n",
            "[CV 3/5] END C=1, class_weight=None, penalty=l2, solver=sag;, score=0.635 total time=   0.8s\n",
            "[CV 4/5] END C=1, class_weight=None, penalty=l2, solver=sag;, score=0.643 total time=   0.9s\n",
            "[CV 5/5] END C=1, class_weight=None, penalty=l2, solver=sag;, score=0.641 total time=   0.6s\n",
            "[CV 1/5] END C=1, class_weight=None, penalty=l2, solver=saga;, score=0.630 total time=   1.2s\n",
            "[CV 5/5] END C=1, class_weight=None, penalty=l1, solver=saga;, score=0.641 total time=   3.8s\n",
            "[CV 3/5] END C=1, class_weight=None, penalty=l2, solver=saga;, score=0.633 total time=   1.1s\n",
            "[CV 2/5] END C=1, class_weight=None, penalty=l2, solver=saga;, score=0.653 total time=   1.2s\n",
            "[CV 5/5] END C=1, class_weight=None, penalty=l2, solver=saga;, score=0.641 total time=   1.2s\n",
            "[CV 3/5] END C=1, class_weight=None, penalty=l1, solver=saga;, score=0.636 total time=   2.9s\n",
            "[CV 2/5] END C=1, class_weight=None, penalty=l2, solver=newton-cg;, score=0.653 total time=   0.3s\n",
            "[CV 1/5] END C=1, class_weight=None, penalty=l2, solver=newton-cg;, score=0.634 total time=   0.4s\n",
            "[CV 1/5] END C=1, class_weight=None, penalty=elasticnet, solver=lbfgs;, score=nan total time=   0.0s\n",
            "[CV 2/5] END C=1, class_weight=None, penalty=elasticnet, solver=lbfgs;, score=nan total time=   0.0s\n",
            "[CV 3/5] END C=1, class_weight=None, penalty=elasticnet, solver=lbfgs;, score=nan total time=   0.0s\n",
            "[CV 4/5] END C=1, class_weight=None, penalty=elasticnet, solver=lbfgs;, score=nan total time=   0.0s\n",
            "[CV 4/5] END C=1, class_weight=None, penalty=l2, solver=newton-cg;, score=0.642 total time=   0.5s\n",
            "[CV 5/5] END C=1, class_weight=None, penalty=elasticnet, solver=lbfgs;, score=nan total time=   0.0s\n",
            "[CV 3/5] END C=1, class_weight=None, penalty=l2, solver=newton-cg;, score=0.636 total time=   0.4s\n",
            "[CV 1/5] END C=1, class_weight=None, penalty=elasticnet, solver=liblinear;, score=nan total time=   0.0s\n",
            "[CV 2/5] END C=1, class_weight=None, penalty=elasticnet, solver=liblinear;, score=nan total time=   0.0s\n",
            "[CV 3/5] END C=1, class_weight=None, penalty=elasticnet, solver=liblinear;, score=nan total time=   0.0s\n",
            "[CV 4/5] END C=1, class_weight=None, penalty=elasticnet, solver=liblinear;, score=nan total time=   0.0s\n",
            "[CV 5/5] END C=1, class_weight=None, penalty=elasticnet, solver=liblinear;, score=nan total time=   0.0s\n",
            "[CV 1/5] END C=1, class_weight=None, penalty=elasticnet, solver=sag;, score=nan total time=   0.0s\n",
            "[CV 2/5] END C=1, class_weight=None, penalty=elasticnet, solver=sag;, score=nan total time=   0.0s\n",
            "[CV 3/5] END C=1, class_weight=None, penalty=elasticnet, solver=sag;, score=nan total time=   0.0s\n",
            "[CV 4/5] END C=1, class_weight=None, penalty=elasticnet, solver=sag;, score=nan total time=   0.0s\n",
            "[CV 5/5] END C=1, class_weight=None, penalty=elasticnet, solver=sag;, score=nan total time=   0.0s\n",
            "[CV 1/5] END C=1, class_weight=None, penalty=elasticnet, solver=saga;, score=nan total time=   0.0s\n",
            "[CV 2/5] END C=1, class_weight=None, penalty=elasticnet, solver=saga;, score=nan total time=   0.0s\n",
            "[CV 3/5] END C=1, class_weight=None, penalty=elasticnet, solver=saga;, score=nan total time=   0.0s\n",
            "[CV 5/5] END C=1, class_weight=None, penalty=l2, solver=newton-cg;, score=0.642 total time=   0.3s\n",
            "[CV 4/5] END C=1, class_weight=None, penalty=elasticnet, solver=saga;, score=nan total time=   0.0s\n",
            "[CV 5/5] END C=1, class_weight=None, penalty=elasticnet, solver=saga;, score=nan total time=   0.0s\n",
            "[CV 1/5] END C=1, class_weight=None, penalty=elasticnet, solver=newton-cg;, score=nan total time=   0.0s\n",
            "[CV 2/5] END C=1, class_weight=None, penalty=elasticnet, solver=newton-cg;, score=nan total time=   0.0s\n",
            "[CV 3/5] END C=1, class_weight=None, penalty=elasticnet, solver=newton-cg;, score=nan total time=   0.0s\n",
            "[CV 4/5] END C=1, class_weight=None, penalty=l2, solver=saga;, score=0.643 total time=   1.6s\n",
            "[CV 4/5] END C=1, class_weight=None, penalty=elasticnet, solver=newton-cg;, score=nan total time=   0.0s\n",
            "[CV 5/5] END C=1, class_weight=None, penalty=elasticnet, solver=newton-cg;, score=nan total time=   0.0s\n",
            "[CV 1/5] END C=1, class_weight=balanced, penalty=l1, solver=lbfgs;, score=nan total time=   0.0s\n",
            "[CV 2/5] END C=1, class_weight=balanced, penalty=l1, solver=lbfgs;, score=nan total time=   0.0s\n",
            "[CV 3/5] END C=1, class_weight=balanced, penalty=l1, solver=lbfgs;, score=nan total time=   0.0s\n",
            "[CV 4/5] END C=1, class_weight=balanced, penalty=l1, solver=lbfgs;, score=nan total time=   0.0s\n",
            "[CV 5/5] END C=1, class_weight=balanced, penalty=l1, solver=lbfgs;, score=nan total time=   0.0s\n",
            "[CV 2/5] END C=1, class_weight=balanced, penalty=l1, solver=sag;, score=nan total time=   0.0s\n",
            "[CV 3/5] END C=1, class_weight=balanced, penalty=l1, solver=sag;, score=nan total time=   0.0s\n",
            "[CV 4/5] END C=1, class_weight=balanced, penalty=l1, solver=sag;, score=nan total time=   0.0s\n",
            "[CV 5/5] END C=1, class_weight=balanced, penalty=l1, solver=sag;, score=nan total time=   0.0s\n",
            "[CV 5/5] END C=1, class_weight=balanced, penalty=l1, solver=liblinear;, score=0.636 total time=   0.1s\n",
            "[CV 1/5] END C=1, class_weight=balanced, penalty=l1, solver=sag;, score=nan total time=   0.0s\n",
            "[CV 3/5] END C=1, class_weight=balanced, penalty=l1, solver=liblinear;, score=0.636 total time=   0.3s\n",
            "[CV 1/5] END C=1, class_weight=balanced, penalty=l1, solver=liblinear;, score=0.624 total time=   0.3s\n",
            "[CV 4/5] END C=1, class_weight=balanced, penalty=l1, solver=liblinear;, score=0.642 total time=   0.1s\n",
            "[CV 2/5] END C=1, class_weight=balanced, penalty=l1, solver=liblinear;, score=0.659 total time=   0.5s\n",
            "[CV 4/5] END C=1, class_weight=balanced, penalty=l1, solver=newton-cg;, score=nan total time=   0.0s\n",
            "[CV 5/5] END C=1, class_weight=balanced, penalty=l1, solver=newton-cg;, score=nan total time=   0.0s\n",
            "[CV 1/5] END C=1, class_weight=balanced, penalty=l2, solver=lbfgs;, score=0.626 total time=   0.8s\n",
            "[CV 1/5] END C=1, class_weight=balanced, penalty=l1, solver=saga;, score=0.623 total time=   1.7s\n",
            "[CV 2/5] END C=1, class_weight=balanced, penalty=l2, solver=lbfgs;, score=0.660 total time=   0.6s\n",
            "[CV 3/5] END C=1, class_weight=balanced, penalty=l2, solver=lbfgs;, score=0.637 total time=   0.4s\n",
            "[CV 4/5] END C=1, class_weight=balanced, penalty=l2, solver=lbfgs;, score=0.643 total time=   0.8s\n",
            "[CV 5/5] END C=1, class_weight=balanced, penalty=l2, solver=lbfgs;, score=0.635 total time=   0.7s\n",
            "[CV 1/5] END C=1, class_weight=balanced, penalty=l2, solver=liblinear;, score=0.626 total time=   0.1s\n",
            "[CV 2/5] END C=1, class_weight=balanced, penalty=l2, solver=liblinear;, score=0.660 total time=   0.2s\n",
            "[CV 3/5] END C=1, class_weight=balanced, penalty=l2, solver=liblinear;, score=0.638 total time=   0.1s\n",
            "[CV 4/5] END C=1, class_weight=balanced, penalty=l2, solver=liblinear;, score=0.643 total time=   0.1s\n",
            "[CV 5/5] END C=1, class_weight=balanced, penalty=l2, solver=liblinear;, score=0.635 total time=   0.1s\n",
            "[CV 3/5] END C=1, class_weight=balanced, penalty=l1, solver=saga;, score=0.636 total time=   5.3s\n",
            "[CV 1/5] END C=1, class_weight=balanced, penalty=l2, solver=sag;, score=0.626 total time=   1.2s\n",
            "[CV 5/5] END C=1, class_weight=balanced, penalty=l1, solver=saga;, score=0.636 total time=   5.8s\n",
            "[CV 1/5] END C=1, class_weight=balanced, penalty=l1, solver=newton-cg;, score=nan total time=   0.0s\n",
            "[CV 2/5] END C=1, class_weight=balanced, penalty=l1, solver=newton-cg;, score=nan total time=   0.0s\n",
            "[CV 3/5] END C=1, class_weight=balanced, penalty=l1, solver=newton-cg;, score=nan total time=   0.0s\n",
            "[CV 2/5] END C=1, class_weight=balanced, penalty=l2, solver=sag;, score=0.660 total time=   1.0s\n",
            "[CV 2/5] END C=1, class_weight=balanced, penalty=l1, solver=saga;, score=0.660 total time=   5.4s\n",
            "[CV 5/5] END C=1, class_weight=balanced, penalty=l2, solver=sag;, score=0.636 total time=   1.0s\n",
            "[CV 4/5] END C=1, class_weight=balanced, penalty=l1, solver=saga;, score=0.642 total time=   2.2s\n",
            "[CV 3/5] END C=1, class_weight=balanced, penalty=l2, solver=newton-cg;, score=0.637 total time=   0.4s\n",
            "[CV 3/5] END C=1, class_weight=balanced, penalty=l2, solver=sag;, score=0.636 total time=   1.2s\n",
            "[CV 4/5] END C=1, class_weight=balanced, penalty=l2, solver=newton-cg;, score=0.643 total time=   0.4s\n",
            "[CV 5/5] END C=1, class_weight=balanced, penalty=l2, solver=newton-cg;, score=0.635 total time=   0.4s\n",
            "[CV 1/5] END C=1, class_weight=balanced, penalty=elasticnet, solver=lbfgs;, score=nan total time=   0.0s\n",
            "[CV 2/5] END C=1, class_weight=balanced, penalty=elasticnet, solver=lbfgs;, score=nan total time=   0.0s\n",
            "[CV 3/5] END C=1, class_weight=balanced, penalty=elasticnet, solver=lbfgs;, score=nan total time=   0.0s\n",
            "[CV 4/5] END C=1, class_weight=balanced, penalty=elasticnet, solver=lbfgs;, score=nan total time=   0.0s\n",
            "[CV 5/5] END C=1, class_weight=balanced, penalty=elasticnet, solver=lbfgs;, score=nan total time=   0.0s\n",
            "[CV 1/5] END C=1, class_weight=balanced, penalty=elasticnet, solver=liblinear;, score=nan total time=   0.0s\n",
            "[CV 2/5] END C=1, class_weight=balanced, penalty=elasticnet, solver=liblinear;, score=nan total time=   0.0s\n",
            "[CV 3/5] END C=1, class_weight=balanced, penalty=elasticnet, solver=liblinear;, score=nan total time=   0.0s\n",
            "[CV 4/5] END C=1, class_weight=balanced, penalty=elasticnet, solver=liblinear;, score=nan total time=   0.0s\n",
            "[CV 5/5] END C=1, class_weight=balanced, penalty=elasticnet, solver=liblinear;, score=nan total time=   0.0s\n",
            "[CV 1/5] END C=1, class_weight=balanced, penalty=elasticnet, solver=sag;, score=nan total time=   0.0s\n",
            "[CV 2/5] END C=1, class_weight=balanced, penalty=elasticnet, solver=sag;, score=nan total time=   0.0s\n",
            "[CV 3/5] END C=1, class_weight=balanced, penalty=elasticnet, solver=sag;, score=nan total time=   0.0s\n",
            "[CV 4/5] END C=1, class_weight=balanced, penalty=l2, solver=sag;, score=0.643 total time=   1.3s\n",
            "[CV 4/5] END C=1, class_weight=balanced, penalty=elasticnet, solver=sag;, score=nan total time=   0.0s\n",
            "[CV 5/5] END C=1, class_weight=balanced, penalty=elasticnet, solver=sag;, score=nan total time=   0.0s\n",
            "[CV 1/5] END C=1, class_weight=balanced, penalty=elasticnet, solver=saga;, score=nan total time=   0.0s\n",
            "[CV 2/5] END C=1, class_weight=balanced, penalty=elasticnet, solver=saga;, score=nan total time=   0.0s\n",
            "[CV 3/5] END C=1, class_weight=balanced, penalty=elasticnet, solver=saga;, score=nan total time=   0.1s\n",
            "[CV 4/5] END C=1, class_weight=balanced, penalty=elasticnet, solver=saga;, score=nan total time=   0.1s\n",
            "[CV 1/5] END C=1, class_weight=balanced, penalty=elasticnet, solver=newton-cg;, score=nan total time=   0.0s\n",
            "[CV 5/5] END C=1, class_weight=balanced, penalty=elasticnet, solver=saga;, score=nan total time=   0.1s\n",
            "[CV 2/5] END C=1, class_weight=balanced, penalty=elasticnet, solver=newton-cg;, score=nan total time=   0.0s\n",
            "[CV 3/5] END C=1, class_weight=balanced, penalty=elasticnet, solver=newton-cg;, score=nan total time=   0.0s\n",
            "[CV 4/5] END C=1, class_weight=balanced, penalty=elasticnet, solver=newton-cg;, score=nan total time=   0.0s\n",
            "[CV 5/5] END C=1, class_weight=balanced, penalty=elasticnet, solver=newton-cg;, score=nan total time=   0.0s\n",
            "[CV 1/5] END C=10, class_weight=None, penalty=l1, solver=lbfgs;, score=nan total time=   0.0s\n",
            "[CV 3/5] END C=10, class_weight=None, penalty=l1, solver=lbfgs;, score=nan total time=   0.0s\n",
            "[CV 2/5] END C=10, class_weight=None, penalty=l1, solver=lbfgs;, score=nan total time=   0.0s\n",
            "[CV 4/5] END C=10, class_weight=None, penalty=l1, solver=lbfgs;, score=nan total time=   0.0s\n",
            "[CV 5/5] END C=10, class_weight=None, penalty=l1, solver=lbfgs;, score=nan total time=   0.0s\n",
            "[CV 4/5] END C=1, class_weight=balanced, penalty=l2, solver=saga;, score=0.643 total time=   2.7s\n",
            "[CV 1/5] END C=1, class_weight=balanced, penalty=l2, solver=saga;, score=0.626 total time=   2.9s\n",
            "[CV 1/5] END C=10, class_weight=None, penalty=l1, solver=liblinear;, score=0.633 total time=   0.2s\n",
            "[CV 3/5] END C=10, class_weight=None, penalty=l1, solver=liblinear;, score=0.636 total time=   0.2s\n",
            "[CV 4/5] END C=10, class_weight=None, penalty=l1, solver=liblinear;, score=0.643 total time=   0.1s\n",
            "[CV 2/5] END C=10, class_weight=None, penalty=l1, solver=liblinear;, score=0.652 total time=   0.6s\n",
            "[CV 1/5] END C=10, class_weight=None, penalty=l1, solver=sag;, score=nan total time=   0.0s\n",
            "[CV 2/5] END C=10, class_weight=None, penalty=l1, solver=sag;, score=nan total time=   0.0s\n",
            "[CV 3/5] END C=10, class_weight=None, penalty=l1, solver=sag;, score=nan total time=   0.0s\n",
            "[CV 4/5] END C=10, class_weight=None, penalty=l1, solver=sag;, score=nan total time=   0.0s\n",
            "[CV 5/5] END C=10, class_weight=None, penalty=l1, solver=sag;, score=nan total time=   0.0s\n",
            "[CV 5/5] END C=10, class_weight=None, penalty=l1, solver=liblinear;, score=0.641 total time=   0.7s\n",
            "[CV 2/5] END C=1, class_weight=balanced, penalty=l2, solver=saga;, score=0.660 total time=   1.9s\n",
            "[CV 5/5] END C=1, class_weight=balanced, penalty=l2, solver=saga;, score=0.636 total time=   2.0s\n",
            "[CV 1/5] END C=1, class_weight=balanced, penalty=l2, solver=newton-cg;, score=0.626 total time=   0.3s\n",
            "[CV 2/5] END C=1, class_weight=balanced, penalty=l2, solver=newton-cg;, score=0.660 total time=   0.4s\n",
            "[CV 3/5] END C=1, class_weight=balanced, penalty=l2, solver=saga;, score=0.636 total time=   2.2s\n",
            "[CV 1/5] END C=10, class_weight=None, penalty=l1, solver=newton-cg;, score=nan total time=   0.0s\n",
            "[CV 2/5] END C=10, class_weight=None, penalty=l1, solver=newton-cg;, score=nan total time=   0.0s\n",
            "[CV 3/5] END C=10, class_weight=None, penalty=l1, solver=newton-cg;, score=nan total time=   0.0s\n",
            "[CV 4/5] END C=10, class_weight=None, penalty=l1, solver=newton-cg;, score=nan total time=   0.0s\n",
            "[CV 5/5] END C=10, class_weight=None, penalty=l1, solver=newton-cg;, score=nan total time=   0.0s\n",
            "[CV 1/5] END C=10, class_weight=None, penalty=l2, solver=lbfgs;, score=0.632 total time=   1.5s\n",
            "[CV 2/5] END C=10, class_weight=None, penalty=l2, solver=lbfgs;, score=0.652 total time=   1.6s\n",
            "[CV 3/5] END C=10, class_weight=None, penalty=l2, solver=lbfgs;, score=0.636 total time=   1.0s\n",
            "[CV 4/5] END C=10, class_weight=None, penalty=l2, solver=lbfgs;, score=0.642 total time=   0.7s\n"
          ]
        },
        {
          "name": "stderr",
          "output_type": "stream",
          "text": [
            "/Users/kalampark/opt/anaconda3/lib/python3.9/site-packages/sklearn/linear_model/_sag.py:350: ConvergenceWarning: The max_iter was reached which means the coef_ did not converge\n",
            "  warnings.warn(\n"
          ]
        },
        {
          "name": "stdout",
          "output_type": "stream",
          "text": [
            "[CV 1/5] END C=10, class_weight=None, penalty=l1, solver=saga;, score=0.633 total time=   9.1s\n",
            "[CV 1/5] END C=10, class_weight=None, penalty=l2, solver=liblinear;, score=0.633 total time=   0.1s\n",
            "[CV 2/5] END C=10, class_weight=None, penalty=l2, solver=liblinear;, score=0.652 total time=   0.3s\n",
            "[CV 3/5] END C=10, class_weight=None, penalty=l2, solver=liblinear;, score=0.636 total time=   0.1s\n",
            "[CV 5/5] END C=10, class_weight=None, penalty=l2, solver=lbfgs;, score=0.641 total time=   1.1s\n",
            "[CV 4/5] END C=10, class_weight=None, penalty=l2, solver=liblinear;, score=0.643 total time=   0.2s\n",
            "[CV 2/5] END C=10, class_weight=None, penalty=l1, solver=saga;, score=0.651 total time=   9.3s\n"
          ]
        },
        {
          "name": "stderr",
          "output_type": "stream",
          "text": [
            "/Users/kalampark/opt/anaconda3/lib/python3.9/site-packages/sklearn/linear_model/_sag.py:350: ConvergenceWarning: The max_iter was reached which means the coef_ did not converge\n",
            "  warnings.warn(\n"
          ]
        },
        {
          "name": "stdout",
          "output_type": "stream",
          "text": [
            "[CV 5/5] END C=10, class_weight=None, penalty=l2, solver=liblinear;, score=0.641 total time=   0.2s\n"
          ]
        },
        {
          "name": "stderr",
          "output_type": "stream",
          "text": [
            "/Users/kalampark/opt/anaconda3/lib/python3.9/site-packages/sklearn/linear_model/_sag.py:350: ConvergenceWarning: The max_iter was reached which means the coef_ did not converge\n",
            "  warnings.warn(\n"
          ]
        },
        {
          "name": "stdout",
          "output_type": "stream",
          "text": [
            "[CV 4/5] END C=10, class_weight=None, penalty=l1, solver=saga;, score=0.643 total time=   9.2s\n",
            "[CV 2/5] END C=10, class_weight=None, penalty=l2, solver=sag;, score=0.652 total time=   3.4s\n",
            "[CV 1/5] END C=10, class_weight=None, penalty=l2, solver=sag;, score=0.632 total time=   4.4s\n",
            "[CV 3/5] END C=10, class_weight=None, penalty=l2, solver=sag;, score=0.636 total time=   2.8s\n",
            "[CV 4/5] END C=10, class_weight=None, penalty=l2, solver=sag;, score=0.643 total time=   2.5s\n"
          ]
        },
        {
          "name": "stderr",
          "output_type": "stream",
          "text": [
            "/Users/kalampark/opt/anaconda3/lib/python3.9/site-packages/sklearn/linear_model/_sag.py:350: ConvergenceWarning: The max_iter was reached which means the coef_ did not converge\n",
            "  warnings.warn(\n"
          ]
        },
        {
          "name": "stdout",
          "output_type": "stream",
          "text": [
            "[CV 3/5] END C=10, class_weight=None, penalty=l1, solver=saga;, score=0.637 total time=   8.0s\n"
          ]
        },
        {
          "name": "stderr",
          "output_type": "stream",
          "text": [
            "/Users/kalampark/opt/anaconda3/lib/python3.9/site-packages/sklearn/linear_model/_sag.py:350: ConvergenceWarning: The max_iter was reached which means the coef_ did not converge\n",
            "  warnings.warn(\n"
          ]
        },
        {
          "name": "stdout",
          "output_type": "stream",
          "text": [
            "[CV 5/5] END C=10, class_weight=None, penalty=l1, solver=saga;, score=0.641 total time=   7.4s\n",
            "[CV 5/5] END C=10, class_weight=None, penalty=l2, solver=sag;, score=0.641 total time=   2.0s\n"
          ]
        },
        {
          "name": "stderr",
          "output_type": "stream",
          "text": [
            "/Users/kalampark/opt/anaconda3/lib/python3.9/site-packages/sklearn/linear_model/_sag.py:350: ConvergenceWarning: The max_iter was reached which means the coef_ did not converge\n",
            "  warnings.warn(\n"
          ]
        },
        {
          "name": "stdout",
          "output_type": "stream",
          "text": [
            "[CV 1/5] END C=10, class_weight=None, penalty=l2, solver=saga;, score=0.632 total time=   4.1s\n",
            "[CV 2/5] END C=10, class_weight=None, penalty=l2, solver=saga;, score=0.652 total time=   3.4s\n",
            "[CV 1/5] END C=10, class_weight=None, penalty=l2, solver=newton-cg;, score=0.633 total time=   0.3s\n",
            "[CV 2/5] END C=10, class_weight=None, penalty=l2, solver=newton-cg;, score=0.652 total time=   0.3s\n",
            "[CV 3/5] END C=10, class_weight=None, penalty=l2, solver=newton-cg;, score=0.636 total time=   0.2s\n",
            "[CV 3/5] END C=10, class_weight=None, penalty=l2, solver=saga;, score=0.636 total time=   3.5s\n",
            "[CV 4/5] END C=10, class_weight=None, penalty=l2, solver=newton-cg;, score=0.643 total time=   0.3s\n",
            "[CV 1/5] END C=10, class_weight=None, penalty=elasticnet, solver=lbfgs;, score=nan total time=   0.0s\n",
            "[CV 2/5] END C=10, class_weight=None, penalty=elasticnet, solver=lbfgs;, score=nan total time=   0.0s\n",
            "[CV 3/5] END C=10, class_weight=None, penalty=elasticnet, solver=lbfgs;, score=nan total time=   0.0s\n",
            "[CV 4/5] END C=10, class_weight=None, penalty=elasticnet, solver=lbfgs;, score=nan total time=   0.0s\n",
            "[CV 5/5] END C=10, class_weight=None, penalty=elasticnet, solver=lbfgs;, score=nan total time=   0.0s\n",
            "[CV 1/5] END C=10, class_weight=None, penalty=elasticnet, solver=liblinear;, score=nan total time=   0.1s\n",
            "[CV 2/5] END C=10, class_weight=None, penalty=elasticnet, solver=liblinear;, score=nan total time=   0.0s\n",
            "[CV 3/5] END C=10, class_weight=None, penalty=elasticnet, solver=liblinear;, score=nan total time=   0.0s\n",
            "[CV 4/5] END C=10, class_weight=None, penalty=elasticnet, solver=liblinear;, score=nan total time=   0.0s\n",
            "[CV 5/5] END C=10, class_weight=None, penalty=l2, solver=newton-cg;, score=0.641 total time=   0.6s\n",
            "[CV 5/5] END C=10, class_weight=None, penalty=elasticnet, solver=liblinear;, score=nan total time=   0.0s\n",
            "[CV 1/5] END C=10, class_weight=None, penalty=elasticnet, solver=sag;, score=nan total time=   0.0s\n",
            "[CV 2/5] END C=10, class_weight=None, penalty=elasticnet, solver=sag;, score=nan total time=   0.0s\n",
            "[CV 3/5] END C=10, class_weight=None, penalty=elasticnet, solver=sag;, score=nan total time=   0.0s\n",
            "[CV 4/5] END C=10, class_weight=None, penalty=elasticnet, solver=sag;, score=nan total time=   0.0s\n",
            "[CV 5/5] END C=10, class_weight=None, penalty=elasticnet, solver=sag;, score=nan total time=   0.0s\n",
            "[CV 1/5] END C=10, class_weight=None, penalty=elasticnet, solver=saga;, score=nan total time=   0.0s\n",
            "[CV 2/5] END C=10, class_weight=None, penalty=elasticnet, solver=saga;, score=nan total time=   0.0s\n",
            "[CV 3/5] END C=10, class_weight=None, penalty=elasticnet, solver=saga;, score=nan total time=   0.0s\n",
            "[CV 4/5] END C=10, class_weight=None, penalty=elasticnet, solver=saga;, score=nan total time=   0.0s\n",
            "[CV 1/5] END C=10, class_weight=None, penalty=elasticnet, solver=newton-cg;, score=nan total time=   0.0s\n",
            "[CV 5/5] END C=10, class_weight=None, penalty=elasticnet, solver=saga;, score=nan total time=   0.1s\n",
            "[CV 3/5] END C=10, class_weight=None, penalty=elasticnet, solver=newton-cg;, score=nan total time=   0.0s\n",
            "[CV 2/5] END C=10, class_weight=None, penalty=elasticnet, solver=newton-cg;, score=nan total time=   0.0s\n",
            "[CV 4/5] END C=10, class_weight=None, penalty=elasticnet, solver=newton-cg;, score=nan total time=   0.0s\n",
            "[CV 5/5] END C=10, class_weight=None, penalty=elasticnet, solver=newton-cg;, score=nan total time=   0.0s\n",
            "[CV 1/5] END C=10, class_weight=balanced, penalty=l1, solver=lbfgs;, score=nan total time=   0.0s\n",
            "[CV 2/5] END C=10, class_weight=balanced, penalty=l1, solver=lbfgs;, score=nan total time=   0.0s\n",
            "[CV 3/5] END C=10, class_weight=balanced, penalty=l1, solver=lbfgs;, score=nan total time=   0.0s\n",
            "[CV 4/5] END C=10, class_weight=balanced, penalty=l1, solver=lbfgs;, score=nan total time=   0.0s\n",
            "[CV 5/5] END C=10, class_weight=balanced, penalty=l1, solver=lbfgs;, score=nan total time=   0.0s\n"
          ]
        },
        {
          "name": "stderr",
          "output_type": "stream",
          "text": [
            "/Users/kalampark/opt/anaconda3/lib/python3.9/site-packages/sklearn/linear_model/_sag.py:350: ConvergenceWarning: The max_iter was reached which means the coef_ did not converge\n",
            "  warnings.warn(\n"
          ]
        },
        {
          "name": "stdout",
          "output_type": "stream",
          "text": [
            "[CV 4/5] END C=10, class_weight=None, penalty=l2, solver=saga;, score=0.643 total time=   4.8s\n",
            "[CV 5/5] END C=10, class_weight=None, penalty=l2, solver=saga;, score=0.641 total time=   4.8s\n",
            "[CV 4/5] END C=10, class_weight=balanced, penalty=l1, solver=liblinear;, score=0.643 total time=   1.3s\n",
            "[CV 3/5] END C=10, class_weight=balanced, penalty=l1, solver=liblinear;, score=0.638 total time=   2.7s\n",
            "[CV 2/5] END C=10, class_weight=balanced, penalty=l1, solver=sag;, score=nan total time=   0.0s\n",
            "[CV 3/5] END C=10, class_weight=balanced, penalty=l1, solver=sag;, score=nan total time=   0.0s\n",
            "[CV 2/5] END C=10, class_weight=balanced, penalty=l1, solver=liblinear;, score=0.659 total time=   3.1s\n",
            "[CV 4/5] END C=10, class_weight=balanced, penalty=l1, solver=sag;, score=nan total time=   0.0s\n",
            "[CV 5/5] END C=10, class_weight=balanced, penalty=l1, solver=sag;, score=nan total time=   0.0s\n",
            "[CV 5/5] END C=10, class_weight=balanced, penalty=l1, solver=liblinear;, score=0.635 total time=   0.6s\n",
            "[CV 1/5] END C=10, class_weight=balanced, penalty=l1, solver=sag;, score=nan total time=   0.0s\n",
            "[CV 1/5] END C=10, class_weight=balanced, penalty=l1, solver=liblinear;, score=0.626 total time=   6.1s\n",
            "[CV 2/5] END C=10, class_weight=balanced, penalty=l1, solver=newton-cg;, score=nan total time=   0.0s\n",
            "[CV 3/5] END C=10, class_weight=balanced, penalty=l1, solver=newton-cg;, score=nan total time=   0.0s\n",
            "[CV 4/5] END C=10, class_weight=balanced, penalty=l1, solver=newton-cg;, score=nan total time=   0.0s\n",
            "[CV 5/5] END C=10, class_weight=balanced, penalty=l1, solver=newton-cg;, score=nan total time=   0.0s\n",
            "[CV 1/5] END C=10, class_weight=balanced, penalty=l2, solver=lbfgs;, score=0.626 total time=   0.7s\n",
            "[CV 2/5] END C=10, class_weight=balanced, penalty=l2, solver=lbfgs;, score=0.659 total time=   0.8s\n",
            "[CV 3/5] END C=10, class_weight=balanced, penalty=l2, solver=lbfgs;, score=0.638 total time=   0.6s\n",
            "[CV 4/5] END C=10, class_weight=balanced, penalty=l2, solver=lbfgs;, score=0.643 total time=   0.5s\n",
            "[CV 5/5] END C=10, class_weight=balanced, penalty=l2, solver=lbfgs;, score=0.634 total time=   0.7s\n",
            "[CV 1/5] END C=10, class_weight=balanced, penalty=l2, solver=liblinear;, score=0.626 total time=   0.1s\n",
            "[CV 3/5] END C=10, class_weight=balanced, penalty=l1, solver=saga;, score=0.638 total time=   6.5s\n"
          ]
        },
        {
          "name": "stderr",
          "output_type": "stream",
          "text": [
            "/Users/kalampark/opt/anaconda3/lib/python3.9/site-packages/sklearn/linear_model/_sag.py:350: ConvergenceWarning: The max_iter was reached which means the coef_ did not converge\n",
            "  warnings.warn(\n",
            "/Users/kalampark/opt/anaconda3/lib/python3.9/site-packages/sklearn/linear_model/_sag.py:350: ConvergenceWarning: The max_iter was reached which means the coef_ did not converge\n",
            "  warnings.warn(\n"
          ]
        },
        {
          "name": "stdout",
          "output_type": "stream",
          "text": [
            "[CV 2/5] END C=10, class_weight=balanced, penalty=l2, solver=liblinear;, score=0.659 total time=   0.1s\n",
            "[CV 1/5] END C=10, class_weight=balanced, penalty=l1, solver=saga;, score=0.626 total time=   6.7s\n",
            "[CV 3/5] END C=10, class_weight=balanced, penalty=l2, solver=liblinear;, score=0.638 total time=   0.1s\n",
            "[CV 4/5] END C=10, class_weight=balanced, penalty=l2, solver=liblinear;, score=0.643 total time=   0.1s\n",
            "[CV 5/5] END C=10, class_weight=balanced, penalty=l1, solver=saga;, score=0.635 total time=   6.6s\n",
            "[CV 1/5] END C=10, class_weight=balanced, penalty=l1, solver=newton-cg;, score=nan total time=   0.0s\n",
            "[CV 5/5] END C=10, class_weight=balanced, penalty=l2, solver=liblinear;, score=0.634 total time=   0.1s\n"
          ]
        },
        {
          "name": "stderr",
          "output_type": "stream",
          "text": [
            "/Users/kalampark/opt/anaconda3/lib/python3.9/site-packages/sklearn/linear_model/_sag.py:350: ConvergenceWarning: The max_iter was reached which means the coef_ did not converge\n",
            "  warnings.warn(\n"
          ]
        },
        {
          "name": "stdout",
          "output_type": "stream",
          "text": [
            "[CV 2/5] END C=10, class_weight=balanced, penalty=l2, solver=sag;, score=0.659 total time=   1.9s\n",
            "[CV 1/5] END C=10, class_weight=balanced, penalty=l2, solver=sag;, score=0.626 total time=   2.2s\n",
            "[CV 3/5] END C=10, class_weight=balanced, penalty=l2, solver=sag;, score=0.638 total time=   2.2s\n",
            "[CV 4/5] END C=10, class_weight=balanced, penalty=l2, solver=sag;, score=0.643 total time=   2.6s\n"
          ]
        },
        {
          "name": "stderr",
          "output_type": "stream",
          "text": [
            "/Users/kalampark/opt/anaconda3/lib/python3.9/site-packages/sklearn/linear_model/_sag.py:350: ConvergenceWarning: The max_iter was reached which means the coef_ did not converge\n",
            "  warnings.warn(\n",
            "/Users/kalampark/opt/anaconda3/lib/python3.9/site-packages/sklearn/linear_model/_sag.py:350: ConvergenceWarning: The max_iter was reached which means the coef_ did not converge\n",
            "  warnings.warn(\n"
          ]
        },
        {
          "name": "stdout",
          "output_type": "stream",
          "text": [
            "[CV 2/5] END C=10, class_weight=balanced, penalty=l1, solver=saga;, score=0.659 total time=   5.7s\n",
            "[CV 4/5] END C=10, class_weight=balanced, penalty=l1, solver=saga;, score=0.643 total time=   5.8s\n",
            "[CV 5/5] END C=10, class_weight=balanced, penalty=l2, solver=sag;, score=0.634 total time=   1.8s\n"
          ]
        },
        {
          "name": "stderr",
          "output_type": "stream",
          "text": [
            "/Users/kalampark/opt/anaconda3/lib/python3.9/site-packages/sklearn/linear_model/_sag.py:350: ConvergenceWarning: The max_iter was reached which means the coef_ did not converge\n",
            "  warnings.warn(\n"
          ]
        },
        {
          "name": "stdout",
          "output_type": "stream",
          "text": [
            "[CV 1/5] END C=10, class_weight=balanced, penalty=l2, solver=saga;, score=0.626 total time=   4.1s\n",
            "[CV 2/5] END C=10, class_weight=balanced, penalty=l2, solver=saga;, score=0.659 total time=   3.6s\n",
            "[CV 3/5] END C=10, class_weight=balanced, penalty=l2, solver=saga;, score=0.638 total time=   3.6s\n",
            "[CV 1/5] END C=10, class_weight=balanced, penalty=l2, solver=newton-cg;, score=0.626 total time=   0.2s\n",
            "[CV 2/5] END C=10, class_weight=balanced, penalty=l2, solver=newton-cg;, score=0.659 total time=   0.3s\n",
            "[CV 3/5] END C=10, class_weight=balanced, penalty=l2, solver=newton-cg;, score=0.638 total time=   0.3s\n",
            "[CV 4/5] END C=10, class_weight=balanced, penalty=l2, solver=newton-cg;, score=0.643 total time=   0.2s\n",
            "[CV 1/5] END C=10, class_weight=balanced, penalty=elasticnet, solver=lbfgs;, score=nan total time=   0.0s\n",
            "[CV 2/5] END C=10, class_weight=balanced, penalty=elasticnet, solver=lbfgs;, score=nan total time=   0.0s\n",
            "[CV 3/5] END C=10, class_weight=balanced, penalty=elasticnet, solver=lbfgs;, score=nan total time=   0.0s\n",
            "[CV 4/5] END C=10, class_weight=balanced, penalty=elasticnet, solver=lbfgs;, score=nan total time=   0.0s\n",
            "[CV 5/5] END C=10, class_weight=balanced, penalty=elasticnet, solver=lbfgs;, score=nan total time=   0.0s\n",
            "[CV 1/5] END C=10, class_weight=balanced, penalty=elasticnet, solver=liblinear;, score=nan total time=   0.0s\n",
            "[CV 2/5] END C=10, class_weight=balanced, penalty=elasticnet, solver=liblinear;, score=nan total time=   0.0s\n",
            "[CV 3/5] END C=10, class_weight=balanced, penalty=elasticnet, solver=liblinear;, score=nan total time=   0.0s\n",
            "[CV 4/5] END C=10, class_weight=balanced, penalty=elasticnet, solver=liblinear;, score=nan total time=   0.0s\n",
            "[CV 5/5] END C=10, class_weight=balanced, penalty=l2, solver=newton-cg;, score=0.634 total time=   0.3s\n",
            "[CV 5/5] END C=10, class_weight=balanced, penalty=elasticnet, solver=liblinear;, score=nan total time=   0.0s\n",
            "[CV 1/5] END C=10, class_weight=balanced, penalty=elasticnet, solver=sag;, score=nan total time=   0.0s\n",
            "[CV 2/5] END C=10, class_weight=balanced, penalty=elasticnet, solver=sag;, score=nan total time=   0.0s\n",
            "[CV 3/5] END C=10, class_weight=balanced, penalty=elasticnet, solver=sag;, score=nan total time=   0.0s\n",
            "[CV 4/5] END C=10, class_weight=balanced, penalty=elasticnet, solver=sag;, score=nan total time=   0.0s\n",
            "[CV 5/5] END C=10, class_weight=balanced, penalty=elasticnet, solver=sag;, score=nan total time=   0.0s\n",
            "[CV 1/5] END C=10, class_weight=balanced, penalty=elasticnet, solver=saga;, score=nan total time=   0.0s\n",
            "[CV 2/5] END C=10, class_weight=balanced, penalty=elasticnet, solver=saga;, score=nan total time=   0.0s\n",
            "[CV 3/5] END C=10, class_weight=balanced, penalty=elasticnet, solver=saga;, score=nan total time=   0.0s\n",
            "[CV 4/5] END C=10, class_weight=balanced, penalty=elasticnet, solver=saga;, score=nan total time=   0.0s\n",
            "[CV 5/5] END C=10, class_weight=balanced, penalty=elasticnet, solver=saga;, score=nan total time=   0.0s\n",
            "[CV 1/5] END C=10, class_weight=balanced, penalty=elasticnet, solver=newton-cg;, score=nan total time=   0.0s\n",
            "[CV 2/5] END C=10, class_weight=balanced, penalty=elasticnet, solver=newton-cg;, score=nan total time=   0.0s\n",
            "[CV 3/5] END C=10, class_weight=balanced, penalty=elasticnet, solver=newton-cg;, score=nan total time=   0.0s\n",
            "[CV 4/5] END C=10, class_weight=balanced, penalty=elasticnet, solver=newton-cg;, score=nan total time=   0.0s\n",
            "[CV 5/5] END C=10, class_weight=balanced, penalty=elasticnet, solver=newton-cg;, score=nan total time=   0.0s\n",
            "[CV 4/5] END C=10, class_weight=balanced, penalty=l2, solver=saga;, score=0.643 total time=   4.3s\n"
          ]
        },
        {
          "name": "stderr",
          "output_type": "stream",
          "text": [
            "/Users/kalampark/opt/anaconda3/lib/python3.9/site-packages/sklearn/linear_model/_sag.py:350: ConvergenceWarning: The max_iter was reached which means the coef_ did not converge\n",
            "  warnings.warn(\n"
          ]
        },
        {
          "name": "stdout",
          "output_type": "stream",
          "text": [
            "[CV 5/5] END C=10, class_weight=balanced, penalty=l2, solver=saga;, score=0.634 total time=   2.3s\n"
          ]
        },
        {
          "name": "stderr",
          "output_type": "stream",
          "text": [
            "/Users/kalampark/opt/anaconda3/lib/python3.9/site-packages/sklearn/model_selection/_validation.py:378: FitFailedWarning: \n",
            "240 fits failed out of a total of 450.\n",
            "The score on these train-test partitions for these parameters will be set to nan.\n",
            "If these failures are not expected, you can try to debug them by setting error_score='raise'.\n",
            "\n",
            "Below are more details about the failures:\n",
            "--------------------------------------------------------------------------------\n",
            "30 fits failed with the following error:\n",
            "Traceback (most recent call last):\n",
            "  File \"/Users/kalampark/opt/anaconda3/lib/python3.9/site-packages/sklearn/model_selection/_validation.py\", line 686, in _fit_and_score\n",
            "    estimator.fit(X_train, y_train, **fit_params)\n",
            "  File \"/Users/kalampark/opt/anaconda3/lib/python3.9/site-packages/sklearn/linear_model/_logistic.py\", line 1162, in fit\n",
            "    solver = _check_solver(self.solver, self.penalty, self.dual)\n",
            "  File \"/Users/kalampark/opt/anaconda3/lib/python3.9/site-packages/sklearn/linear_model/_logistic.py\", line 54, in _check_solver\n",
            "    raise ValueError(\n",
            "ValueError: Solver lbfgs supports only 'l2' or 'none' penalties, got l1 penalty.\n",
            "\n",
            "--------------------------------------------------------------------------------\n",
            "30 fits failed with the following error:\n",
            "Traceback (most recent call last):\n",
            "  File \"/Users/kalampark/opt/anaconda3/lib/python3.9/site-packages/sklearn/model_selection/_validation.py\", line 686, in _fit_and_score\n",
            "    estimator.fit(X_train, y_train, **fit_params)\n",
            "  File \"/Users/kalampark/opt/anaconda3/lib/python3.9/site-packages/sklearn/linear_model/_logistic.py\", line 1162, in fit\n",
            "    solver = _check_solver(self.solver, self.penalty, self.dual)\n",
            "  File \"/Users/kalampark/opt/anaconda3/lib/python3.9/site-packages/sklearn/linear_model/_logistic.py\", line 54, in _check_solver\n",
            "    raise ValueError(\n",
            "ValueError: Solver sag supports only 'l2' or 'none' penalties, got l1 penalty.\n",
            "\n",
            "--------------------------------------------------------------------------------\n",
            "30 fits failed with the following error:\n",
            "Traceback (most recent call last):\n",
            "  File \"/Users/kalampark/opt/anaconda3/lib/python3.9/site-packages/sklearn/model_selection/_validation.py\", line 686, in _fit_and_score\n",
            "    estimator.fit(X_train, y_train, **fit_params)\n",
            "  File \"/Users/kalampark/opt/anaconda3/lib/python3.9/site-packages/sklearn/linear_model/_logistic.py\", line 1162, in fit\n",
            "    solver = _check_solver(self.solver, self.penalty, self.dual)\n",
            "  File \"/Users/kalampark/opt/anaconda3/lib/python3.9/site-packages/sklearn/linear_model/_logistic.py\", line 54, in _check_solver\n",
            "    raise ValueError(\n",
            "ValueError: Solver newton-cg supports only 'l2' or 'none' penalties, got l1 penalty.\n",
            "\n",
            "--------------------------------------------------------------------------------\n",
            "30 fits failed with the following error:\n",
            "Traceback (most recent call last):\n",
            "  File \"/Users/kalampark/opt/anaconda3/lib/python3.9/site-packages/sklearn/model_selection/_validation.py\", line 686, in _fit_and_score\n",
            "    estimator.fit(X_train, y_train, **fit_params)\n",
            "  File \"/Users/kalampark/opt/anaconda3/lib/python3.9/site-packages/sklearn/linear_model/_logistic.py\", line 1162, in fit\n",
            "    solver = _check_solver(self.solver, self.penalty, self.dual)\n",
            "  File \"/Users/kalampark/opt/anaconda3/lib/python3.9/site-packages/sklearn/linear_model/_logistic.py\", line 54, in _check_solver\n",
            "    raise ValueError(\n",
            "ValueError: Solver lbfgs supports only 'l2' or 'none' penalties, got elasticnet penalty.\n",
            "\n",
            "--------------------------------------------------------------------------------\n",
            "30 fits failed with the following error:\n",
            "Traceback (most recent call last):\n",
            "  File \"/Users/kalampark/opt/anaconda3/lib/python3.9/site-packages/sklearn/model_selection/_validation.py\", line 686, in _fit_and_score\n",
            "    estimator.fit(X_train, y_train, **fit_params)\n",
            "  File \"/Users/kalampark/opt/anaconda3/lib/python3.9/site-packages/sklearn/linear_model/_logistic.py\", line 1162, in fit\n",
            "    solver = _check_solver(self.solver, self.penalty, self.dual)\n",
            "  File \"/Users/kalampark/opt/anaconda3/lib/python3.9/site-packages/sklearn/linear_model/_logistic.py\", line 64, in _check_solver\n",
            "    raise ValueError(\n",
            "ValueError: Only 'saga' solver supports elasticnet penalty, got solver=liblinear.\n",
            "\n",
            "--------------------------------------------------------------------------------\n",
            "30 fits failed with the following error:\n",
            "Traceback (most recent call last):\n",
            "  File \"/Users/kalampark/opt/anaconda3/lib/python3.9/site-packages/sklearn/model_selection/_validation.py\", line 686, in _fit_and_score\n",
            "    estimator.fit(X_train, y_train, **fit_params)\n",
            "  File \"/Users/kalampark/opt/anaconda3/lib/python3.9/site-packages/sklearn/linear_model/_logistic.py\", line 1162, in fit\n",
            "    solver = _check_solver(self.solver, self.penalty, self.dual)\n",
            "  File \"/Users/kalampark/opt/anaconda3/lib/python3.9/site-packages/sklearn/linear_model/_logistic.py\", line 54, in _check_solver\n",
            "    raise ValueError(\n",
            "ValueError: Solver sag supports only 'l2' or 'none' penalties, got elasticnet penalty.\n",
            "\n",
            "--------------------------------------------------------------------------------\n",
            "30 fits failed with the following error:\n",
            "Traceback (most recent call last):\n",
            "  File \"/Users/kalampark/opt/anaconda3/lib/python3.9/site-packages/sklearn/model_selection/_validation.py\", line 686, in _fit_and_score\n",
            "    estimator.fit(X_train, y_train, **fit_params)\n",
            "  File \"/Users/kalampark/opt/anaconda3/lib/python3.9/site-packages/sklearn/linear_model/_logistic.py\", line 1291, in fit\n",
            "    fold_coefs_ = Parallel(n_jobs=self.n_jobs, verbose=self.verbose, prefer=prefer)(\n",
            "  File \"/Users/kalampark/opt/anaconda3/lib/python3.9/site-packages/sklearn/utils/parallel.py\", line 63, in __call__\n",
            "    return super().__call__(iterable_with_config)\n",
            "  File \"/Users/kalampark/opt/anaconda3/lib/python3.9/site-packages/joblib/parallel.py\", line 1085, in __call__\n",
            "    if self.dispatch_one_batch(iterator):\n",
            "  File \"/Users/kalampark/opt/anaconda3/lib/python3.9/site-packages/joblib/parallel.py\", line 901, in dispatch_one_batch\n",
            "    self._dispatch(tasks)\n",
            "  File \"/Users/kalampark/opt/anaconda3/lib/python3.9/site-packages/joblib/parallel.py\", line 819, in _dispatch\n",
            "    job = self._backend.apply_async(batch, callback=cb)\n",
            "  File \"/Users/kalampark/opt/anaconda3/lib/python3.9/site-packages/joblib/_parallel_backends.py\", line 208, in apply_async\n",
            "    result = ImmediateResult(func)\n",
            "  File \"/Users/kalampark/opt/anaconda3/lib/python3.9/site-packages/joblib/_parallel_backends.py\", line 597, in __init__\n",
            "    self.results = batch()\n",
            "  File \"/Users/kalampark/opt/anaconda3/lib/python3.9/site-packages/joblib/parallel.py\", line 288, in __call__\n",
            "    return [func(*args, **kwargs)\n",
            "  File \"/Users/kalampark/opt/anaconda3/lib/python3.9/site-packages/joblib/parallel.py\", line 288, in <listcomp>\n",
            "    return [func(*args, **kwargs)\n",
            "  File \"/Users/kalampark/opt/anaconda3/lib/python3.9/site-packages/sklearn/utils/parallel.py\", line 123, in __call__\n",
            "    return self.function(*args, **kwargs)\n",
            "  File \"/Users/kalampark/opt/anaconda3/lib/python3.9/site-packages/sklearn/linear_model/_logistic.py\", line 521, in _logistic_regression_path\n",
            "    alpha = (1.0 / C) * (1 - l1_ratio)\n",
            "TypeError: unsupported operand type(s) for -: 'int' and 'NoneType'\n",
            "\n",
            "--------------------------------------------------------------------------------\n",
            "30 fits failed with the following error:\n",
            "Traceback (most recent call last):\n",
            "  File \"/Users/kalampark/opt/anaconda3/lib/python3.9/site-packages/sklearn/model_selection/_validation.py\", line 686, in _fit_and_score\n",
            "    estimator.fit(X_train, y_train, **fit_params)\n",
            "  File \"/Users/kalampark/opt/anaconda3/lib/python3.9/site-packages/sklearn/linear_model/_logistic.py\", line 1162, in fit\n",
            "    solver = _check_solver(self.solver, self.penalty, self.dual)\n",
            "  File \"/Users/kalampark/opt/anaconda3/lib/python3.9/site-packages/sklearn/linear_model/_logistic.py\", line 54, in _check_solver\n",
            "    raise ValueError(\n",
            "ValueError: Solver newton-cg supports only 'l2' or 'none' penalties, got elasticnet penalty.\n",
            "\n",
            "  warnings.warn(some_fits_failed_message, FitFailedWarning)\n",
            "/Users/kalampark/opt/anaconda3/lib/python3.9/site-packages/sklearn/model_selection/_search.py:952: UserWarning: One or more of the test scores are non-finite: [       nan 0.63845203        nan 0.63939575        nan 0.641074\n",
            " 0.64033992 0.63939586 0.63939592 0.64117893        nan        nan\n",
            "        nan        nan        nan        nan 0.63887186        nan\n",
            " 0.63876704        nan 0.63897586 0.63939542 0.6390809  0.6384517\n",
            " 0.63908074        nan        nan        nan        nan        nan\n",
            "        nan 0.64075948        nan 0.63992041        nan 0.64138874\n",
            " 0.64149362 0.64096918 0.64013017 0.64138874        nan        nan\n",
            "        nan        nan        nan        nan 0.6392906         nan\n",
            " 0.63918572        nan 0.64023444 0.64023444 0.64023455 0.64023455\n",
            " 0.64023444        nan        nan        nan        nan        nan\n",
            "        nan 0.64096913        nan 0.64096913        nan 0.64075943\n",
            " 0.64096913 0.64075937 0.64075937 0.64096913        nan        nan\n",
            "        nan        nan        nan        nan 0.64012951        nan\n",
            " 0.64012951        nan 0.64002457 0.64002457 0.64002457 0.64012945\n",
            " 0.64002457        nan        nan        nan        nan        nan]\n",
            "  warnings.warn(\n"
          ]
        },
        {
          "data": {
            "text/html": [
              "<style>#sk-container-id-5 {color: black;background-color: white;}#sk-container-id-5 pre{padding: 0;}#sk-container-id-5 div.sk-toggleable {background-color: white;}#sk-container-id-5 label.sk-toggleable__label {cursor: pointer;display: block;width: 100%;margin-bottom: 0;padding: 0.3em;box-sizing: border-box;text-align: center;}#sk-container-id-5 label.sk-toggleable__label-arrow:before {content: \"▸\";float: left;margin-right: 0.25em;color: #696969;}#sk-container-id-5 label.sk-toggleable__label-arrow:hover:before {color: black;}#sk-container-id-5 div.sk-estimator:hover label.sk-toggleable__label-arrow:before {color: black;}#sk-container-id-5 div.sk-toggleable__content {max-height: 0;max-width: 0;overflow: hidden;text-align: left;background-color: #f0f8ff;}#sk-container-id-5 div.sk-toggleable__content pre {margin: 0.2em;color: black;border-radius: 0.25em;background-color: #f0f8ff;}#sk-container-id-5 input.sk-toggleable__control:checked~div.sk-toggleable__content {max-height: 200px;max-width: 100%;overflow: auto;}#sk-container-id-5 input.sk-toggleable__control:checked~label.sk-toggleable__label-arrow:before {content: \"▾\";}#sk-container-id-5 div.sk-estimator input.sk-toggleable__control:checked~label.sk-toggleable__label {background-color: #d4ebff;}#sk-container-id-5 div.sk-label input.sk-toggleable__control:checked~label.sk-toggleable__label {background-color: #d4ebff;}#sk-container-id-5 input.sk-hidden--visually {border: 0;clip: rect(1px 1px 1px 1px);clip: rect(1px, 1px, 1px, 1px);height: 1px;margin: -1px;overflow: hidden;padding: 0;position: absolute;width: 1px;}#sk-container-id-5 div.sk-estimator {font-family: monospace;background-color: #f0f8ff;border: 1px dotted black;border-radius: 0.25em;box-sizing: border-box;margin-bottom: 0.5em;}#sk-container-id-5 div.sk-estimator:hover {background-color: #d4ebff;}#sk-container-id-5 div.sk-parallel-item::after {content: \"\";width: 100%;border-bottom: 1px solid gray;flex-grow: 1;}#sk-container-id-5 div.sk-label:hover label.sk-toggleable__label {background-color: #d4ebff;}#sk-container-id-5 div.sk-serial::before {content: \"\";position: absolute;border-left: 1px solid gray;box-sizing: border-box;top: 0;bottom: 0;left: 50%;z-index: 0;}#sk-container-id-5 div.sk-serial {display: flex;flex-direction: column;align-items: center;background-color: white;padding-right: 0.2em;padding-left: 0.2em;position: relative;}#sk-container-id-5 div.sk-item {position: relative;z-index: 1;}#sk-container-id-5 div.sk-parallel {display: flex;align-items: stretch;justify-content: center;background-color: white;position: relative;}#sk-container-id-5 div.sk-item::before, #sk-container-id-5 div.sk-parallel-item::before {content: \"\";position: absolute;border-left: 1px solid gray;box-sizing: border-box;top: 0;bottom: 0;left: 50%;z-index: -1;}#sk-container-id-5 div.sk-parallel-item {display: flex;flex-direction: column;z-index: 1;position: relative;background-color: white;}#sk-container-id-5 div.sk-parallel-item:first-child::after {align-self: flex-end;width: 50%;}#sk-container-id-5 div.sk-parallel-item:last-child::after {align-self: flex-start;width: 50%;}#sk-container-id-5 div.sk-parallel-item:only-child::after {width: 0;}#sk-container-id-5 div.sk-dashed-wrapped {border: 1px dashed gray;margin: 0 0.4em 0.5em 0.4em;box-sizing: border-box;padding-bottom: 0.4em;background-color: white;}#sk-container-id-5 div.sk-label label {font-family: monospace;font-weight: bold;display: inline-block;line-height: 1.2em;}#sk-container-id-5 div.sk-label-container {text-align: center;}#sk-container-id-5 div.sk-container {/* jupyter's `normalize.less` sets `[hidden] { display: none; }` but bootstrap.min.css set `[hidden] { display: none !important; }` so we also need the `!important` here to be able to override the default hidden behavior on the sphinx rendered scikit-learn.org. See: https://github.com/scikit-learn/scikit-learn/issues/21755 */display: inline-block !important;position: relative;}#sk-container-id-5 div.sk-text-repr-fallback {display: none;}</style><div id=\"sk-container-id-5\" class=\"sk-top-container\"><div class=\"sk-text-repr-fallback\"><pre>GridSearchCV(cv=5, estimator=LogisticRegression(max_iter=1000, random_state=42),\n",
              "             n_jobs=-1,\n",
              "             param_grid={&#x27;C&#x27;: [0.1, 1, 10], &#x27;class_weight&#x27;: [None, &#x27;balanced&#x27;],\n",
              "                         &#x27;penalty&#x27;: [&#x27;l1&#x27;, &#x27;l2&#x27;, &#x27;elasticnet&#x27;],\n",
              "                         &#x27;solver&#x27;: [&#x27;lbfgs&#x27;, &#x27;liblinear&#x27;, &#x27;sag&#x27;, &#x27;saga&#x27;,\n",
              "                                    &#x27;newton-cg&#x27;]},\n",
              "             verbose=4)</pre><b>In a Jupyter environment, please rerun this cell to show the HTML representation or trust the notebook. <br />On GitHub, the HTML representation is unable to render, please try loading this page with nbviewer.org.</b></div><div class=\"sk-container\" hidden><div class=\"sk-item sk-dashed-wrapped\"><div class=\"sk-label-container\"><div class=\"sk-label sk-toggleable\"><input class=\"sk-toggleable__control sk-hidden--visually\" id=\"sk-estimator-id-13\" type=\"checkbox\" ><label for=\"sk-estimator-id-13\" class=\"sk-toggleable__label sk-toggleable__label-arrow\">GridSearchCV</label><div class=\"sk-toggleable__content\"><pre>GridSearchCV(cv=5, estimator=LogisticRegression(max_iter=1000, random_state=42),\n",
              "             n_jobs=-1,\n",
              "             param_grid={&#x27;C&#x27;: [0.1, 1, 10], &#x27;class_weight&#x27;: [None, &#x27;balanced&#x27;],\n",
              "                         &#x27;penalty&#x27;: [&#x27;l1&#x27;, &#x27;l2&#x27;, &#x27;elasticnet&#x27;],\n",
              "                         &#x27;solver&#x27;: [&#x27;lbfgs&#x27;, &#x27;liblinear&#x27;, &#x27;sag&#x27;, &#x27;saga&#x27;,\n",
              "                                    &#x27;newton-cg&#x27;]},\n",
              "             verbose=4)</pre></div></div></div><div class=\"sk-parallel\"><div class=\"sk-parallel-item\"><div class=\"sk-item\"><div class=\"sk-label-container\"><div class=\"sk-label sk-toggleable\"><input class=\"sk-toggleable__control sk-hidden--visually\" id=\"sk-estimator-id-14\" type=\"checkbox\" ><label for=\"sk-estimator-id-14\" class=\"sk-toggleable__label sk-toggleable__label-arrow\">estimator: LogisticRegression</label><div class=\"sk-toggleable__content\"><pre>LogisticRegression(max_iter=1000, random_state=42)</pre></div></div></div><div class=\"sk-serial\"><div class=\"sk-item\"><div class=\"sk-estimator sk-toggleable\"><input class=\"sk-toggleable__control sk-hidden--visually\" id=\"sk-estimator-id-15\" type=\"checkbox\" ><label for=\"sk-estimator-id-15\" class=\"sk-toggleable__label sk-toggleable__label-arrow\">LogisticRegression</label><div class=\"sk-toggleable__content\"><pre>LogisticRegression(max_iter=1000, random_state=42)</pre></div></div></div></div></div></div></div></div></div></div>"
            ],
            "text/plain": [
              "GridSearchCV(cv=5, estimator=LogisticRegression(max_iter=1000, random_state=42),\n",
              "             n_jobs=-1,\n",
              "             param_grid={'C': [0.1, 1, 10], 'class_weight': [None, 'balanced'],\n",
              "                         'penalty': ['l1', 'l2', 'elasticnet'],\n",
              "                         'solver': ['lbfgs', 'liblinear', 'sag', 'saga',\n",
              "                                    'newton-cg']},\n",
              "             verbose=4)"
            ]
          },
          "execution_count": 61,
          "metadata": {},
          "output_type": "execute_result"
        }
      ],
      "source": [
        "from sklearn.model_selection import GridSearchCV\n",
        "\n",
        "# Define hyperparameters and cross-validation settings\n",
        "hyperparameters = {\n",
        "    'C': [0.1, 1, 10],\n",
        "    'penalty': ['l1', 'l2', 'elasticnet'],\n",
        "    'solver': ['lbfgs', 'liblinear', 'sag', 'saga', 'newton-cg'],\n",
        "    'class_weight': [None, 'balanced']\n",
        "}\n",
        "\n",
        "# Split data into training and test sets\n",
        "X_train, X_test, y_train, y_test = train_test_split(X_selected, y, test_size=0.2, random_state=42)\n",
        "\n",
        "# Create a logistic regression model\n",
        "clf = LogisticRegression(random_state=42, max_iter=1000)\n",
        "\n",
        "# Perform a grid search over the hyperparameters\n",
        "grid_search = GridSearchCV(clf, hyperparameters, cv=5, n_jobs=-1, verbose=4)\n",
        "grid_search.fit(X_train, y_train)"
      ]
    },
    {
      "cell_type": "code",
      "execution_count": 62,
      "metadata": {
        "colab": {
          "base_uri": "https://localhost:8080/"
        },
        "id": "J6BYogq831Ct",
        "outputId": "3e7987fb-c49b-420e-dbc2-9446d2f97102"
      },
      "outputs": [
        {
          "name": "stdout",
          "output_type": "stream",
          "text": [
            "Best hyperparameters: {'C': 1, 'class_weight': None, 'penalty': 'l2', 'solver': 'liblinear'}\n",
            "Best mean accuracy: 0.6414936190794285\n",
            "Accuracy: 0.6484899328859061\n",
            "f1 score: 0.6457227282719488\n"
          ]
        }
      ],
      "source": [
        "from sklearn.metrics import f1_score\n",
        "from sklearn.metrics import accuracy_score\n",
        "\n",
        "# Print best hyperparameters and accuracy score\n",
        "print(\"Best hyperparameters:\", grid_search.best_params_)\n",
        "print(\"Best mean accuracy:\", grid_search.best_score_)\n",
        "\n",
        "# Define best hyperparameters\n",
        "penalty_best = grid_search.best_params_['penalty']\n",
        "C_best = grid_search.best_params_['C']\n",
        "weight_best = grid_search.best_params_['class_weight']\n",
        "solver_best = grid_search.best_params_['solver']\n",
        "\n",
        "# Fit a Logistic Regression model with best parameters\n",
        "clf_best = LogisticRegression(penalty=penalty_best, C=C_best, class_weight=weight_best, random_state=42, solver=solver_best, max_iter=1000)\n",
        "clf_best.fit(X_train, y_train)\n",
        "\n",
        "# Predict the test set labels\n",
        "y_pred = clf_best.predict(X_test)\n",
        "\n",
        "# Compute the accuracy score\n",
        "accuracy = accuracy_score(y_test, y_pred)\n",
        "f1_weighted = f1_score(y_test, y_pred, average='weighted')\n",
        "print('Accuracy:', accuracy)\n",
        "print('f1 score:', f1_weighted)"
      ]
    },
    {
      "attachments": {},
      "cell_type": "markdown",
      "metadata": {},
      "source": [
        "# **Subsection 4** - Random Forest (Model Selection)"
      ]
    },
    {
      "cell_type": "markdown",
      "metadata": {
        "id": "YtCV9zueSaJm"
      },
      "source": [
        "**Random Forests**"
      ]
    },
    {
      "cell_type": "code",
      "execution_count": 63,
      "metadata": {
        "colab": {
          "base_uri": "https://localhost:8080/",
          "height": 116
        },
        "id": "rzuFAuhrSguq",
        "outputId": "83ef1ade-b245-47d4-8286-d97ed6f9e958"
      },
      "outputs": [
        {
          "data": {
            "text/html": [
              "<style>#sk-container-id-6 {color: black;background-color: white;}#sk-container-id-6 pre{padding: 0;}#sk-container-id-6 div.sk-toggleable {background-color: white;}#sk-container-id-6 label.sk-toggleable__label {cursor: pointer;display: block;width: 100%;margin-bottom: 0;padding: 0.3em;box-sizing: border-box;text-align: center;}#sk-container-id-6 label.sk-toggleable__label-arrow:before {content: \"▸\";float: left;margin-right: 0.25em;color: #696969;}#sk-container-id-6 label.sk-toggleable__label-arrow:hover:before {color: black;}#sk-container-id-6 div.sk-estimator:hover label.sk-toggleable__label-arrow:before {color: black;}#sk-container-id-6 div.sk-toggleable__content {max-height: 0;max-width: 0;overflow: hidden;text-align: left;background-color: #f0f8ff;}#sk-container-id-6 div.sk-toggleable__content pre {margin: 0.2em;color: black;border-radius: 0.25em;background-color: #f0f8ff;}#sk-container-id-6 input.sk-toggleable__control:checked~div.sk-toggleable__content {max-height: 200px;max-width: 100%;overflow: auto;}#sk-container-id-6 input.sk-toggleable__control:checked~label.sk-toggleable__label-arrow:before {content: \"▾\";}#sk-container-id-6 div.sk-estimator input.sk-toggleable__control:checked~label.sk-toggleable__label {background-color: #d4ebff;}#sk-container-id-6 div.sk-label input.sk-toggleable__control:checked~label.sk-toggleable__label {background-color: #d4ebff;}#sk-container-id-6 input.sk-hidden--visually {border: 0;clip: rect(1px 1px 1px 1px);clip: rect(1px, 1px, 1px, 1px);height: 1px;margin: -1px;overflow: hidden;padding: 0;position: absolute;width: 1px;}#sk-container-id-6 div.sk-estimator {font-family: monospace;background-color: #f0f8ff;border: 1px dotted black;border-radius: 0.25em;box-sizing: border-box;margin-bottom: 0.5em;}#sk-container-id-6 div.sk-estimator:hover {background-color: #d4ebff;}#sk-container-id-6 div.sk-parallel-item::after {content: \"\";width: 100%;border-bottom: 1px solid gray;flex-grow: 1;}#sk-container-id-6 div.sk-label:hover label.sk-toggleable__label {background-color: #d4ebff;}#sk-container-id-6 div.sk-serial::before {content: \"\";position: absolute;border-left: 1px solid gray;box-sizing: border-box;top: 0;bottom: 0;left: 50%;z-index: 0;}#sk-container-id-6 div.sk-serial {display: flex;flex-direction: column;align-items: center;background-color: white;padding-right: 0.2em;padding-left: 0.2em;position: relative;}#sk-container-id-6 div.sk-item {position: relative;z-index: 1;}#sk-container-id-6 div.sk-parallel {display: flex;align-items: stretch;justify-content: center;background-color: white;position: relative;}#sk-container-id-6 div.sk-item::before, #sk-container-id-6 div.sk-parallel-item::before {content: \"\";position: absolute;border-left: 1px solid gray;box-sizing: border-box;top: 0;bottom: 0;left: 50%;z-index: -1;}#sk-container-id-6 div.sk-parallel-item {display: flex;flex-direction: column;z-index: 1;position: relative;background-color: white;}#sk-container-id-6 div.sk-parallel-item:first-child::after {align-self: flex-end;width: 50%;}#sk-container-id-6 div.sk-parallel-item:last-child::after {align-self: flex-start;width: 50%;}#sk-container-id-6 div.sk-parallel-item:only-child::after {width: 0;}#sk-container-id-6 div.sk-dashed-wrapped {border: 1px dashed gray;margin: 0 0.4em 0.5em 0.4em;box-sizing: border-box;padding-bottom: 0.4em;background-color: white;}#sk-container-id-6 div.sk-label label {font-family: monospace;font-weight: bold;display: inline-block;line-height: 1.2em;}#sk-container-id-6 div.sk-label-container {text-align: center;}#sk-container-id-6 div.sk-container {/* jupyter's `normalize.less` sets `[hidden] { display: none; }` but bootstrap.min.css set `[hidden] { display: none !important; }` so we also need the `!important` here to be able to override the default hidden behavior on the sphinx rendered scikit-learn.org. See: https://github.com/scikit-learn/scikit-learn/issues/21755 */display: inline-block !important;position: relative;}#sk-container-id-6 div.sk-text-repr-fallback {display: none;}</style><div id=\"sk-container-id-6\" class=\"sk-top-container\"><div class=\"sk-text-repr-fallback\"><pre>GridSearchCV(cv=5, estimator=RandomForestClassifier(random_state=42), n_jobs=-1,\n",
              "             param_grid={&#x27;criterion&#x27;: [&#x27;gini&#x27;, &#x27;entropy&#x27;, &#x27;log_loss&#x27;],\n",
              "                         &#x27;min_samples_split&#x27;: [2, 4, 6],\n",
              "                         &#x27;n_estimators&#x27;: [10, 100]})</pre><b>In a Jupyter environment, please rerun this cell to show the HTML representation or trust the notebook. <br />On GitHub, the HTML representation is unable to render, please try loading this page with nbviewer.org.</b></div><div class=\"sk-container\" hidden><div class=\"sk-item sk-dashed-wrapped\"><div class=\"sk-label-container\"><div class=\"sk-label sk-toggleable\"><input class=\"sk-toggleable__control sk-hidden--visually\" id=\"sk-estimator-id-16\" type=\"checkbox\" ><label for=\"sk-estimator-id-16\" class=\"sk-toggleable__label sk-toggleable__label-arrow\">GridSearchCV</label><div class=\"sk-toggleable__content\"><pre>GridSearchCV(cv=5, estimator=RandomForestClassifier(random_state=42), n_jobs=-1,\n",
              "             param_grid={&#x27;criterion&#x27;: [&#x27;gini&#x27;, &#x27;entropy&#x27;, &#x27;log_loss&#x27;],\n",
              "                         &#x27;min_samples_split&#x27;: [2, 4, 6],\n",
              "                         &#x27;n_estimators&#x27;: [10, 100]})</pre></div></div></div><div class=\"sk-parallel\"><div class=\"sk-parallel-item\"><div class=\"sk-item\"><div class=\"sk-label-container\"><div class=\"sk-label sk-toggleable\"><input class=\"sk-toggleable__control sk-hidden--visually\" id=\"sk-estimator-id-17\" type=\"checkbox\" ><label for=\"sk-estimator-id-17\" class=\"sk-toggleable__label sk-toggleable__label-arrow\">estimator: RandomForestClassifier</label><div class=\"sk-toggleable__content\"><pre>RandomForestClassifier(random_state=42)</pre></div></div></div><div class=\"sk-serial\"><div class=\"sk-item\"><div class=\"sk-estimator sk-toggleable\"><input class=\"sk-toggleable__control sk-hidden--visually\" id=\"sk-estimator-id-18\" type=\"checkbox\" ><label for=\"sk-estimator-id-18\" class=\"sk-toggleable__label sk-toggleable__label-arrow\">RandomForestClassifier</label><div class=\"sk-toggleable__content\"><pre>RandomForestClassifier(random_state=42)</pre></div></div></div></div></div></div></div></div></div></div>"
            ],
            "text/plain": [
              "GridSearchCV(cv=5, estimator=RandomForestClassifier(random_state=42), n_jobs=-1,\n",
              "             param_grid={'criterion': ['gini', 'entropy', 'log_loss'],\n",
              "                         'min_samples_split': [2, 4, 6],\n",
              "                         'n_estimators': [10, 100]})"
            ]
          },
          "execution_count": 63,
          "metadata": {},
          "output_type": "execute_result"
        }
      ],
      "source": [
        "from sklearn.model_selection import GridSearchCV\n",
        "from sklearn.ensemble import RandomForestClassifier\n",
        "\n",
        "# Define hyperparameters and cross-validation settings\n",
        "hyperparameters = {\n",
        "    'n_estimators': [10, 100],\n",
        "    'criterion': ['gini', 'entropy', 'log_loss'],\n",
        "    'min_samples_split': [2, 4, 6]\n",
        "}\n",
        "\n",
        "# Create a logistic regression model\n",
        "rf = RandomForestClassifier(random_state=42)\n",
        "\n",
        "# Perform a grid search over the hyperparameters\n",
        "grid_search_rf = GridSearchCV(rf, hyperparameters, cv=5, n_jobs=-1)\n",
        "grid_search_rf.fit(X_train, y_train)"
      ]
    },
    {
      "cell_type": "code",
      "execution_count": 64,
      "metadata": {
        "colab": {
          "base_uri": "https://localhost:8080/"
        },
        "id": "PmRsX8wpY6ro",
        "outputId": "869d74bd-e941-4725-e477-b8789fb9b85b"
      },
      "outputs": [
        {
          "name": "stdout",
          "output_type": "stream",
          "text": [
            "Best hyperparameters: {'criterion': 'gini', 'min_samples_split': 6, 'n_estimators': 100}\n",
            "Best mean accuracy: 0.6379276988573055\n",
            "Accuracy: 0.6489093959731543\n",
            "f1 score: 0.6474874375782711\n"
          ]
        }
      ],
      "source": [
        "from sklearn.metrics import f1_score\n",
        "from sklearn.metrics import accuracy_score\n",
        "\n",
        "# Print best hyperparameters and accuracy score\n",
        "print(\"Best hyperparameters:\", grid_search_rf.best_params_)\n",
        "print(\"Best mean accuracy:\", grid_search_rf.best_score_)\n",
        "\n",
        "# Define best hyperparameters\n",
        "n_estimators_best = grid_search_rf.best_params_['n_estimators']\n",
        "criterion_best = grid_search_rf.best_params_['criterion']\n",
        "min_samples_split_best = grid_search_rf.best_params_['min_samples_split']\n",
        "\n",
        "# Fit a Random Forests Classifier with best parameters\n",
        "rf_best = RandomForestClassifier(n_estimators=n_estimators_best, criterion=criterion_best, min_samples_split=min_samples_split_best, random_state=42)\n",
        "rf_best.fit(X_train, y_train)\n",
        "\n",
        "# Predict the test set labels\n",
        "y_pred = rf_best.predict(X_test)\n",
        "\n",
        "# Compute the accuracy score\n",
        "accuracy = accuracy_score(y_test, y_pred)\n",
        "f1_weighted = f1_score(y_test, y_pred, average='weighted')\n",
        "print('Accuracy:', accuracy)\n",
        "print('f1 score:', f1_weighted)"
      ]
    },
    {
      "attachments": {},
      "cell_type": "markdown",
      "metadata": {},
      "source": [
        "# **Subsection 5** - SVM (Model Selection)"
      ]
    },
    {
      "cell_type": "code",
      "execution_count": 65,
      "metadata": {
        "colab": {
          "base_uri": "https://localhost:8080/"
        },
        "id": "QUCrXk0dQjm8",
        "outputId": "9dd38df3-5a2f-464a-b043-dead81e80f1a"
      },
      "outputs": [
        {
          "name": "stdout",
          "output_type": "stream",
          "text": [
            "Accuracy: 0.6463926174496645\n"
          ]
        }
      ],
      "source": [
        "from sklearn.model_selection import GridSearchCV\n",
        "from sklearn.svm import SVC\n",
        "\n",
        "# Create a SVM model\n",
        "svm = SVC(random_state=42)\n",
        "svm.fit(X_train, y_train)\n",
        "\n",
        "# Predict the test set labels\n",
        "y_pred = svm.predict(X_test)\n",
        "\n",
        "# Compute the accuracy score\n",
        "accuracy = accuracy_score(y_test, y_pred)\n",
        "print('Accuracy:', accuracy)"
      ]
    },
    {
      "attachments": {},
      "cell_type": "markdown",
      "metadata": {},
      "source": [
        "# **Subsection 6** - Decision Tree (Model Selection)"
      ]
    },
    {
      "cell_type": "code",
      "execution_count": 66,
      "metadata": {},
      "outputs": [
        {
          "name": "stdout",
          "output_type": "stream",
          "text": [
            "Best hyperparameters: {'criterion': 'entropy', 'max_depth': 10, 'min_samples_leaf': 4, 'min_samples_split': 2}\n",
            "Best mean accuracy: 0.6419130161095341\n",
            "Accuracy: 0.6421979865771812\n",
            "f1 score: 0.6423645180715156\n"
          ]
        }
      ],
      "source": [
        "from sklearn.tree import DecisionTreeClassifier\n",
        "\n",
        "# Define the hyperparameters to search over\n",
        "param = {\n",
        "    'max_depth': [3, 5, 7, 10],\n",
        "    'min_samples_split': [2, 5, 10],\n",
        "    'min_samples_leaf': [1, 2, 4],\n",
        "    'criterion': ['gini', 'entropy']\n",
        "}\n",
        "\n",
        "# Create the GridSearchCV object\n",
        "grid_search_dt = GridSearchCV(\n",
        "    DecisionTreeClassifier(random_state=42),\n",
        "    param_grid=param,\n",
        "    scoring='accuracy',\n",
        "    cv=5, # Specify the number of folds for cross-validation\n",
        "    n_jobs=-1, # Use all available CPU cores\n",
        ")\n",
        "\n",
        "# Fit the GridSearchCV object on the training set\n",
        "grid_search_dt.fit(X_train, y_train)\n",
        "\n",
        "# Print best hyperparameters and accuracy score\n",
        "print(\"Best hyperparameters:\", grid_search_dt.best_params_)\n",
        "print(\"Best mean accuracy:\", grid_search_dt.best_score_)\n",
        "\n",
        "# Use the best hyperparameters to fit a Decision Tree model\n",
        "DT_best = DecisionTreeClassifier(**grid_search_dt.best_params_, random_state=42)\n",
        "DT_best.fit(X_train, y_train)\n",
        "\n",
        "# Predict the test set labels\n",
        "y_pred = DT_best.predict(X_test)\n",
        "\n",
        "# Compute the accuracy score\n",
        "accuracy = accuracy_score(y_test, y_pred)\n",
        "f1_weighted = f1_score(y_test, y_pred, average='weighted')\n",
        "print('Accuracy:', accuracy)\n",
        "print('f1 score:', f1_weighted)"
      ]
    },
    {
      "cell_type": "markdown",
      "metadata": {
        "id": "ZWcunUPgkPph"
      },
      "source": [
        "# Discussion\n",
        "\n",
        "### Interpreting the result\n",
        "\n",
        "OK, you've given us quite a bit of tech informaiton above, now its time to tell us what to pay attention to in all that.  Think clearly about your results, decide on one main point and 2-4 secondary points you want us to understand. Highlight HOW your results support those points.  You probably want 2-5 sentences per point.\n",
        "\n",
        "### Limitations\n",
        "\n",
        "Are there any problems with the work?  For instance would more data change the nature of the problem? Would it be good to explore more hyperparams than you had time for?   \n",
        "\n",
        "### Ethics & Privacy\n",
        "\n",
        "This project is from an online chess website Lichess, the data is freely available for collection and analysis. In order to address the any ethical concern of privacy, we will delete the Game ID and player ID variables so that there is no way to trace exact players or games, these variables are not important to our data analysis or model selection and will not otherwise affect our project nor the players from which the data is collected. Player ranking might also raise some ethical consideration, but because we are not keeping any identifying information about the player or game their privacy including ranking, will remain protected in our project. The results of this project does not raise any ethical or privacy concerns, but instead might offer players valuable insight to winning games.\n",
        "\n",
        "### Conclusion\n",
        "\n",
        "Reiterate your main point and in just a few sentences tell us how your results support it. Mention how this work would fit in the background/context of other work in this field if you can. Suggest directions for future work if you want to."
      ]
    },
    {
      "cell_type": "markdown",
      "metadata": {
        "id": "-twTstczkPph"
      },
      "source": [
        "# Footnotes\n",
        "\n",
        "<a name=\"lorenznote\"></a>1.[^](#lorenz): The Impact of Artificial Intelligence on the Chess World, Duca Iliescu (2020) https://games.jmir.org/2020/4/e24049/\n",
        "\n",
        "<a name=\"lorenznote\"></a>2.[^](#lorenz): AlphaZero, Zhang & Yu (2020) https://link.springer.com/chapter/10.1007/978-981-15-4095-0_15\n",
        "\n",
        "<a name=\"lorenznote\"></a>3.[^](#lorenz): First Move Advantage in Chess https://en.wikipedia.org/wiki/First-move_advantage_in_chess\n",
        "\n",
        "<a name=\"lorenznote\"></a>4.[^](#lorenz): Which is greater? The number of atoms in the universe or the number of chess moves?, Kiernan https://www.liverpoolmuseums.org.\n"
      ]
    }
  ],
  "metadata": {
    "colab": {
      "provenance": []
    },
    "kernelspec": {
      "display_name": "base",
      "language": "python",
      "name": "python3"
    },
    "language_info": {
      "codemirror_mode": {
        "name": "ipython",
        "version": 3
      },
      "file_extension": ".py",
      "mimetype": "text/x-python",
      "name": "python",
      "nbconvert_exporter": "python",
      "pygments_lexer": "ipython3",
      "version": "3.9.12"
    },
    "vscode": {
      "interpreter": {
        "hash": "816542b303bcc3c493fb585427a92b6ce34089f919f7a11ff6fff4a45161dd92"
      }
    }
  },
  "nbformat": 4,
  "nbformat_minor": 0
}
